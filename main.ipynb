{
 "cells": [
  {
   "cell_type": "markdown",
   "metadata": {
    "id": "2alT8fZUrh-a"
   },
   "source": [
    "# **Exploratory Data Analysis of Zomato Data in Python: Unveiling Insights for Restaurant Success**"
   ]
  },
  {
   "cell_type": "markdown",
   "metadata": {
    "id": "vxyQuO2JJ34M"
   },
   "source": [
    "*For a detailed explanation of the code, check out the **[Medium](https://medium.com/@vijay_sundaram/exploratory-data-analysis-of-zomato-data-in-python-unveiling-insights-for-restaurant-success-0db332f95bab)** article.*"
   ]
  },
  {
   "cell_type": "markdown",
   "metadata": {
    "id": "_xLH2jnebzgN"
   },
   "source": [
    "## **Import Necessary Libraries**"
   ]
  },
  {
   "cell_type": "code",
   "execution_count": 1,
   "metadata": {
    "colab": {
     "base_uri": "https://localhost:8080/"
    },
    "id": "M6gQsm_Ob5tX",
    "outputId": "936774ea-b9f1-4d9b-b030-839cd48c0c47"
   },
   "outputs": [
    {
     "name": "stdout",
     "output_type": "stream",
     "text": [
      "Collecting fuzzywuzzy\n",
      "  Downloading fuzzywuzzy-0.18.0-py2.py3-none-any.whl.metadata (4.9 kB)\n",
      "Downloading fuzzywuzzy-0.18.0-py2.py3-none-any.whl (18 kB)\n",
      "Installing collected packages: fuzzywuzzy\n",
      "Successfully installed fuzzywuzzy-0.18.0\n"
     ]
    }
   ],
   "source": [
    "#install packages\n",
    "!pip install fuzzywuzzy"
   ]
  },
  {
   "cell_type": "code",
   "execution_count": 2,
   "metadata": {
    "colab": {
     "base_uri": "https://localhost:8080/"
    },
    "id": "S3_VMdxZHGeL",
    "outputId": "b04a6930-f2d8-4716-9bba-1d3454b436bd"
   },
   "outputs": [],
   "source": [
    "# data manipulation\n",
    "import pandas as pd\n",
    "import numpy as np\n",
    "\n",
    "# data visualization\n",
    "import matplotlib.pyplot as plt\n",
    "import seaborn as sns\n",
    "import plotly.express as px\n",
    "\n",
    "#others\n",
    "from fuzzywuzzy import fuzz"
   ]
  },
  {
   "cell_type": "code",
   "execution_count": 3,
   "metadata": {
    "id": "s5FhbUPufne0"
   },
   "outputs": [],
   "source": [
    "# settings\n",
    "pd.set_option('display.max_rows', None)\n",
    "pd.set_option('display.max_columns', None)\n",
    "pd.set_option('display.max_colwidth', None)"
   ]
  },
  {
   "cell_type": "markdown",
   "metadata": {
    "id": "2dzVyX4Mf5-V"
   },
   "source": [
    "## **Read Data**"
   ]
  },
  {
   "cell_type": "code",
   "execution_count": 4,
   "metadata": {
    "id": "75QY9yyGH4w0"
   },
   "outputs": [],
   "source": [
    "# read data\n",
    "df = pd.read_csv(\"./data/zomato_restaurants.csv\")"
   ]
  },
  {
   "cell_type": "code",
   "execution_count": 6,
   "metadata": {
    "colab": {
     "base_uri": "https://localhost:8080/",
     "height": 310
    },
    "id": "voNeZWEOICEF",
    "outputId": "b0653293-8e7c-4668-fb20-9a9f8ad79cf3"
   },
   "outputs": [
    {
     "data": {
      "text/html": [
       "<div>\n",
       "<style scoped>\n",
       "    .dataframe tbody tr th:only-of-type {\n",
       "        vertical-align: middle;\n",
       "    }\n",
       "\n",
       "    .dataframe tbody tr th {\n",
       "        vertical-align: top;\n",
       "    }\n",
       "\n",
       "    .dataframe thead th {\n",
       "        text-align: right;\n",
       "    }\n",
       "</style>\n",
       "<table border=\"1\" class=\"dataframe\">\n",
       "  <thead>\n",
       "    <tr style=\"text-align: right;\">\n",
       "      <th></th>\n",
       "      <th>Restaurant Name</th>\n",
       "      <th>Dining Rating</th>\n",
       "      <th>Delivery Rating</th>\n",
       "      <th>Dining Votes</th>\n",
       "      <th>Delivery Votes</th>\n",
       "      <th>Cuisine</th>\n",
       "      <th>Place Name</th>\n",
       "      <th>City</th>\n",
       "      <th>Item Name</th>\n",
       "      <th>Best Seller</th>\n",
       "      <th>Votes</th>\n",
       "      <th>Prices</th>\n",
       "    </tr>\n",
       "  </thead>\n",
       "  <tbody>\n",
       "    <tr>\n",
       "      <th>0</th>\n",
       "      <td>Doner King</td>\n",
       "      <td>3.9</td>\n",
       "      <td>4.2</td>\n",
       "      <td>39</td>\n",
       "      <td>0</td>\n",
       "      <td>Fast Food</td>\n",
       "      <td>Malakpet</td>\n",
       "      <td>Hyderabad</td>\n",
       "      <td>Platter Kebab Combo</td>\n",
       "      <td>BESTSELLER</td>\n",
       "      <td>84</td>\n",
       "      <td>249.0</td>\n",
       "    </tr>\n",
       "    <tr>\n",
       "      <th>1</th>\n",
       "      <td>Doner King</td>\n",
       "      <td>3.9</td>\n",
       "      <td>4.2</td>\n",
       "      <td>39</td>\n",
       "      <td>0</td>\n",
       "      <td>Fast Food</td>\n",
       "      <td>Malakpet</td>\n",
       "      <td>Hyderabad</td>\n",
       "      <td>Chicken Rumali Shawarma</td>\n",
       "      <td>BESTSELLER</td>\n",
       "      <td>45</td>\n",
       "      <td>129.0</td>\n",
       "    </tr>\n",
       "    <tr>\n",
       "      <th>2</th>\n",
       "      <td>Doner King</td>\n",
       "      <td>3.9</td>\n",
       "      <td>4.2</td>\n",
       "      <td>39</td>\n",
       "      <td>0</td>\n",
       "      <td>Fast Food</td>\n",
       "      <td>Malakpet</td>\n",
       "      <td>Hyderabad</td>\n",
       "      <td>Chicken Tandoori Salad</td>\n",
       "      <td>NaN</td>\n",
       "      <td>39</td>\n",
       "      <td>189.0</td>\n",
       "    </tr>\n",
       "    <tr>\n",
       "      <th>3</th>\n",
       "      <td>Doner King</td>\n",
       "      <td>3.9</td>\n",
       "      <td>4.2</td>\n",
       "      <td>39</td>\n",
       "      <td>0</td>\n",
       "      <td>Fast Food</td>\n",
       "      <td>Malakpet</td>\n",
       "      <td>Hyderabad</td>\n",
       "      <td>Chicken BBQ Salad</td>\n",
       "      <td>BESTSELLER</td>\n",
       "      <td>43</td>\n",
       "      <td>189.0</td>\n",
       "    </tr>\n",
       "    <tr>\n",
       "      <th>4</th>\n",
       "      <td>Doner King</td>\n",
       "      <td>3.9</td>\n",
       "      <td>4.2</td>\n",
       "      <td>39</td>\n",
       "      <td>0</td>\n",
       "      <td>Fast Food</td>\n",
       "      <td>Malakpet</td>\n",
       "      <td>Hyderabad</td>\n",
       "      <td>Special Doner Wrap Combo</td>\n",
       "      <td>MUST TRY</td>\n",
       "      <td>31</td>\n",
       "      <td>205.0</td>\n",
       "    </tr>\n",
       "  </tbody>\n",
       "</table>\n",
       "</div>"
      ],
      "text/plain": [
       "  Restaurant Name  Dining Rating  Delivery Rating  Dining Votes  \\\n",
       "0      Doner King            3.9              4.2            39   \n",
       "1      Doner King            3.9              4.2            39   \n",
       "2      Doner King            3.9              4.2            39   \n",
       "3      Doner King            3.9              4.2            39   \n",
       "4      Doner King            3.9              4.2            39   \n",
       "\n",
       "   Delivery Votes   Cuisine  Place Name        City                 Item Name  \\\n",
       "0               0  Fast Food   Malakpet   Hyderabad       Platter Kebab Combo   \n",
       "1               0  Fast Food   Malakpet   Hyderabad   Chicken Rumali Shawarma   \n",
       "2               0  Fast Food   Malakpet   Hyderabad    Chicken Tandoori Salad   \n",
       "3               0  Fast Food   Malakpet   Hyderabad         Chicken BBQ Salad   \n",
       "4               0  Fast Food   Malakpet   Hyderabad  Special Doner Wrap Combo   \n",
       "\n",
       "  Best Seller  Votes  Prices  \n",
       "0  BESTSELLER     84   249.0  \n",
       "1  BESTSELLER     45   129.0  \n",
       "2         NaN     39   189.0  \n",
       "3  BESTSELLER     43   189.0  \n",
       "4    MUST TRY     31   205.0  "
      ]
     },
     "execution_count": 6,
     "metadata": {},
     "output_type": "execute_result"
    }
   ],
   "source": [
    "# view top 5 rows\n",
    "df.head()"
   ]
  },
  {
   "cell_type": "code",
   "execution_count": 7,
   "metadata": {
    "colab": {
     "base_uri": "https://localhost:8080/"
    },
    "id": "qIL8DoTVID6-",
    "outputId": "a9707811-4ab5-47a5-b892-912715bfda99"
   },
   "outputs": [
    {
     "name": "stdout",
     "output_type": "stream",
     "text": [
      "<class 'pandas.core.frame.DataFrame'>\n",
      "RangeIndex: 123657 entries, 0 to 123656\n",
      "Data columns (total 12 columns):\n",
      " #   Column           Non-Null Count   Dtype  \n",
      "---  ------           --------------   -----  \n",
      " 0   Restaurant Name  123657 non-null  object \n",
      " 1   Dining Rating    91421 non-null   float64\n",
      " 2   Delivery Rating  122377 non-null  float64\n",
      " 3   Dining Votes     123657 non-null  int64  \n",
      " 4   Delivery Votes   123657 non-null  int64  \n",
      " 5   Cuisine          123657 non-null  object \n",
      " 6   Place Name       123657 non-null  object \n",
      " 7   City             123657 non-null  object \n",
      " 8   Item Name        123657 non-null  object \n",
      " 9   Best Seller      27942 non-null   object \n",
      " 10  Votes            123657 non-null  int64  \n",
      " 11  Prices           123657 non-null  float64\n",
      "dtypes: float64(3), int64(3), object(6)\n",
      "memory usage: 11.3+ MB\n"
     ]
    }
   ],
   "source": [
    "# view dataframe info\n",
    "df.info()"
   ]
  },
  {
   "cell_type": "markdown",
   "metadata": {
    "id": "dQe39c9DqKPg"
   },
   "source": [
    "## **Data Preprocessing**"
   ]
  },
  {
   "cell_type": "markdown",
   "metadata": {
    "id": "RjdGAtUWg8hc"
   },
   "source": [
    "### **Change Column Names**"
   ]
  },
  {
   "cell_type": "code",
   "execution_count": 8,
   "metadata": {
    "colab": {
     "base_uri": "https://localhost:8080/"
    },
    "id": "NNnYtbNA24jf",
    "outputId": "bfcacdf6-af0e-4531-fd74-082687a35b5c"
   },
   "outputs": [
    {
     "data": {
      "text/plain": [
       "Index(['Restaurant Name', 'Dining Rating', 'Delivery Rating', 'Dining Votes',\n",
       "       'Delivery Votes', 'Cuisine ', 'Place Name', 'City', 'Item Name',\n",
       "       'Best Seller', 'Votes', 'Prices'],\n",
       "      dtype='object')"
      ]
     },
     "execution_count": 8,
     "metadata": {},
     "output_type": "execute_result"
    }
   ],
   "source": [
    "# check column names\n",
    "df.columns"
   ]
  },
  {
   "cell_type": "code",
   "execution_count": 9,
   "metadata": {
    "id": "tyzG3-wE3x4f"
   },
   "outputs": [],
   "source": [
    "# alter column names\n",
    "df.columns = df.columns.str.strip().str.lower().str.replace(' ', '_')"
   ]
  },
  {
   "cell_type": "code",
   "execution_count": 10,
   "metadata": {
    "id": "EWeNSqLgatVM"
   },
   "outputs": [],
   "source": [
    "# rename \"votes\" column\n",
    "df = df.rename(columns={'votes': 'item_votes'})"
   ]
  },
  {
   "cell_type": "markdown",
   "metadata": {
    "id": "PldGEnImOuZM"
   },
   "source": [
    "### **Check Null Values**"
   ]
  },
  {
   "cell_type": "code",
   "execution_count": 11,
   "metadata": {
    "colab": {
     "base_uri": "https://localhost:8080/"
    },
    "id": "8aYmEwo6IGwl",
    "outputId": "50717279-8491-41e6-8460-1ca4a902b246"
   },
   "outputs": [
    {
     "data": {
      "text/plain": [
       "restaurant_name        0\n",
       "dining_rating      32236\n",
       "delivery_rating     1280\n",
       "dining_votes           0\n",
       "delivery_votes         0\n",
       "cuisine                0\n",
       "place_name             0\n",
       "city                   0\n",
       "item_name              0\n",
       "best_seller        95715\n",
       "item_votes             0\n",
       "prices                 0\n",
       "dtype: int64"
      ]
     },
     "execution_count": 11,
     "metadata": {},
     "output_type": "execute_result"
    }
   ],
   "source": [
    "# check null values\n",
    "df.isnull().sum()"
   ]
  },
  {
   "cell_type": "markdown",
   "metadata": {
    "id": "R_WWG8mAsv1y"
   },
   "source": [
    "**dining_rating, delivery_rating**"
   ]
  },
  {
   "cell_type": "code",
   "execution_count": 12,
   "metadata": {
    "id": "p4MWG3xC1Pu0"
   },
   "outputs": [
    {
     "name": "stderr",
     "output_type": "stream",
     "text": [
      "C:\\Users\\rishi\\AppData\\Local\\Temp\\ipykernel_14092\\2493426351.py:2: FutureWarning: A value is trying to be set on a copy of a DataFrame or Series through chained assignment using an inplace method.\n",
      "The behavior will change in pandas 3.0. This inplace method will never work because the intermediate object on which we are setting values always behaves as a copy.\n",
      "\n",
      "For example, when doing 'df[col].method(value, inplace=True)', try using 'df.method({col: value}, inplace=True)' or df[col] = df[col].method(value) instead, to perform the operation inplace on the original object.\n",
      "\n",
      "\n",
      "  df[\"dining_rating\"].fillna(0, inplace=True)\n",
      "C:\\Users\\rishi\\AppData\\Local\\Temp\\ipykernel_14092\\2493426351.py:3: FutureWarning: A value is trying to be set on a copy of a DataFrame or Series through chained assignment using an inplace method.\n",
      "The behavior will change in pandas 3.0. This inplace method will never work because the intermediate object on which we are setting values always behaves as a copy.\n",
      "\n",
      "For example, when doing 'df[col].method(value, inplace=True)', try using 'df.method({col: value}, inplace=True)' or df[col] = df[col].method(value) instead, to perform the operation inplace on the original object.\n",
      "\n",
      "\n",
      "  df[\"delivery_rating\"].fillna(0, inplace=True)\n"
     ]
    }
   ],
   "source": [
    "# fill null values with 0\n",
    "df[\"dining_rating\"].fillna(0, inplace=True)\n",
    "df[\"delivery_rating\"].fillna(0, inplace=True)"
   ]
  },
  {
   "cell_type": "markdown",
   "metadata": {
    "id": "AGccdo_TtSea"
   },
   "source": [
    "**best_seller**"
   ]
  },
  {
   "cell_type": "code",
   "execution_count": 13,
   "metadata": {
    "colab": {
     "base_uri": "https://localhost:8080/"
    },
    "id": "lw5fVo1C2h2e",
    "outputId": "f5383126-3734-4b9f-b178-8beb71e55f3f"
   },
   "outputs": [
    {
     "data": {
      "text/plain": [
       "best_seller\n",
       "BESTSELLER                  16992\n",
       "MUST TRY                     4151\n",
       "Not eligible for coupons     2440\n",
       "CHEF'S SPECIAL               1822\n",
       "SPICY                        1254\n",
       "Not on Pro                    657\n",
       "NEW                           455\n",
       "SEASONAL                       91\n",
       "Eggless available              34\n",
       "VEGAN                          26\n",
       "GLUTEN FREE                     9\n",
       "FODMAP FRIENDLY                 9\n",
       "DAIRY FREE                      2\n",
       "Name: count, dtype: int64"
      ]
     },
     "execution_count": 13,
     "metadata": {},
     "output_type": "execute_result"
    }
   ],
   "source": [
    "# check value counts\n",
    "df[\"best_seller\"].value_counts()"
   ]
  },
  {
   "cell_type": "code",
   "execution_count": 14,
   "metadata": {
    "id": "I0DqEQbI4fpQ"
   },
   "outputs": [],
   "source": [
    "# encode bestseller as 1, and others as 0\n",
    "df['best_seller'] = np.where(df['best_seller'] == 'BESTSELLER', 1, 0)"
   ]
  },
  {
   "cell_type": "code",
   "execution_count": 15,
   "metadata": {
    "colab": {
     "base_uri": "https://localhost:8080/"
    },
    "id": "Myutz3-f7jbk",
    "outputId": "3882f7cc-f3e8-41b9-9b13-d45d89b9fcab"
   },
   "outputs": [
    {
     "data": {
      "text/plain": [
       "best_seller\n",
       "0    106665\n",
       "1     16992\n",
       "Name: count, dtype: int64"
      ]
     },
     "execution_count": 15,
     "metadata": {},
     "output_type": "execute_result"
    }
   ],
   "source": [
    "# check value counts after encoding\n",
    "df[\"best_seller\"].value_counts()"
   ]
  },
  {
   "cell_type": "code",
   "execution_count": 16,
   "metadata": {
    "colab": {
     "base_uri": "https://localhost:8080/"
    },
    "id": "We-5_-rO7foq",
    "outputId": "818acbeb-5798-4896-aa03-da93f1840694"
   },
   "outputs": [
    {
     "data": {
      "text/plain": [
       "restaurant_name    0\n",
       "dining_rating      0\n",
       "delivery_rating    0\n",
       "dining_votes       0\n",
       "delivery_votes     0\n",
       "cuisine            0\n",
       "place_name         0\n",
       "city               0\n",
       "item_name          0\n",
       "best_seller        0\n",
       "item_votes         0\n",
       "prices             0\n",
       "dtype: int64"
      ]
     },
     "execution_count": 16,
     "metadata": {},
     "output_type": "execute_result"
    }
   ],
   "source": [
    "# check null values after the changes\n",
    "df.isnull().sum()"
   ]
  },
  {
   "cell_type": "markdown",
   "metadata": {
    "id": "MjQPPnt8_X4o"
   },
   "source": [
    "### **Check Duplicate Values**"
   ]
  },
  {
   "cell_type": "code",
   "execution_count": 17,
   "metadata": {
    "colab": {
     "base_uri": "https://localhost:8080/",
     "height": 417
    },
    "id": "BSQWYYga_h6y",
    "outputId": "1550d5f9-cac0-41b5-9f57-774671b45cf2"
   },
   "outputs": [
    {
     "data": {
      "text/html": [
       "<div>\n",
       "<style scoped>\n",
       "    .dataframe tbody tr th:only-of-type {\n",
       "        vertical-align: middle;\n",
       "    }\n",
       "\n",
       "    .dataframe tbody tr th {\n",
       "        vertical-align: top;\n",
       "    }\n",
       "\n",
       "    .dataframe thead th {\n",
       "        text-align: right;\n",
       "    }\n",
       "</style>\n",
       "<table border=\"1\" class=\"dataframe\">\n",
       "  <thead>\n",
       "    <tr style=\"text-align: right;\">\n",
       "      <th></th>\n",
       "      <th>restaurant_name</th>\n",
       "      <th>dining_rating</th>\n",
       "      <th>delivery_rating</th>\n",
       "      <th>dining_votes</th>\n",
       "      <th>delivery_votes</th>\n",
       "      <th>cuisine</th>\n",
       "      <th>place_name</th>\n",
       "      <th>city</th>\n",
       "      <th>item_name</th>\n",
       "      <th>best_seller</th>\n",
       "      <th>item_votes</th>\n",
       "      <th>prices</th>\n",
       "    </tr>\n",
       "  </thead>\n",
       "  <tbody>\n",
       "    <tr>\n",
       "      <th>15</th>\n",
       "      <td>Doner King</td>\n",
       "      <td>3.9</td>\n",
       "      <td>4.2</td>\n",
       "      <td>39</td>\n",
       "      <td>0</td>\n",
       "      <td>Fast Food</td>\n",
       "      <td>Malakpet</td>\n",
       "      <td>Hyderabad</td>\n",
       "      <td>Platter Kebab Combo</td>\n",
       "      <td>1</td>\n",
       "      <td>84</td>\n",
       "      <td>249.0</td>\n",
       "    </tr>\n",
       "    <tr>\n",
       "      <th>16</th>\n",
       "      <td>Doner King</td>\n",
       "      <td>3.9</td>\n",
       "      <td>4.2</td>\n",
       "      <td>39</td>\n",
       "      <td>0</td>\n",
       "      <td>Fast Food</td>\n",
       "      <td>Malakpet</td>\n",
       "      <td>Hyderabad</td>\n",
       "      <td>Special Platter Kebab Combo</td>\n",
       "      <td>1</td>\n",
       "      <td>27</td>\n",
       "      <td>279.0</td>\n",
       "    </tr>\n",
       "    <tr>\n",
       "      <th>18</th>\n",
       "      <td>Doner King</td>\n",
       "      <td>3.9</td>\n",
       "      <td>4.2</td>\n",
       "      <td>39</td>\n",
       "      <td>0</td>\n",
       "      <td>Fast Food</td>\n",
       "      <td>Malakpet</td>\n",
       "      <td>Hyderabad</td>\n",
       "      <td>Special Doner Wrap Combo</td>\n",
       "      <td>0</td>\n",
       "      <td>31</td>\n",
       "      <td>205.0</td>\n",
       "    </tr>\n",
       "    <tr>\n",
       "      <th>19</th>\n",
       "      <td>Doner King</td>\n",
       "      <td>3.9</td>\n",
       "      <td>4.2</td>\n",
       "      <td>39</td>\n",
       "      <td>0</td>\n",
       "      <td>Fast Food</td>\n",
       "      <td>Malakpet</td>\n",
       "      <td>Hyderabad</td>\n",
       "      <td>Chicken Tandoori Salad</td>\n",
       "      <td>0</td>\n",
       "      <td>39</td>\n",
       "      <td>189.0</td>\n",
       "    </tr>\n",
       "    <tr>\n",
       "      <th>20</th>\n",
       "      <td>Doner King</td>\n",
       "      <td>3.9</td>\n",
       "      <td>4.2</td>\n",
       "      <td>39</td>\n",
       "      <td>0</td>\n",
       "      <td>Fast Food</td>\n",
       "      <td>Malakpet</td>\n",
       "      <td>Hyderabad</td>\n",
       "      <td>Chicken BBQ Salad</td>\n",
       "      <td>1</td>\n",
       "      <td>43</td>\n",
       "      <td>189.0</td>\n",
       "    </tr>\n",
       "  </tbody>\n",
       "</table>\n",
       "</div>"
      ],
      "text/plain": [
       "   restaurant_name  dining_rating  delivery_rating  dining_votes  \\\n",
       "15      Doner King            3.9              4.2            39   \n",
       "16      Doner King            3.9              4.2            39   \n",
       "18      Doner King            3.9              4.2            39   \n",
       "19      Doner King            3.9              4.2            39   \n",
       "20      Doner King            3.9              4.2            39   \n",
       "\n",
       "    delivery_votes    cuisine place_name        city  \\\n",
       "15               0  Fast Food   Malakpet   Hyderabad   \n",
       "16               0  Fast Food   Malakpet   Hyderabad   \n",
       "18               0  Fast Food   Malakpet   Hyderabad   \n",
       "19               0  Fast Food   Malakpet   Hyderabad   \n",
       "20               0  Fast Food   Malakpet   Hyderabad   \n",
       "\n",
       "                      item_name  best_seller  item_votes  prices  \n",
       "15          Platter Kebab Combo            1          84   249.0  \n",
       "16  Special Platter Kebab Combo            1          27   279.0  \n",
       "18     Special Doner Wrap Combo            0          31   205.0  \n",
       "19       Chicken Tandoori Salad            0          39   189.0  \n",
       "20            Chicken BBQ Salad            1          43   189.0  "
      ]
     },
     "execution_count": 17,
     "metadata": {},
     "output_type": "execute_result"
    }
   ],
   "source": [
    "# duplicate rows\n",
    "df[df.duplicated()].head()"
   ]
  },
  {
   "cell_type": "code",
   "execution_count": 18,
   "metadata": {
    "colab": {
     "base_uri": "https://localhost:8080/"
    },
    "id": "fanIKMSaO1YW",
    "outputId": "44cbe04f-86c0-495a-a0d9-e6f0ca79258c"
   },
   "outputs": [
    {
     "data": {
      "text/plain": [
       "24523"
      ]
     },
     "execution_count": 18,
     "metadata": {},
     "output_type": "execute_result"
    }
   ],
   "source": [
    "# number of duplicate rows\n",
    "df[df.duplicated()].shape[0]"
   ]
  },
  {
   "cell_type": "code",
   "execution_count": 19,
   "metadata": {
    "colab": {
     "base_uri": "https://localhost:8080/"
    },
    "id": "WShbahuJO6KT",
    "outputId": "c8cbca56-f5e2-42be-9542-64a204debd44"
   },
   "outputs": [
    {
     "name": "stdout",
     "output_type": "stream",
     "text": [
      "(99134, 12)\n"
     ]
    }
   ],
   "source": [
    "# drop duplicates and check dataframe shape\n",
    "df = df.drop_duplicates()\n",
    "print(df.shape)"
   ]
  },
  {
   "cell_type": "markdown",
   "metadata": {
    "id": "rQKl-NitCnXE"
   },
   "source": [
    "### **Check Irregularities in Columns**"
   ]
  },
  {
   "cell_type": "markdown",
   "metadata": {
    "id": "BhdYaYAcCvi-"
   },
   "source": [
    "**restaurant_name**"
   ]
  },
  {
   "cell_type": "code",
   "execution_count": 20,
   "metadata": {
    "colab": {
     "base_uri": "https://localhost:8080/"
    },
    "id": "46JZBedTRHJa",
    "outputId": "63d95e5e-9d2e-4ca1-9ae2-0046772f7615"
   },
   "outputs": [
    {
     "data": {
      "text/plain": [
       "restaurant_name\n",
       "McDonald's                                          1492\n",
       "FreshMenu                                           1011\n",
       "Burger King                                          943\n",
       "Pizza Hut                                            822\n",
       "Domino's Pizza                                       757\n",
       "La Pino'z Pizza                                      721\n",
       "The Momoz Hub                                        670\n",
       "Subway                                               653\n",
       "Savoury Sea Shell                                    566\n",
       "Raj Restaurant                                       525\n",
       "Marky Momos                                          502\n",
       "Capital Multi Cuisine Restaurant                     486\n",
       "Kanha                                                484\n",
       "Casa Blanca                                          481\n",
       "KFC                                                  478\n",
       "Harishankar Veg Restro                               448\n",
       "Urban Biryani                                        432\n",
       "Apoorva Delicacies                                   428\n",
       "Axis Juice                                           393\n",
       "The Chinese Wok                                      376\n",
       "Ritz Classic                                         375\n",
       "Liza Restaurant                                      373\n",
       "WOW! China                                           365\n",
       "Wendy's Burgers                                      364\n",
       "The Momo Factory                                     364\n",
       "Agarwal Caterers                                     363\n",
       "Babal Da Punjabi Dabha                               357\n",
       "Hira Sweets                                          355\n",
       "Roopali Veg                                          348\n",
       "Chowman                                              338\n",
       "Hatari                                               336\n",
       "Faasos - Wraps & Rolls                               336\n",
       "Delhi Zaika                                          330\n",
       "Samco                                                324\n",
       "Prithvi Hotel                                        321\n",
       "Neelkanth Sweets                                     318\n",
       "RK Pure Veg                                          314\n",
       "Rolls Mania                                          310\n",
       "Moti Mahal                                           306\n",
       "Flavours Of China                                    300\n",
       "A2B - Adyar Ananda Bhavan                            298\n",
       "Aromas Cafe & Bistro                                 297\n",
       "Onesta                                               295\n",
       "Keventers - Milkshakes & Desserts                    294\n",
       "WOW! Momo                                            293\n",
       "Santosh Dhaba                                        292\n",
       "Meat And Eat                                         290\n",
       "Blue Nile                                            289\n",
       "Ovenstory Pizza                                      288\n",
       "Chote Nawab                                          288\n",
       "Anju Sweets                                          288\n",
       "Roti Ghar                                            287\n",
       "Sher-E-Punjab                                        287\n",
       "Fayrouz                                              283\n",
       "P. Bhagat Tarachand                                  281\n",
       "Arham                                                280\n",
       "KMS Hakkim Kalyana Biriyani                          279\n",
       "Shree Marutinandan Kathiyawadi Restaurant            278\n",
       "Khana Khazana                                        278\n",
       "Thaal Kitchen                                        277\n",
       "Sip & Bite                                           277\n",
       "Behrouz Biryani                                      275\n",
       "The Hazelnut Factory                                 271\n",
       "Kim Ling Chinese Restaurant                          263\n",
       "Ceylon Bake House                                    261\n",
       "Cafe 555 & Aqeeq Restaurant                          256\n",
       "Wat-a-Burger! - India ka Burger                      255\n",
       "NR - Navaratna Udupi Pure Veg                        251\n",
       "Cream Craver                                         249\n",
       "EatFit                                               248\n",
       "Spice Village                                        248\n",
       "Beijing Bites                                        248\n",
       "Lassi Shop                                           247\n",
       "Mr. Brown - Danbro                                   246\n",
       "Uno Dos Tres                                         246\n",
       "Mughlai Affair                                       245\n",
       "Madhurima Veg                                        244\n",
       "Jhakas Family Restaurant                             243\n",
       "Mathsya                                              242\n",
       "Tan-Sukh By Kanha                                    241\n",
       "Ariena Boutique Hotel                                240\n",
       "Mother's Kitchen                                     239\n",
       "Chidambaram New Moorthy Cafe                         239\n",
       "Shobhaa Only Veg                                     239\n",
       "Lucky Multicuisine Restaurant                        238\n",
       "Rominus Pizza And Burger                             238\n",
       "UBQ by Barbeque Nation                               238\n",
       "Delhi Darbar Dhaba                                   237\n",
       "Ovenfresh                                            236\n",
       "MOJO Pizza - 2X Toppings                             233\n",
       "Hot 100                                              233\n",
       "Rawat Mishthan Bhandar                               233\n",
       "Shah Ghouse Special Shawarma                         232\n",
       "Radhe Restaurants                                    232\n",
       "Keifer                                               232\n",
       "Truffles                                             231\n",
       "Sri Udupi Food Hub                                   229\n",
       "Sangeetha Veg Restaurant - Gandhi Irwin Road         227\n",
       "Sahara Family Restaurant                             226\n",
       "Theobroma                                            225\n",
       "Golden Dragon                                        224\n",
       "New Grand Restaurant & Bakery                        223\n",
       "Little Hut                                           222\n",
       "Aromas Of Biryani                                    222\n",
       "Pavdos Cafe                                          220\n",
       "HSR High Street                                      218\n",
       "Little India                                         217\n",
       "Platform 65                                          217\n",
       "Jal Mahal Ice Cream Parlour                          217\n",
       "Chawla's Restaurant                                  217\n",
       "Hotel Paramount                                      216\n",
       "The Burping Panda                                    216\n",
       "Game Of Spices                                       216\n",
       "Chef's Kitchen                                       216\n",
       "Empire Plaza                                         216\n",
       "Al Faham                                             214\n",
       "Shree Mehfil                                         213\n",
       "Bunk Class                                           213\n",
       "Burger Singh - Big Punjabi Burgers                   211\n",
       "Hotel Shubham Prestige                               210\n",
       "Day 'N' Night                                        210\n",
       "Shah Ghouse Hotel & Restaurant                       207\n",
       "Raasta Cafe                                          206\n",
       "Amritsar Punjab Paratha                              206\n",
       "Zafar's Fine Dine                                    205\n",
       "Nisarga                                              205\n",
       "Purohit Restaurant                                   204\n",
       "Little Italy                                         204\n",
       "Blue Tokai Coffee Roasters                           203\n",
       "Hotel Swagath Grand                                  202\n",
       "Anjappar                                             202\n",
       "Savi Sagar                                           201\n",
       "The Kalika Hut                                       201\n",
       "Shree Santosh Family Dhaba                           200\n",
       "Annamaya                                             199\n",
       "Cafe Niloufer                                        199\n",
       "Crystal Restaurant & Bar                             199\n",
       "Papadams Blue                                        198\n",
       "Marwadi Chaat & Tiffin Services                      196\n",
       "Hotel Karavali Food Point                            195\n",
       "1944 -The HOCCO Kitchen                              192\n",
       "Dimsum Momo Express                                  192\n",
       "Daily Sushi                                          192\n",
       "Shivam Classic                                       190\n",
       "The Matka Biryani                                    187\n",
       "Spice 9 Restaurant                                   187\n",
       "Aroma's Hyderabad House                              186\n",
       "Choudhary Dhaba                                      186\n",
       "Mario's                                              185\n",
       "Choice Only Veg                                      184\n",
       "Nxtdoor                                              183\n",
       "Navrang Restaurant                                   183\n",
       "Cheers                                               181\n",
       "Grand Hotel                                          180\n",
       "Karachi Sweet Mart                                   180\n",
       "Wendy's                                              179\n",
       "Cheelizza - India Ka Pizza                           179\n",
       "Creams N Caffeine                                    178\n",
       "I Love Haldiram                                      178\n",
       "Hotel Sennthur                                       178\n",
       "Richi Rich                                           176\n",
       "Anjoy Latenight Meals                                176\n",
       "George Restaurant                                    175\n",
       "Buhari Vintage Hotel                                 175\n",
       "Gajanand Pauva House                                 174\n",
       "New Paul Dhaba Veggie Hub                            174\n",
       "The Chef Company                                     174\n",
       "Karnavati Snacks                                     174\n",
       "Pizza Studio                                         172\n",
       "Pista House - Premium Lounge                         171\n",
       "Maharaja Restaurant                                  170\n",
       "Balaji Santosh Family Dhaba                          169\n",
       "Fried Chicken Wala                                   169\n",
       "Pai Brothers Fast Food                               169\n",
       "Sardaar Ji Chicken Co.                               168\n",
       "Pokket Cafe                                          167\n",
       "Basant Dhaba                                         167\n",
       "Kanji                                                166\n",
       "Dum Safar Biryani                                    166\n",
       "Gokul Refreshment                                    165\n",
       "Momo I Am                                            164\n",
       "Pai Brothers 36 Varities Of Dosa                     164\n",
       "Xero Degrees                                         163\n",
       "Surabhi Grand                                        163\n",
       "Ambur Star Briyani                                   163\n",
       "Cafe 17                                              162\n",
       "The Mohalla                                          162\n",
       "CakeZone                                             162\n",
       "Toscano                                              160\n",
       "Exotica                                              160\n",
       "Hot Pizza Ace                                        159\n",
       "Jassi De Parathe                                     159\n",
       "Hashtag Foods                                        159\n",
       "Tandoor -3 Family Dhaba                              158\n",
       "Shivam Bhojnalay                                     158\n",
       "99 Pancakes                                          158\n",
       "Nimrah Restaurant                                    157\n",
       "The Kebabish                                         157\n",
       "BOX8 - Desi Meals                                    157\n",
       "Mayur Pan House                                      157\n",
       "Chinese Wok                                          156\n",
       "Hotel Hyderabadi                                     156\n",
       "Tossin Pizza                                         156\n",
       "Razakhiya Hotel                                      155\n",
       "NIC Ice Creams                                       155\n",
       "Boojee Cafe                                          155\n",
       "Italian Pizzeria                                     155\n",
       "New Santosh Dhaba                                    154\n",
       "PFZ                                                  154\n",
       "Mehfil                                               154\n",
       "Lassi N Cafe                                         153\n",
       "Edabba                                               153\n",
       "Paparizza - Woodfired Pizzas                         153\n",
       "Sethi Bar-Be-Que                                     153\n",
       "Arsalan                                              152\n",
       "Atlanta  Family Resto And Bar                        152\n",
       "Lulu Hypermarket                                     151\n",
       "Baskin Robbins - Ice Cream Desserts                  149\n",
       "Roy Dhaba                                            149\n",
       "Joshis Masala Mantra                                148\n",
       "Tipsy Restaurant                                     148\n",
       "JMD Bakery & Fast Food                               148\n",
       "Thali and More                                       147\n",
       "7 Plates                                             147\n",
       "Ponnusamy Hotel                                      147\n",
       "Potoba                                               146\n",
       "Blue Sea Restaurant                                  146\n",
       "Chung Fa Restaurant                                  145\n",
       "Kataria's                                            145\n",
       "Tipsy Topsy Bakery                                   144\n",
       "Veggie Corner                                        144\n",
       "Brown Sugar                                          144\n",
       "Reena Paul's Kitchen                                 142\n",
       "Nishat Restaurant                                    141\n",
       "Hotel Topform                                        140\n",
       "Mainland China                                       140\n",
       "Burger Farm                                          140\n",
       "Bektash Turkishcafe                                  139\n",
       "Meghana Foods                                        137\n",
       "Meltyway                                             137\n",
       "Cafe 36                                              137\n",
       "Friedisthan                                          137\n",
       "Donut Factory                                        136\n",
       "Bismillah Briyani & Fast Foods                       136\n",
       "Rang De Basanti Dhaba                                135\n",
       "Shanmukha                                            135\n",
       "Junior Kuppanna                                      134\n",
       "Marrakesh                                            134\n",
       "Hari Om Centre                                       134\n",
       "Real Arabia                                          133\n",
       "The Belgian Waffle Co.                               133\n",
       "The Breakfast Cafe                                   133\n",
       "Momo Guy                                             133\n",
       "12 To 12 BBQ                                         132\n",
       "Shero Home Food - Chettinad                          132\n",
       "Hari Om Chole Puri                                   132\n",
       "Alinea Restaurant & Banquet                          132\n",
       "The Fatty Bao                                        132\n",
       "St. Louis Pizza                                      132\n",
       "Grill A Delics                                       131\n",
       "Anand Bhajipav & Pulav Ankurwala                     131\n",
       "99 Variety Dosa & Pav Bhaji                          131\n",
       "Diggin                                               131\n",
       "Al Baik Fast Food                                    130\n",
       "Agarwal's Desi Khana Khazana                         130\n",
       "Chotu's The Food People                              130\n",
       "La Milano Pizzeria                                   130\n",
       "Winners Pizza - Fresh Dough                          130\n",
       "A Balaji Santosh Dhaba                               129\n",
       "Sandwich Jn.                                         128\n",
       "MS Mandi & Shawarma                                  128\n",
       "Let's Eat Bakers                                     128\n",
       "Hari Super Sandwich                                  128\n",
       "Talk Of The Town                                     126\n",
       "Punjabi Tadka                                        126\n",
       "Goa'rmet By The Tiffin Factory                       126\n",
       "Lina's Brickoven Newyork Pizzeria                    126\n",
       "Sodhani Sweets Pvt. Ltd.                             125\n",
       "Karachi Bakery                                       125\n",
       "The Messy Door                                       125\n",
       "Jay Bhavani Vadapav                                  125\n",
       "Mezban                                               125\n",
       "Noodle King                                          124\n",
       "Oye Kiddan                                           123\n",
       "Big Fat Momo                                         123\n",
       "Gokul Oottupura                                      123\n",
       "Tapri By The Corner                                  122\n",
       "Billu Tandooria                                      122\n",
       "Calicut Notebook                                     122\n",
       "Om Food Centre                                       122\n",
       "Oudh 1590                                            121\n",
       "Pizza Bites                                          121\n",
       "Pista House Bakery                                   121\n",
       "Cups & Cones                                         120\n",
       "Alpine Restaurant & Banquet                          120\n",
       "Bikkgane Biryani                                     120\n",
       "Ohh Taco                                             119\n",
       "Apni Rasoi Int                                       119\n",
       "Taj Mughalai                                         119\n",
       "Third Wave Coffee                                    119\n",
       "Delhi Dhaba                                          119\n",
       "The Bahubelly                                        118\n",
       "Gopi Bhog                                            118\n",
       "Ande Ka Funda                                        118\n",
       "Nandini Deluxe                                       118\n",
       "Dindigul Thalappakatti                               117\n",
       "RR62 - Cafe & Kitchen                                117\n",
       "Italian Bay                                          117\n",
       "Sodhani Sweets And Namkeen                           117\n",
       "Chaayos Chai+Snacks=Relax                            117\n",
       "New Freeze Land                                      116\n",
       "Big Bowl                                             116\n",
       "Arabian Dreams                                       115\n",
       "Meal Bowl                                            115\n",
       "Fuel Up                                              115\n",
       "Hoy Punjab                                           114\n",
       "Momo Magic Cafe                                      114\n",
       "Manju Mamta Restaurant                               113\n",
       "Tellicherry Kitchen                                  113\n",
       "Slyce Pizza                                          113\n",
       "Pure Momos                                           112\n",
       "Pizzaport & Cafe                                     112\n",
       "Maharaja Thalis                                      112\n",
       "Writer's Cafe                                        111\n",
       "Shiraz Golden Restaurant                             111\n",
       "New Pankaj - Sandwich & Pani Puri                    111\n",
       "Roll Point                                           111\n",
       "Shivsu Pizza                                         111\n",
       "Wangs Kitchen                                        111\n",
       "Khalids Biriyani                                     110\n",
       "Radhey Lal Sweets                                    110\n",
       "TKS Iyengars                                         110\n",
       "Sheikh Shawarma                                      110\n",
       "KS Bakers                                            109\n",
       "CA's Kitchen                                         109\n",
       "Food Adda                                            109\n",
       "Cafe Amin                                            109\n",
       "Vadilal - Scoop Shop                                 109\n",
       "Chaat Street                                         108\n",
       "Balaram Mullick & Radharaman Mullick Sweets          108\n",
       "Jay Shree Jalaram Parotha House                      107\n",
       "Pizza Olive                                          107\n",
       "Andewalaz                                            107\n",
       "Lucky Restaurant                                     107\n",
       "Saima Restaurant                                     106\n",
       "Havmor Havfunn Ice Cream                             106\n",
       "Firewood Pizza                                       106\n",
       "Barista Coffee                                       105\n",
       "1441 Pizzeria                                        105\n",
       "MS Bakery & Sweets                                   105\n",
       "Reddy's Fast Food                                    104\n",
       "Brik Oven                                            104\n",
       "Goutam's                                             104\n",
       "Sandwich Express                                     103\n",
       "Go Grill                                             103\n",
       "Virasat - E - Curry                                  103\n",
       "The Waffle Bite                                      103\n",
       "The Old Mirchi Biryani                               103\n",
       "Bawarchi                                             103\n",
       "Flavorsome Feasts                                    102\n",
       "The Tea Planet                                       102\n",
       "Chitale Xpress                                       102\n",
       "Dreams Cafe                                          102\n",
       "Texas Burgers                                        101\n",
       "Safe House                                           101\n",
       "Swiss Castle                                         100\n",
       "Kingdoms Pizza                                       100\n",
       "Dine Hill                                            100\n",
       "RNR Biryani - Taste Of 1953                           99\n",
       "Farki                                                 99\n",
       "Chapter One                                           99\n",
       "Mama Mia!                                             99\n",
       "The Pizza Unlimited                                   99\n",
       "Leon's Burgers & Wings                                99\n",
       "LeanCrust Pizza - ThinCrust Experts                   98\n",
       "Sip 'N' Bite's                                        98\n",
       "4M Biryani House                                      98\n",
       "Gusto Pizza                                           98\n",
       "Go Biryan                                             97\n",
       "Big Smokin Burgers                                    96\n",
       "Redaan Restaurant                                     96\n",
       "Mumbaiya Misal & Vadapav                              96\n",
       "Piazza Pizza By Little Italy                          95\n",
       "Kings Kulfi                                           95\n",
       "BBQ Master                                            94\n",
       "MS Bakery                                             94\n",
       "Charcoal Eats - Biryani & Beyond                      94\n",
       "Raffs F9                                              94\n",
       "Scoops Ice Cream                                      94\n",
       "Juno's Pizza - Baking Fresh Since 1974                94\n",
       "Courtallam Border Rahmath Kadai                       93\n",
       "Universal Al Mataam Mandi Kebab & Biryani             93\n",
       "Deva Food Mart                                        93\n",
       "Barbeque Nation                                       93\n",
       "EasyBites by Empire                                   93\n",
       "Martino'z Pizza                                       93\n",
       "Big Daddy's                                           93\n",
       "Kikki's Cafe                                          92\n",
       "Kwality Walls Frozen Dessert and Ice Cream Shop      92\n",
       "Mughal Restaurant                                     92\n",
       "Biggies Burger                                        92\n",
       "Al Baik                                               92\n",
       "Shree Konar Vilas                                     92\n",
       "Ambika Foods                                          92\n",
       "Swadesi Station                                       92\n",
       "PizzaExpress                                          92\n",
       "Urban Khichdi                                         91\n",
       "Namaste Chai                                          91\n",
       "D Pizza Club                                          91\n",
       "Smokin' Joe's                                         91\n",
       "Burger Xpress                                         90\n",
       "Swagth Hotel                                          90\n",
       "Pizza And Burger King                                 90\n",
       "Roy Pizza House                                       89\n",
       "Natural Ice Cream                                     89\n",
       "Zam Zam Briyani                                       89\n",
       "Al Baik Xpress                                        88\n",
       "Unlimited Pizza & Fast Food Corner                    88\n",
       "Victorian Bakery                                      88\n",
       "Khandelwal Dhaba Purana Wala                          88\n",
       "Hello Burger's                                        87\n",
       "Burger Spot                                           87\n",
       "BurgerMan                                             87\n",
       "If Pizza                                              87\n",
       "Balaji Fast Food                                      87\n",
       "Khichdi Etc                                           87\n",
       "Peaberrys                                             87\n",
       "Meera's Kitchen                                       86\n",
       "Kannu Ki Chai                                         86\n",
       "The House Of Momo's                                   86\n",
       "Dadar Social                                          86\n",
       "Vaishnav Dhaba                                        85\n",
       "The Yellow House - The Robot Restaurant               85\n",
       "Maiz Mexican Kitchen                                  85\n",
       "Mishra Bhojanalaya                                    85\n",
       "Sherton Restaurant                                    85\n",
       "Cream Stone Ice Cream                                 85\n",
       "GOPIZZA                                               85\n",
       "Pizza Unlimited                                       84\n",
       "Tite Da Dhaba                                         84\n",
       "Coffee Cream                                          84\n",
       "California Burrito                                    84\n",
       "Kuduk Chicken                                         84\n",
       "Fancy Ice Cream                                       83\n",
       "Raw Squeezed                                          83\n",
       "JBT Jaipur Burger Truck                               83\n",
       "Pista House                                           82\n",
       "Yashwanth Pizza Den                                   82\n",
       "Starbucks Coffee                                      82\n",
       "Chops 'N' Woks                                        82\n",
       "Chill Out                                             82\n",
       "Wowfillss                                             82\n",
       "Galaxy Food Centre                                    82\n",
       "Mother's Meal                                         82\n",
       "Indira Darshini                                       81\n",
       "Jubilee Restaurant                                    81\n",
       "Art Of Dum                                            81\n",
       "Oven Day Pizza                                        81\n",
       "CEE YEM Bakers                                        81\n",
       "The Garam Chulha                                      81\n",
       "Thanjai Veeraswamy                                    81\n",
       "Umiya Annpurna Kathiyawadi                            81\n",
       "The Biryani Inc.                                      80\n",
       "Grillin' It                                           80\n",
       "Samriddhi Thali                                       80\n",
       "Sam's Pizza                                           80\n",
       "Jalaram Parotha House                                 80\n",
       "Art Of Biryani                                        80\n",
       "Zam Zam Restaurant                                    80\n",
       "Cafe Durbar AFC                                       80\n",
       "The Lio Pizza                                        80\n",
       "Cafe Ave Maria                                        80\n",
       "Express By ABs                                        79\n",
       "Food Track                                            79\n",
       "Madurai Pandian Mess                                  79\n",
       "Roop Basant Pavitra Bhojnalaya                        79\n",
       "Tapri Pratham                                         79\n",
       "Taj Mahal - Taj Mahal Hotel                           79\n",
       "Sarvi Restaurant                                      78\n",
       "Rattilal's - Sitapur Road                             78\n",
       "Jimis Burger                                          77\n",
       "Living Bowls                                          77\n",
       "Baap Of Rolls                                         77\n",
       "Bell Pepper Pizza                                     77\n",
       "Confusion Box                                         77\n",
       "Jango'z                                               77\n",
       "Adhiya Beef Biriyani                                  77\n",
       "A1 Ambur Briyani & Kababs                             76\n",
       "Sandwich Guru                                         76\n",
       "Rizo Resto                                            76\n",
       "Tower Burger                                          76\n",
       "T Shop - Tea, Snacks & More                           76\n",
       "The Pizza Box                                         76\n",
       "Firangi Bake                                          75\n",
       "NH1 Bowls - Highway To North                          75\n",
       "PVR Café                                              75\n",
       "London Yard Pizza                                     75\n",
       "Shadaan Restaurant                                    75\n",
       "The Thickshake Factory                                75\n",
       "Falooda Nation                                        75\n",
       "RJ Chai Wala                                          74\n",
       "Pizzaman                                              74\n",
       "Madurai Sri Thevar Hotel                              74\n",
       "KGN Xprs                                              74\n",
       "Taco Bell                                             73\n",
       "Iconic Cafe                                           72\n",
       "Momoman                                               72\n",
       "Andhra Gunpowder                                      71\n",
       "Sai Chaap Soya                                        71\n",
       "Peshawar                                              71\n",
       "Binge Box                                             71\n",
       "FPF  Coffee Wale Bhaiya                               71\n",
       "Crispy Studio                                         71\n",
       "The Burger Club                                       71\n",
       "Craving Bites                                         70\n",
       "Hotel N.G.T Non Veg                                   70\n",
       "Jalaram                                               70\n",
       "Rosy Roti                                             70\n",
       "Chili's Grill & Bar                                   70\n",
       "Pizza Wizza                                           70\n",
       "The Pizza Station                                     69\n",
       "Shawarma Nation                                       69\n",
       "Bombay Natural's Pizza & Soya Chaap                   68\n",
       "Prasuma Momo Kitchen                                  68\n",
       "Bar Malim                                             68\n",
       "The Busy Beans                                        68\n",
       "Sharma Chai                                           68\n",
       "Rolls On Wheels                                       67\n",
       "Best Belgian Waffle                                   67\n",
       "FPF Coffee Wale Bhaiya                                67\n",
       "Pizza Baker's                                         67\n",
       "Hotel Shadab                                          67\n",
       "FFC                                                   66\n",
       "The Burger Cafe                                       66\n",
       "Burgs & Fries                                         66\n",
       "Pizza@99                                              66\n",
       "Jugos                                                 66\n",
       "Haka                                                  65\n",
       "Zomoz - The Momo Company                              65\n",
       "Biryani By Kilo                                       65\n",
       "Mr. Burger                                            65\n",
       "Karnavati Dabeli                                      65\n",
       "Goli Rolls And Vada Pav                               65\n",
       "Louis Burger                                          64\n",
       "Ganesh Bhojnalaya                                     64\n",
       "Alibaba                                               64\n",
       "Alkakori                                              64\n",
       "Italio's Pizza                                        64\n",
       "Ghar Ka Khana by EatFit                               63\n",
       "Goofy's Pizza                                         63\n",
       "Shofu - The Momo Man                                  63\n",
       "Puffizza                                              63\n",
       "The Diamond Pizza & Chinese Point                     63\n",
       "Pizza Pie                                             63\n",
       "Laziz Chicken Food Restaurant                         63\n",
       "Manchatti Restaurant                                  63\n",
       "Z K Fry Centre                                        62\n",
       "Sijis Pizza Street                                    62\n",
       "Bedi's Naan House                                     62\n",
       "SP Burger                                             62\n",
       "Balle Balle Delhi Wale Soya Chaap Zone                62\n",
       "Veggiies                                              62\n",
       "Chicago Pizza                                         62\n",
       "MS Food                                               62\n",
       "AB's - Absolute Barbecues                             61\n",
       "Potful - Claypot Biryanis                             61\n",
       "Great Indian Khichdi by EatFit                        61\n",
       "Magnolia Bakery                                       61\n",
       "One By Two                                            61\n",
       "HRX by EatFit                                         61\n",
       "Goila Butter Chicken                                  61\n",
       "Hot N Spicy                                           60\n",
       "Nazeer Foods                                          60\n",
       "Jalaram Sweets And Namkeen                            60\n",
       "Grand Bawarchi Restaurant                             60\n",
       "SLAY Coffee                                           60\n",
       "Chickpet Donne Biryani House                          60\n",
       "Pawan Sweet & Bhojnalay                               60\n",
       "Tuday Kebabi                                          59\n",
       "Chaitanya                                             59\n",
       "The Good Bowl                                         58\n",
       "Chicking                                              58\n",
       "Eating Circles                                        58\n",
       "Food Darzee                                           58\n",
       "TFC - The Food Club                                   58\n",
       "IBC (Indian Biryani Company)                          57\n",
       "The Royal Rucchik Restaurant                          57\n",
       "Pathaan Sir                                           56\n",
       "Shap Food Restaurant                                  56\n",
       "Dip N Bite                                            56\n",
       "Dangee Dums                                           56\n",
       "Mealful Rolls - India's Biggest Rolls                 55\n",
       "Mini Punjabi                                          55\n",
       "Unlimited Pizza and Fast Food Corner                  55\n",
       "Red Bucket Biryani                                    55\n",
       "Swat Pizza                                            55\n",
       "Pizza Bar                                             55\n",
       "Shawarma Kings                                        55\n",
       "King Of Burger                                        54\n",
       "Juicy                                                 54\n",
       "Pizza Cave                                            54\n",
       "The Hunger Box                                        53\n",
       "Thalairaj Biryani                                     53\n",
       "Burger Shack                                          53\n",
       "Hotel Nayaab                                          53\n",
       "Burgerino                                             52\n",
       "Eagle Bites Pizza                                     52\n",
       "Farzi Cafe                                            52\n",
       "Quick Snacks                                          52\n",
       "Francescos Pizzeria                                  52\n",
       "NOTO - Healthy Ice Cream                              52\n",
       "Laziz Pizza                                           52\n",
       "New Bombay Sandwich Burger & Pizza                    51\n",
       "RP's Pizzeria                                         51\n",
       "Roll Express                                          50\n",
       "HL Frankie                                            50\n",
       "Govind Dosa                                           50\n",
       "ICP Italian Crust Pizza                               50\n",
       "Barrack's Grill                                       49\n",
       "Vadilal Ice Creams                                    49\n",
       "Captain Chick                                         49\n",
       "Good Flippin' Burgers                                 49\n",
       "Hotel Rumaan                                          49\n",
       "Just A Sec                                            48\n",
       "Old Al - Baik                                         48\n",
       "Square Thali                                          48\n",
       "The Kati Roll Shop                                    48\n",
       "Hil Pizza                                             48\n",
       "Royal Indian Hotel  - Since 1905                      48\n",
       "Hyderabadi Laziz                                      48\n",
       "Salem RR Biriyani Unavagam                            48\n",
       "RollsKing                                             48\n",
       "Bucket Biryani                                        47\n",
       "Kreamz                                                47\n",
       "Nino Burgers                                          47\n",
       "Goyaan                                                46\n",
       "Saparito Pizza                                        46\n",
       "Kathi Junction                                        46\n",
       "Atom-Bomb Quality Kitchen                             46\n",
       "Pizza Pool                                            46\n",
       "Hot Chemistry- Indian Heritage Hotel                  46\n",
       "MH 12 Pav Bhaji                                       45\n",
       "Gopaljee Cafe                                         45\n",
       "Cafe Cilantro                                         45\n",
       "The Oven                                              44\n",
       "Pizza Tune                                            44\n",
       "Late Night Biryani                                    44\n",
       "MRCB                                                  44\n",
       "Speak Burgers by Vicky Ratnani                        44\n",
       "KGN Chicken Corner & Biryani Center                   43\n",
       "Nukkad Cafe                                           43\n",
       "Pizza @90                                             43\n",
       "Chai Govindam                                         43\n",
       "U & Me Soya Chaap                                     43\n",
       "Pizza Pandey                                          43\n",
       "Bole To Vadapav                                       42\n",
       "Ambaram Fast Food                                     42\n",
       "Haji Ebrahim                                          42\n",
       "Burger Lane                                           42\n",
       "Beyondburg Inc                                        41\n",
       "The Grand Thakar                                      41\n",
       "Hundo Pizza                                           41\n",
       "Fried Chicken Destination                             41\n",
       "The Wrap House                                        41\n",
       "The High Joint                                        40\n",
       "Supreme Sandwich Corner                               40\n",
       "Mum Mai                                               40\n",
       "Keventers Ice Cream                                   40\n",
       "Meghduth Biryanis                                     39\n",
       "Tea Junction                                          39\n",
       "The Royal Ruchik                                      39\n",
       "Five Star Chicken                                     39\n",
       "Rollick                                               39\n",
       "Shakti - The Sandwich Shop                            38\n",
       "Roasties                                              38\n",
       "Burgeria                                              38\n",
       "Golden Joy                                            38\n",
       "Porkeato De Portico                                   38\n",
       "Ustaad's Kitchen                                      37\n",
       "The Exotic Shawarma                                   37\n",
       "The American Pizza                                    37\n",
       "Oyalo Pizza                                           37\n",
       "Cake Hut                                              37\n",
       "Just Cakes                                            37\n",
       "Pohewala                                              37\n",
       "The Hearth Kitchen                                    37\n",
       "Dastarkhwan                                           36\n",
       "Nazeer Juice Center                                   36\n",
       "Pakiza Restaurant                                     36\n",
       "William John's Pizza                                  36\n",
       "Kwality Walls Frozen Dessert And Ice Cream Shop      36\n",
       "Kunafa World                                          35\n",
       "Pizza@89                                              35\n",
       "Siddique Kabab Centre                                 35\n",
       "Amma Ki Rasoi                                         35\n",
       "Pizza Zone                                            34\n",
       "Puliyogare Point                                      34\n",
       "Wafflez                                               34\n",
       "Goli Vada Pav No. 1                                   34\n",
       "Krispy Kreme                                          34\n",
       "WFC - Wow Fried Chicken                               34\n",
       "Pizzatarian                                           34\n",
       "Hotel Lazeez Al Darbar                                34\n",
       "Sandwich Junction                                     33\n",
       "Cafe Feed Me More                                     33\n",
       "Donne Biriyani Mane                                   33\n",
       "Dakshin Swaad                                         33\n",
       "Just Chaska                                           32\n",
       "Pizza Wala                                            32\n",
       "Doner King                                            32\n",
       "Al Rabea Al Arabi Cafeteria                           32\n",
       "Al Farooj Sonu Kabab                                  32\n",
       "Dindigul Veetu Kalyanam                               32\n",
       "Rumaan Restaurant                                     32\n",
       "Amfah Hotel                                           32\n",
       "Home Town Pizza                                       32\n",
       "Bhosle's Food Court                                   31\n",
       "Lazeez Biryani                                        31\n",
       "Rajdhani                                              31\n",
       "Paratha Club                                          30\n",
       "Iscon Thal                                            30\n",
       "Cafe Rasa                                             30\n",
       "Grab Feast                                            30\n",
       "Arabian Central                                       30\n",
       "P60                                                   30\n",
       "New King Safina Hotel                                 30\n",
       "Grandson Of Tunday Kababi                             29\n",
       "Kwality Wall's Frozen Dessert And Ice Cream Shop      29\n",
       "Starboy Pizza & Shakes                                29\n",
       "Mataam Al Yamani                                      29\n",
       "Burger In Law                                         29\n",
       "Firebirds                                             29\n",
       "Iqbal Cafe                                            28\n",
       "Biriyani Bash                                         28\n",
       "Zeeshan Biryani Corner                                28\n",
       "Paradise Biryani                                      28\n",
       "Blue Sea Tea & Bakery                                 28\n",
       "Taste Of Turkey                                       27\n",
       "Super Star Hazi Biryani                               27\n",
       "Sikkim Jojo                                           27\n",
       "Shawarma Daddy                                        27\n",
       "LA'Pizza Club                                         26\n",
       "Pizza Potter                                          26\n",
       "Paputty's Valsa Cafe                                  26\n",
       "Ashifa Laziz Biryani                                  25\n",
       "Armaani Biryani                                       25\n",
       "Istanbul                                              25\n",
       "Marhaba Shawarma & Wraps                              24\n",
       "Mandi Town                                            24\n",
       "The Dastarkhan                                        24\n",
       "Al Taza                                               24\n",
       "Sudama Bhel                                           23\n",
       "Buhari Special Juice                                  23\n",
       "Ferrara Pizzeria                                      23\n",
       "Riyas Biriyani                                        22\n",
       "BrownBear                                             22\n",
       "Dream Cutlets                                         21\n",
       "Cafe Central                                          21\n",
       "Poi & Rolls Adda                                      21\n",
       "Sam's Pork And Beef                                   20\n",
       "Tasty Tiffin Food Service                             20\n",
       "Woodys Brook                                          20\n",
       "Biryani Hub                                           20\n",
       "Burger - Since 1989                                   20\n",
       "Imperial Bakery - Since 1955                          20\n",
       "Pizza Ricotta                                         19\n",
       "Das Khaman                                            19\n",
       "A-One Bombay Biryani                                  19\n",
       "Grameen Kulfi                                         19\n",
       "Baskin Robbins Happyness Shakes                       18\n",
       "Zaffran Mataam Alarabi                                18\n",
       "Tibet Momo - World Class Pan Asian Cuisine            17\n",
       "Shri Shyam Bhature Wala                               17\n",
       "Pandit Pav Bhaji                                      17\n",
       "Goli Vadapav No.1                                     17\n",
       "Kunafa House                                          17\n",
       "Nellikka Restaurant                                   16\n",
       "Royalz Pepper                                         16\n",
       "Mitra Cafe                                            16\n",
       "Subhan Bakery                                         16\n",
       "Gelatica Gelato - Ice Cream                           16\n",
       "Captain Kunafa                                        15\n",
       "Taj Biryani                                           14\n",
       "Kolkata Famous Kati Roll                              13\n",
       "Cafe Cup Of Joy                                       13\n",
       "Nellikka Cloud Kitchen                                13\n",
       "Hotel Navayuga                                        13\n",
       "Muradabadi Chicken Biryani                            13\n",
       "Ghungroo Seth Vada Pav Company                        13\n",
       "Donne Biryani House                                   12\n",
       "HFC                                                   12\n",
       "Acme Candy Food                                       11\n",
       "Down Town Restaurant & Cafeteria                      11\n",
       "Monginis                                              11\n",
       "Al Akbar Fast Food Corner                             11\n",
       "Patil Misal                                           11\n",
       "Sharma Ji Ki Chai                                     10\n",
       "Cake Destination                                      10\n",
       "Al Rabea Mandi House                                  10\n",
       "Kritunga                                              10\n",
       "Naadbramha Idli                                       10\n",
       "Tibb's Frankie - Serving Rolls Since 1969              9\n",
       "Jai Bhavani Snacks Center                              9\n",
       "New Bombay Biryani                                     9\n",
       "Pitaworks                                              9\n",
       "Garden Vada Pav Centre                                 9\n",
       "Paratha Envy                                           8\n",
       "Karnataka Biryani Point                                8\n",
       "Tea Shack                                              8\n",
       "Madheena Fried Chicken                                 7\n",
       "Mohammedia Shawarma                                    7\n",
       "Copper Chocs                                           7\n",
       "Sukumar Food Court                                     6\n",
       "Basheer Bai Biriyani                                   6\n",
       "Ibrahim Biriyani                                       6\n",
       "Iyer Mess                                              5\n",
       "Al - Hamoor Arabian Restaurant                         4\n",
       "Evoke                                                  4\n",
       "Akbar Fast Food                                        4\n",
       "Gordhan Thaal                                          4\n",
       "Asian Bowls By Zahvi                                   4\n",
       "Arabian Food Court                                     4\n",
       "Lalla Biryani - Since 1985                             4\n",
       "Salkara Xpress By Paragon Group                        3\n",
       "Payasam Kada - Taste Trees                             3\n",
       "Sukanta                                                3\n",
       "Name: count, dtype: int64"
      ]
     },
     "execution_count": 20,
     "metadata": {},
     "output_type": "execute_result"
    }
   ],
   "source": [
    "# check value counts\n",
    "df[\"restaurant_name\"].value_counts()"
   ]
  },
  {
   "cell_type": "code",
   "execution_count": 21,
   "metadata": {
    "id": "sjAz1V1mZVZp"
   },
   "outputs": [],
   "source": [
    "#https://pypi.org/project/fuzzywuzzy/"
   ]
  },
  {
   "cell_type": "code",
   "execution_count": 22,
   "metadata": {
    "colab": {
     "base_uri": "https://localhost:8080/"
    },
    "id": "PZrXjuaeR4or",
    "outputId": "c47e957c-91e9-467c-dbea-82ba8fff2b6d"
   },
   "outputs": [
    {
     "name": "stdout",
     "output_type": "stream",
     "text": [
      "Potential Typos:\n",
      "Similarity: 88% - Names: ('Red Bucket Biryani', 'Bucket Biryani')\n",
      "Similarity: 87% - Names: ('Santosh Dhaba', 'New Santosh Dhaba')\n",
      "Similarity: 98% - Names: ('Kwality Wall\\x92s Frozen Dessert and Ice Cream Shop', \"Kwality Wall's Frozen Dessert And Ice Cream Shop\")\n",
      "Similarity: 100% - Names: ('Kwality Wall\\x92s Frozen Dessert and Ice Cream Shop', 'Kwality Wall\\x92s Frozen Dessert And Ice Cream Shop')\n",
      "Similarity: 88% - Names: ('Akbar Fast Food', 'Ambaram Fast Food')\n",
      "Similarity: 86% - Names: ('Redaan Restaurant', 'Shadaan Restaurant')\n",
      "Similarity: 88% - Names: ('Redaan Restaurant', 'Rumaan Restaurant')\n",
      "Similarity: 88% - Names: ('Sarvi Restaurant', 'Saima Restaurant')\n",
      "Similarity: 88% - Names: ('Sahara Family Restaurant', 'Jhakas Family Restaurant')\n",
      "Similarity: 88% - Names: ('Liza Restaurant', 'Pakiza Restaurant')\n",
      "Similarity: 88% - Names: ('The Pizza Unlimited', 'Pizza Unlimited')\n",
      "Similarity: 94% - Names: ('Unlimited Pizza & Fast Food Corner', 'Unlimited Pizza and Fast Food Corner')\n",
      "Similarity: 98% - Names: ('FPF  Coffee Wale Bhaiya', 'FPF Coffee Wale Bhaiya')\n",
      "Similarity: 98% - Names: (\"Kwality Wall's Frozen Dessert And Ice Cream Shop\", 'Kwality Wall\\x92s Frozen Dessert And Ice Cream Shop')\n",
      "Similarity: 96% - Names: ('Alinea Restaurant & Banquet', 'Alpine Restaurant & Banquet')\n",
      "Similarity: 89% - Names: ('New Bombay Biryani', 'A-One Bombay Biryani')\n",
      "Similarity: 94% - Names: ('Goli Vada Pav No. 1', 'Goli Vadapav No.1')\n",
      "Similarity: 88% - Names: ('Pizza@99', 'Pizza@89')\n"
     ]
    }
   ],
   "source": [
    "# check for typos in names\n",
    "\n",
    "restaurant_names = df[\"restaurant_name\"].unique().tolist() # list of unique restaurant names\n",
    "\n",
    "# initialize a dictionary to store potential typos\n",
    "potential_typos = {}\n",
    "\n",
    "# compare each pair of names\n",
    "for i in range(len(restaurant_names)):\n",
    "    for j in range(i+1, len(restaurant_names)):\n",
    "        similarity = fuzz.ratio(restaurant_names[i].lower(), restaurant_names[j].lower())\n",
    "        if similarity > 85:  # adjust the threshold\n",
    "            potential_typos[(restaurant_names[i], restaurant_names[j])] = similarity\n",
    "\n",
    "# print potential typos\n",
    "print(\"Potential Typos:\")\n",
    "for names, similarity in potential_typos.items():\n",
    "    print(f\"Similarity: {similarity}% - Names: {names}\")"
   ]
  },
  {
   "cell_type": "code",
   "execution_count": 23,
   "metadata": {
    "colab": {
     "base_uri": "https://localhost:8080/",
     "height": 184
    },
    "id": "tjEGb9-kVeaE",
    "outputId": "9d1a3708-bc73-4af4-9b4a-fd967ac57802"
   },
   "outputs": [
    {
     "data": {
      "text/html": [
       "<div>\n",
       "<style scoped>\n",
       "    .dataframe tbody tr th:only-of-type {\n",
       "        vertical-align: middle;\n",
       "    }\n",
       "\n",
       "    .dataframe tbody tr th {\n",
       "        vertical-align: top;\n",
       "    }\n",
       "\n",
       "    .dataframe thead th {\n",
       "        text-align: right;\n",
       "    }\n",
       "</style>\n",
       "<table border=\"1\" class=\"dataframe\">\n",
       "  <thead>\n",
       "    <tr style=\"text-align: right;\">\n",
       "      <th></th>\n",
       "      <th>restaurant_name</th>\n",
       "      <th>dining_rating</th>\n",
       "      <th>delivery_rating</th>\n",
       "      <th>dining_votes</th>\n",
       "      <th>delivery_votes</th>\n",
       "      <th>cuisine</th>\n",
       "      <th>place_name</th>\n",
       "      <th>city</th>\n",
       "      <th>item_name</th>\n",
       "      <th>best_seller</th>\n",
       "      <th>item_votes</th>\n",
       "      <th>prices</th>\n",
       "    </tr>\n",
       "  </thead>\n",
       "  <tbody>\n",
       "    <tr>\n",
       "      <th>4021</th>\n",
       "      <td>Santosh Dhaba</td>\n",
       "      <td>4.3</td>\n",
       "      <td>3.9</td>\n",
       "      <td>0</td>\n",
       "      <td>0</td>\n",
       "      <td>Desserts</td>\n",
       "      <td>Abids</td>\n",
       "      <td>Hyderabad</td>\n",
       "      <td>Paneer Butter Masala</td>\n",
       "      <td>1</td>\n",
       "      <td>281</td>\n",
       "      <td>300.0</td>\n",
       "    </tr>\n",
       "    <tr>\n",
       "      <th>14596</th>\n",
       "      <td>New Santosh Dhaba</td>\n",
       "      <td>4.2</td>\n",
       "      <td>3.7</td>\n",
       "      <td>209</td>\n",
       "      <td>0</td>\n",
       "      <td>Beverages</td>\n",
       "      <td>Begum Bazaar</td>\n",
       "      <td>Hyderabad</td>\n",
       "      <td>All Cool Beverage</td>\n",
       "      <td>0</td>\n",
       "      <td>0</td>\n",
       "      <td>30.0</td>\n",
       "    </tr>\n",
       "  </tbody>\n",
       "</table>\n",
       "</div>"
      ],
      "text/plain": [
       "         restaurant_name  dining_rating  delivery_rating  dining_votes  \\\n",
       "4021       Santosh Dhaba            4.3              3.9             0   \n",
       "14596  New Santosh Dhaba            4.2              3.7           209   \n",
       "\n",
       "       delivery_votes    cuisine    place_name        city  \\\n",
       "4021                0   Desserts         Abids   Hyderabad   \n",
       "14596               0  Beverages  Begum Bazaar   Hyderabad   \n",
       "\n",
       "                  item_name  best_seller  item_votes  prices  \n",
       "4021   Paneer Butter Masala            1         281   300.0  \n",
       "14596     All Cool Beverage            0           0    30.0  "
      ]
     },
     "execution_count": 23,
     "metadata": {},
     "output_type": "execute_result"
    }
   ],
   "source": [
    "# cross check restaurants with similar names\n",
    "df[df[\"restaurant_name\"].isin(['Santosh Dhaba', 'New Santosh Dhaba'])].iloc[[0, -1]]"
   ]
  },
  {
   "cell_type": "code",
   "execution_count": 24,
   "metadata": {
    "colab": {
     "base_uri": "https://localhost:8080/",
     "height": 219
    },
    "id": "LK6amtgOWI_o",
    "outputId": "b0d7c769-7416-41c7-e803-725312b7ab0e"
   },
   "outputs": [
    {
     "data": {
      "text/html": [
       "<div>\n",
       "<style scoped>\n",
       "    .dataframe tbody tr th:only-of-type {\n",
       "        vertical-align: middle;\n",
       "    }\n",
       "\n",
       "    .dataframe tbody tr th {\n",
       "        vertical-align: top;\n",
       "    }\n",
       "\n",
       "    .dataframe thead th {\n",
       "        text-align: right;\n",
       "    }\n",
       "</style>\n",
       "<table border=\"1\" class=\"dataframe\">\n",
       "  <thead>\n",
       "    <tr style=\"text-align: right;\">\n",
       "      <th></th>\n",
       "      <th>restaurant_name</th>\n",
       "      <th>dining_rating</th>\n",
       "      <th>delivery_rating</th>\n",
       "      <th>dining_votes</th>\n",
       "      <th>delivery_votes</th>\n",
       "      <th>cuisine</th>\n",
       "      <th>place_name</th>\n",
       "      <th>city</th>\n",
       "      <th>item_name</th>\n",
       "      <th>best_seller</th>\n",
       "      <th>item_votes</th>\n",
       "      <th>prices</th>\n",
       "    </tr>\n",
       "  </thead>\n",
       "  <tbody>\n",
       "    <tr>\n",
       "      <th>92772</th>\n",
       "      <td>Pizza@99</td>\n",
       "      <td>0.0</td>\n",
       "      <td>3.2</td>\n",
       "      <td>0</td>\n",
       "      <td>578</td>\n",
       "      <td>Fast Food</td>\n",
       "      <td>Rajajinagar</td>\n",
       "      <td>Bangalore</td>\n",
       "      <td>Chicken Corn Delight Pizza [7 inches]</td>\n",
       "      <td>0</td>\n",
       "      <td>0</td>\n",
       "      <td>190.0</td>\n",
       "    </tr>\n",
       "    <tr>\n",
       "      <th>118056</th>\n",
       "      <td>Pizza@89</td>\n",
       "      <td>0.0</td>\n",
       "      <td>3.6</td>\n",
       "      <td>0</td>\n",
       "      <td>0</td>\n",
       "      <td>Pizza</td>\n",
       "      <td>Samta Colony</td>\n",
       "      <td>Raipur</td>\n",
       "      <td>Sitaphal Shake</td>\n",
       "      <td>0</td>\n",
       "      <td>0</td>\n",
       "      <td>89.0</td>\n",
       "    </tr>\n",
       "  </tbody>\n",
       "</table>\n",
       "</div>"
      ],
      "text/plain": [
       "       restaurant_name  dining_rating  delivery_rating  dining_votes  \\\n",
       "92772         Pizza@99            0.0              3.2             0   \n",
       "118056        Pizza@89            0.0              3.6             0   \n",
       "\n",
       "        delivery_votes    cuisine    place_name        city  \\\n",
       "92772              578  Fast Food   Rajajinagar   Bangalore   \n",
       "118056               0      Pizza  Samta Colony      Raipur   \n",
       "\n",
       "                                    item_name  best_seller  item_votes  prices  \n",
       "92772   Chicken Corn Delight Pizza [7 inches]            0           0   190.0  \n",
       "118056                         Sitaphal Shake            0           0    89.0  "
      ]
     },
     "execution_count": 24,
     "metadata": {},
     "output_type": "execute_result"
    }
   ],
   "source": [
    "df[df[\"restaurant_name\"].isin(['Pizza@99', 'Pizza@89'])].iloc[[0, -1]]"
   ]
  },
  {
   "cell_type": "markdown",
   "metadata": {
    "id": "3qOK8kWZDi_Y"
   },
   "source": [
    "**city**"
   ]
  },
  {
   "cell_type": "code",
   "execution_count": 25,
   "metadata": {
    "colab": {
     "base_uri": "https://localhost:8080/"
    },
    "id": "zeMnBQvlbCKq",
    "outputId": "292e0102-6bee-4f17-d532-4ac6f6a225a3"
   },
   "outputs": [
    {
     "data": {
      "text/plain": [
       "city\n",
       "Hyderabad       12746\n",
       "Mumbai          11420\n",
       "Chennai         10931\n",
       "Jaipur          10799\n",
       "Bangalore        9223\n",
       "Ahmedabad        8352\n",
       "Kolkata          6774\n",
       "Pune             6525\n",
       "Raipur           6112\n",
       "Kochi            6065\n",
       "Lucknow          4943\n",
       "New Delhi        2807\n",
       "Goa              2227\n",
       "Banaswadi          85\n",
       "Ulsoor             54\n",
       "Magrath Road       40\n",
       "Malleshwaram       31\n",
       "Name: count, dtype: int64"
      ]
     },
     "execution_count": 25,
     "metadata": {},
     "output_type": "execute_result"
    }
   ],
   "source": [
    "# check value counts\n",
    "df[\"city\"].value_counts()"
   ]
  },
  {
   "cell_type": "code",
   "execution_count": 26,
   "metadata": {
    "id": "S2NBpQWxcLJb"
   },
   "outputs": [],
   "source": [
    "# change city names\n",
    "df['city'] = df['city'].str.replace('Banaswadi|Ulsoor|Magrath Road|Malleshwaram', 'Bangalore', regex=True)"
   ]
  },
  {
   "cell_type": "code",
   "execution_count": 27,
   "metadata": {
    "id": "51fgRhNmdrCa"
   },
   "outputs": [],
   "source": [
    "# strip empty space in \"city\"\n",
    "df['city'] = df['city'].str.strip()"
   ]
  },
  {
   "cell_type": "code",
   "execution_count": 28,
   "metadata": {
    "colab": {
     "base_uri": "https://localhost:8080/"
    },
    "id": "gV0dYT9yf8X2",
    "outputId": "135ba773-a8ee-4954-9301-014939b7548f"
   },
   "outputs": [
    {
     "data": {
      "text/plain": [
       "city\n",
       "Hyderabad    12746\n",
       "Mumbai       11420\n",
       "Chennai      10931\n",
       "Jaipur       10799\n",
       "Bangalore     9433\n",
       "Ahmedabad     8352\n",
       "Kolkata       6774\n",
       "Pune          6525\n",
       "Raipur        6112\n",
       "Kochi         6065\n",
       "Lucknow       4943\n",
       "New Delhi     2807\n",
       "Goa           2227\n",
       "Name: count, dtype: int64"
      ]
     },
     "execution_count": 28,
     "metadata": {},
     "output_type": "execute_result"
    }
   ],
   "source": [
    "# check value counts after changes\n",
    "df[\"city\"].value_counts()"
   ]
  },
  {
   "cell_type": "markdown",
   "metadata": {
    "id": "7tPpoex5EbU-"
   },
   "source": [
    "## **Exploratory Data Analysis (EDA) + Feature Engineering**"
   ]
  },
  {
   "cell_type": "markdown",
   "metadata": {
    "id": "T3e6jkjONGVr"
   },
   "source": [
    "### **1. City Analysis**"
   ]
  },
  {
   "cell_type": "code",
   "execution_count": 29,
   "metadata": {
    "colab": {
     "base_uri": "https://localhost:8080/",
     "height": 407
    },
    "id": "HxyzU2dEnGX6",
    "outputId": "1cfbf8df-9013-48d1-d09e-300ebdb2fdbf"
   },
   "outputs": [
    {
     "name": "stderr",
     "output_type": "stream",
     "text": [
      "C:\\Users\\rishi\\AppData\\Local\\Temp\\ipykernel_14092\\1940063321.py:8: FutureWarning: \n",
      "\n",
      "Passing `palette` without assigning `hue` is deprecated and will be removed in v0.14.0. Assign the `x` variable to `hue` and set `legend=False` for the same effect.\n",
      "\n",
      "  sns.countplot(data=restaurant_city_counts, x='city', palette='viridis')\n"
     ]
    },
    {
     "data": {
      "image/png": "[encoded data removed]",
      "text/plain": [
       "<Figure size 800x400 with 1 Axes>"
      ]
     },
     "metadata": {},
     "output_type": "display_data"
    }
   ],
   "source": [
    "# group by unique restaurants in each city\n",
    "restaurant_city_counts = df.groupby('restaurant_name')['city'].value_counts().sort_values(ascending=False).reset_index(name='frequency')\n",
    "\n",
    "# set plot size\n",
    "plt.figure(figsize=(8,4))\n",
    "\n",
    "# plot countplot\n",
    "sns.countplot(data=restaurant_city_counts, x='city', palette='viridis')\n",
    "\n",
    "# add labels and title\n",
    "plt.title('Frequency of Restaurants per City')\n",
    "plt.xlabel('City')\n",
    "plt.ylabel('Frequency of Restaurants')\n",
    "\n",
    "# rotate x-axis labels for better visibility\n",
    "plt.xticks(rotation=45)\n",
    "\n",
    "# save the plot\n",
    "plt.tight_layout()\n",
    "plt.savefig('1.1.png')\n",
    "\n",
    "# show the plot\n",
    "plt.show()"
   ]
  },
  {
   "cell_type": "code",
   "execution_count": 30,
   "metadata": {
    "id": "-4IglVia2Pxn"
   },
   "outputs": [],
   "source": [
    "# calculate total_votes from dining_votes, delivery_votes, item_votes\n",
    "df[\"total_votes\"] = df[\"dining_votes\"] + df[\"delivery_votes\"] + df[\"item_votes\"]"
   ]
  },
  {
   "cell_type": "code",
   "execution_count": 31,
   "metadata": {
    "colab": {
     "base_uri": "https://localhost:8080/",
     "height": 407
    },
    "id": "VKOSdspjsKho",
    "outputId": "2a2daa1a-fc35-4963-bbb5-db6a44184597"
   },
   "outputs": [
    {
     "name": "stderr",
     "output_type": "stream",
     "text": [
      "C:\\Users\\rishi\\AppData\\Local\\Temp\\ipykernel_14092\\2209186421.py:8: FutureWarning: \n",
      "\n",
      "Passing `palette` without assigning `hue` is deprecated and will be removed in v0.14.0. Assign the `x` variable to `hue` and set `legend=False` for the same effect.\n",
      "\n",
      "  sns.barplot(data=city_votes, x='city', y='total_votes', palette='viridis')\n"
     ]
    },
    {
     "data": {
      "image/png": "[encoded data removed]",
      "text/plain": [
       "<Figure size 800x400 with 1 Axes>"
      ]
     },
     "metadata": {},
     "output_type": "display_data"
    }
   ],
   "source": [
    "# group by city\n",
    "city_votes = df.groupby('city')['total_votes'].sum().sort_values(ascending=False).reset_index()\n",
    "\n",
    "# set plot size\n",
    "plt.figure(figsize=(8,4))\n",
    "\n",
    "# plot barplot\n",
    "sns.barplot(data=city_votes, x='city', y='total_votes', palette='viridis')\n",
    "\n",
    "# add labels and title\n",
    "plt.title('Total Votes by City')\n",
    "plt.xlabel('City')\n",
    "plt.ylabel('Total Votes')\n",
    "\n",
    "# rotate x-axis labels for better visibility\n",
    "plt.xticks(rotation=45)\n",
    "\n",
    "# save the plot\n",
    "plt.tight_layout()\n",
    "plt.savefig('1.2.png')\n",
    "\n",
    "# show the plot\n",
    "plt.show()"
   ]
  },
  {
   "cell_type": "markdown",
   "metadata": {
    "id": "P8t9cI08NPDb"
   },
   "source": [
    "### **2. Cuisine Analysis**"
   ]
  },
  {
   "cell_type": "code",
   "execution_count": 32,
   "metadata": {
    "id": "Mcj3CJ2VF50L"
   },
   "outputs": [],
   "source": [
    "# filter data for Chennai city\n",
    "df_chennai = df[df['city'] == 'Chennai']"
   ]
  },
  {
   "cell_type": "code",
   "execution_count": 33,
   "metadata": {
    "colab": {
     "base_uri": "https://localhost:8080/",
     "height": 407
    },
    "id": "jEs_tP2k_TQk",
    "outputId": "52bf1a75-f633-4809-eece-29627efd5a68"
   },
   "outputs": [
    {
     "name": "stderr",
     "output_type": "stream",
     "text": [
      "C:\\Users\\rishi\\AppData\\Local\\Temp\\ipykernel_14092\\3219487623.py:9: FutureWarning: \n",
      "\n",
      "Passing `palette` without assigning `hue` is deprecated and will be removed in v0.14.0. Assign the `x` variable to `hue` and set `legend=False` for the same effect.\n",
      "\n",
      "  sns.barplot(x=cuisine_value_counts.index, y=cuisine_value_counts.values, palette='viridis')\n"
     ]
    },
    {
     "data": {
      "image/png": "[encoded data removed]",
      "text/plain": [
       "<Figure size 800x400 with 1 Axes>"
      ]
     },
     "metadata": {},
     "output_type": "display_data"
    }
   ],
   "source": [
    "# group by restaurant name and cuisine\n",
    "chennai_cuisine_counts = df_chennai.groupby(['restaurant_name', 'cuisine']).size().reset_index(name='frequency')\n",
    "cuisine_value_counts = chennai_cuisine_counts['cuisine'].value_counts()\n",
    "\n",
    "# set plot size\n",
    "plt.figure(figsize=(8, 4))\n",
    "\n",
    "# plot barplot\n",
    "sns.barplot(x=cuisine_value_counts.index, y=cuisine_value_counts.values, palette='viridis')\n",
    "\n",
    "# add labels and title\n",
    "plt.title('Cuisine Value Counts in Chennai')\n",
    "plt.xlabel('Cuisine')\n",
    "plt.ylabel('Frequency')\n",
    "\n",
    "# rotate x-axis labels for better visibility\n",
    "plt.xticks(rotation=45)\n",
    "\n",
    "# save the plot\n",
    "plt.tight_layout()\n",
    "plt.savefig('2.1.png')\n",
    "\n",
    "# show the plot\n",
    "plt.show()"
   ]
  },
  {
   "cell_type": "code",
   "execution_count": 34,
   "metadata": {
    "colab": {
     "base_uri": "https://localhost:8080/",
     "height": 330
    },
    "id": "Sf28JTII8pFW",
    "outputId": "72714d99-85e4-40dd-9fff-fa1d18944702"
   },
   "outputs": [
    {
     "data": {
      "text/html": [
       "<div>\n",
       "<style scoped>\n",
       "    .dataframe tbody tr th:only-of-type {\n",
       "        vertical-align: middle;\n",
       "    }\n",
       "\n",
       "    .dataframe tbody tr th {\n",
       "        vertical-align: top;\n",
       "    }\n",
       "\n",
       "    .dataframe thead th {\n",
       "        text-align: right;\n",
       "    }\n",
       "</style>\n",
       "<table border=\"1\" class=\"dataframe\">\n",
       "  <thead>\n",
       "    <tr style=\"text-align: right;\">\n",
       "      <th></th>\n",
       "      <th>dining_rating</th>\n",
       "      <th>delivery_rating</th>\n",
       "      <th>dining_votes</th>\n",
       "      <th>delivery_votes</th>\n",
       "      <th>cuisine</th>\n",
       "      <th>place_name</th>\n",
       "      <th>city</th>\n",
       "      <th>item_name</th>\n",
       "      <th>best_seller</th>\n",
       "      <th>item_votes</th>\n",
       "      <th>prices</th>\n",
       "      <th>total_votes</th>\n",
       "    </tr>\n",
       "    <tr>\n",
       "      <th>restaurant_name</th>\n",
       "      <th></th>\n",
       "      <th></th>\n",
       "      <th></th>\n",
       "      <th></th>\n",
       "      <th></th>\n",
       "      <th></th>\n",
       "      <th></th>\n",
       "      <th></th>\n",
       "      <th></th>\n",
       "      <th></th>\n",
       "      <th></th>\n",
       "      <th></th>\n",
       "    </tr>\n",
       "  </thead>\n",
       "  <tbody>\n",
       "    <tr>\n",
       "      <th>Ibrahim Biriyani</th>\n",
       "      <td>3.8</td>\n",
       "      <td>4.0</td>\n",
       "      <td>41</td>\n",
       "      <td>0</td>\n",
       "      <td>Kebab</td>\n",
       "      <td>Kilpauk</td>\n",
       "      <td>Chennai</td>\n",
       "      <td>Chicken 65 Biryani</td>\n",
       "      <td>1</td>\n",
       "      <td>110</td>\n",
       "      <td>160.0</td>\n",
       "      <td>151</td>\n",
       "    </tr>\n",
       "    <tr>\n",
       "      <th>Shawarma Kings</th>\n",
       "      <td>0.0</td>\n",
       "      <td>4.0</td>\n",
       "      <td>0</td>\n",
       "      <td>0</td>\n",
       "      <td>Kebab</td>\n",
       "      <td>Anna Nagar East</td>\n",
       "      <td>Chennai</td>\n",
       "      <td>Classic Chicken Shawarma</td>\n",
       "      <td>1</td>\n",
       "      <td>76</td>\n",
       "      <td>105.0</td>\n",
       "      <td>76</td>\n",
       "    </tr>\n",
       "    <tr>\n",
       "      <th>Taste Of Turkey</th>\n",
       "      <td>0.0</td>\n",
       "      <td>4.3</td>\n",
       "      <td>0</td>\n",
       "      <td>258</td>\n",
       "      <td>Kebab</td>\n",
       "      <td>George Town</td>\n",
       "      <td>Chennai</td>\n",
       "      <td>Barbeque Chicken</td>\n",
       "      <td>0</td>\n",
       "      <td>0</td>\n",
       "      <td>299.0</td>\n",
       "      <td>258</td>\n",
       "    </tr>\n",
       "    <tr>\n",
       "      <th>The Kati Roll Shop</th>\n",
       "      <td>4.2</td>\n",
       "      <td>4.0</td>\n",
       "      <td>422</td>\n",
       "      <td>0</td>\n",
       "      <td>Kebab</td>\n",
       "      <td>Gopalapuram</td>\n",
       "      <td>Chennai</td>\n",
       "      <td>Anda Chicken Roll</td>\n",
       "      <td>1</td>\n",
       "      <td>162</td>\n",
       "      <td>199.0</td>\n",
       "      <td>584</td>\n",
       "    </tr>\n",
       "  </tbody>\n",
       "</table>\n",
       "</div>"
      ],
      "text/plain": [
       "                    dining_rating  delivery_rating  dining_votes  \\\n",
       "restaurant_name                                                    \n",
       "Ibrahim Biriyani              3.8              4.0            41   \n",
       "Shawarma Kings                0.0              4.0             0   \n",
       "Taste Of Turkey               0.0              4.3             0   \n",
       "The Kati Roll Shop            4.2              4.0           422   \n",
       "\n",
       "                    delivery_votes cuisine       place_name     city  \\\n",
       "restaurant_name                                                        \n",
       "Ibrahim Biriyani                 0   Kebab          Kilpauk  Chennai   \n",
       "Shawarma Kings                   0   Kebab  Anna Nagar East  Chennai   \n",
       "Taste Of Turkey                258   Kebab      George Town  Chennai   \n",
       "The Kati Roll Shop               0   Kebab      Gopalapuram  Chennai   \n",
       "\n",
       "                                   item_name  best_seller  item_votes  prices  \\\n",
       "restaurant_name                                                                 \n",
       "Ibrahim Biriyani          Chicken 65 Biryani            1         110   160.0   \n",
       "Shawarma Kings      Classic Chicken Shawarma            1          76   105.0   \n",
       "Taste Of Turkey             Barbeque Chicken            0           0   299.0   \n",
       "The Kati Roll Shop         Anda Chicken Roll            1         162   199.0   \n",
       "\n",
       "                    total_votes  \n",
       "restaurant_name                  \n",
       "Ibrahim Biriyani            151  \n",
       "Shawarma Kings               76  \n",
       "Taste Of Turkey             258  \n",
       "The Kati Roll Shop          584  "
      ]
     },
     "execution_count": 34,
     "metadata": {},
     "output_type": "execute_result"
    }
   ],
   "source": [
    "# display restaurant names for each cuisine\n",
    "df_chennai[df_chennai['cuisine'] == 'Kebab'].groupby('restaurant_name').first()"
   ]
  },
  {
   "cell_type": "code",
   "execution_count": 35,
   "metadata": {
    "colab": {
     "base_uri": "https://localhost:8080/",
     "height": 237
    },
    "id": "A3C4H-_4zNUw",
    "outputId": "49f64099-0050-4aa4-a1eb-ef7958afb16f"
   },
   "outputs": [
    {
     "data": {
      "text/html": [
       "<div>\n",
       "<style scoped>\n",
       "    .dataframe tbody tr th:only-of-type {\n",
       "        vertical-align: middle;\n",
       "    }\n",
       "\n",
       "    .dataframe tbody tr th {\n",
       "        vertical-align: top;\n",
       "    }\n",
       "\n",
       "    .dataframe thead th {\n",
       "        text-align: right;\n",
       "    }\n",
       "</style>\n",
       "<table border=\"1\" class=\"dataframe\">\n",
       "  <thead>\n",
       "    <tr style=\"text-align: right;\">\n",
       "      <th></th>\n",
       "      <th>restaurant_name</th>\n",
       "      <th>item_name</th>\n",
       "    </tr>\n",
       "  </thead>\n",
       "  <tbody>\n",
       "    <tr>\n",
       "      <th>29887</th>\n",
       "      <td>Ibrahim Biriyani</td>\n",
       "      <td>Chicken 65 Biryani</td>\n",
       "    </tr>\n",
       "    <tr>\n",
       "      <th>29888</th>\n",
       "      <td>Ibrahim Biriyani</td>\n",
       "      <td>Chicken Biryani</td>\n",
       "    </tr>\n",
       "    <tr>\n",
       "      <th>29889</th>\n",
       "      <td>Ibrahim Biriyani</td>\n",
       "      <td>Mutton Biryani</td>\n",
       "    </tr>\n",
       "    <tr>\n",
       "      <th>29890</th>\n",
       "      <td>Ibrahim Biriyani</td>\n",
       "      <td>Egg Biryani</td>\n",
       "    </tr>\n",
       "    <tr>\n",
       "      <th>29891</th>\n",
       "      <td>Ibrahim Biriyani</td>\n",
       "      <td>Plain Biryani</td>\n",
       "    </tr>\n",
       "    <tr>\n",
       "      <th>29894</th>\n",
       "      <td>Ibrahim Biriyani</td>\n",
       "      <td>Plain Biryani</td>\n",
       "    </tr>\n",
       "  </tbody>\n",
       "</table>\n",
       "</div>"
      ],
      "text/plain": [
       "        restaurant_name           item_name\n",
       "29887  Ibrahim Biriyani  Chicken 65 Biryani\n",
       "29888  Ibrahim Biriyani     Chicken Biryani\n",
       "29889  Ibrahim Biriyani      Mutton Biryani\n",
       "29890  Ibrahim Biriyani         Egg Biryani\n",
       "29891  Ibrahim Biriyani       Plain Biryani\n",
       "29894  Ibrahim Biriyani       Plain Biryani"
      ]
     },
     "execution_count": 35,
     "metadata": {},
     "output_type": "execute_result"
    }
   ],
   "source": [
    "# check the food item for each restaurant\n",
    "df_chennai[(df_chennai['restaurant_name'] == \"Ibrahim Biriyani\")][[\"restaurant_name\", \"item_name\"]]"
   ]
  },
  {
   "cell_type": "code",
   "execution_count": 36,
   "metadata": {
    "colab": {
     "base_uri": "https://localhost:8080/",
     "height": 140
    },
    "id": "C7iGn2oizVIV",
    "outputId": "72d84a81-54bf-4394-b1da-de0df77e8e6f"
   },
   "outputs": [
    {
     "data": {
      "text/plain": [
       "'\"df.loc[(df[\\'restaurant_name\\'] == \\'The Chef Company\\'), \\'cuisine\\'] = \\'South Indian\\'\\ndf.loc[(df[\\'restaurant_name\\'] == \\'Basheer Bai Biriyani\\'), \\'cuisine\\'] = \"Biryani\"\\ndf.loc[(df[\\'restaurant_name\\'] == \\'Five Star Chicken\\'), \\'cuisine\\'] = \"Fast Food\"\\ndf.loc[(df[\\'restaurant_name\\'] == \\'A2B - Adyar Ananda Bhavan\\'), \\'cuisine\\'] = \"South Indian\"\\ndf.loc[(df[\\'restaurant_name\\'] == \\'Potful - Claypot Biryanis\\'), \\'cuisine\\'] = \"Biryani\"\\ndf.loc[(df[\\'restaurant_name\\'] == \\'Zam Zam Briyani\\'), \\'cuisine\\'] = \"Biryani\"\\ndf.loc[(df[\\'restaurant_name\\'] == \\'Armaani Biryani\\'), \\'cuisine\\'] = \"Biryani\"\\ndf.loc[(df[\\'restaurant_name\\'] == \\'Salem RR Biriyani Unavagam\\'), \\'cuisine\\'] = \"Biryani\"\\ndf.loc[(df[\\'restaurant_name\\'] == \\'WOW! China\\') & (df[\\'city\\'] == \\'Chennai\\'), \\'cuisine\\'] = \\'Chinese\\'\\ndf.loc[(df[\\'restaurant_name\\'] == \\'A1 Ambur Briyani & Kababs\\'), \\'cuisine\\'] = \"Biryani\"\\ndf.loc[(df[\\'restaurant_name\\'] == \\'Khalids Biriyani\\'), \\'cuisine\\'] = \"Biryani\"\\ndf.loc[(df[\\'restaurant_name\\'] == \"Reena Paul\\'s Kitchen\"), \\'cuisine\\'] = \"Kerala\"\\ndf.loc[(df[\\'restaurant_name\\'] == \"Little Hut\"), \\'cuisine\\'] = \"Biryani\"\\ndf.loc[(df[\\'restaurant_name\\'] == \"Madurai Pandian Mess\"), \\'cuisine\\'] = \"South Indian\"\\ndf.loc[(df[\\'restaurant_name\\'] == \"Ibrahim Biriyani\"), \\'cuisine\\'] = \"Biryani\"\\ndf.loc[(df[\\'restaurant_name\\'] == \"The Kati Roll Shop\"), \\'cuisine\\'] = \"Rolls\"\\ndf.loc[(df[\\'restaurant_name\\'] == \\'Keifer\\'), \\'cuisine\\'] = \"Beverages\"\\ndf.loc[(df[\\'restaurant_name\\'] == \"Mathsya\"), \\'cuisine\\'] = \"South Indian\"\\ndf.loc[(df[\\'restaurant_name\\'] == \"Sangeetha Veg Restaurant - Gandhi Irwin Road\"), \\'cuisine\\'] = \"South Indian\"\\ndf.loc[(df[\\'restaurant_name\\'] == \\'The Burger Cafe\\'), \\'cuisine\\'] = \"Fast Food\"\\ndf.loc[(df[\\'restaurant_name\\'] == \\'Ambur Star Briyani\\'), \\'cuisine\\'] = \"Biryani\"\\ndf.loc[(df[\\'restaurant_name\\'] == \\'BBQ Master\\'), \\'cuisine\\'] = \"Chinese\"\\ndf.loc[(df[\\'restaurant_name\\'] == \\'Bismillah Briyani & Fast Foods\\'), \\'cuisine\\'] = \"Biryani\"\\ndf.loc[(df[\\'restaurant_name\\'] == \\'Navrang Restaurant\\'), \\'cuisine\\'] = \"North Indian\"\\ndf.loc[(df[\\'restaurant_name\\'] == \\'Nxtdoor\\'), \\'cuisine\\'] = \"Chinese\"\\ndf.loc[(df[\\'restaurant_name\\'] == \\'Savoury Sea Shell\\'), \\'cuisine\\'] = \"Chinese\"\\ndf.loc[(df[\\'restaurant_name\\'] == \\'Taj Mughalai\\'), \\'cuisine\\'] = \"North Indian\"\\ndf.loc[(df[\\'restaurant_name\\'] == \\'Ambaram Fast Food\\'), \\'cuisine\\'] = \"Fast Food\"\\ndf.loc[(df[\\'restaurant_name\\'] == \\'Little India\\'), \\'cuisine\\'] = \"North Indian\"\\ndf.loc[(df[\\'restaurant_name\\'] == \"AB\\'s - Absolute Barbecues\"), \\'cuisine\\'] = \"BBQ\"\\ndf.loc[(df[\\'restaurant_name\\'] == \"UBQ by Barbeque Nation\"), \\'cuisine\\'] = \"BBQ\"\\ndf.loc[(df[\\'restaurant_name\\'] == \"Domino\\'s Pizza\"), \\'cuisine\\'] = \"Fast Food\"\\ndf.loc[(df[\\'restaurant_name\\'] == \\'Oyalo Pizza\\'), \\'cuisine\\'] = \"Fast Food\"\\ndf.loc[(df[\\'restaurant_name\\'] == \\'Little Italy\\'), \\'cuisine\\'] = \"Fast Food\"\\ndf.loc[(df[\\'restaurant_name\\'] == \"Shero Home Food - Chettinad\"), \\'cuisine\\'] = \"South Indian\"\\ndf.loc[(df[\\'restaurant_name\\'] == \\'The Old Mirchi Biryani\\'), \\'cuisine\\'] = \"Biryani\"\\ndf.loc[(df[\\'restaurant_name\\'] == \\'Wangs Kitchen\\'), \\'cuisine\\'] = \"Chinese\"\\ndf.loc[(df[\\'restaurant_name\\'] == \\'Riyas Biriyani\\'), \\'cuisine\\'] = \"Biryani\"\\ndf.loc[(df[\\'restaurant_name\\'] == \\'Tower Burger\\'), \\'cuisine\\'] = \"Fast Food\"\\ndf.loc[(df[\\'restaurant_name\\'] == \"Writer\\'s Cafe\"), \\'cuisine\\'] = \"Cafe\"\\ndf.loc[(df[\\'restaurant_name\\'] == \"Toscano\"), \\'cuisine\\'] = \"Cafe\"\\ndf.loc[(df[\\'restaurant_name\\'] == \\'The High Joint\\'), \\'cuisine\\'] = \"Fast Food\"\\ndf.loc[(df[\\'restaurant_name\\'] == \"Thanjai Veeraswamy\"), \\'cuisine\\'] = \"South Indian\"\\ndf.loc[(df[\\'restaurant_name\\'] == \"Samco\"), \\'cuisine\\'] = \"South Indian\"\\ndf.loc[(df[\\'restaurant_name\\'] == \\'Ponnusamy Hotel\\'), \\'cuisine\\'] = \"Chinese\"\\ndf.loc[(df[\\'restaurant_name\\'] == \\'Meat And Eat\\'), \\'cuisine\\'] = \"Fast Food\"\\ndf.loc[(df[\\'restaurant_name\\'] == \\'Liza Restaurant\\'), \\'cuisine\\'] = \"North Indian\"\\ndf.loc[(df[\\'restaurant_name\\'] == \\'Kim Ling Chinese Restaurant\\'), \\'cuisine\\'] = \"Chinese\"\\ndf.loc[(df[\\'restaurant_name\\'] == \\'KMS Hakkim Kalyana Biriyani\\'), \\'cuisine\\'] = \"Biryani\"\\ndf.loc[(df[\\'restaurant_name\\'] == \\'Junior Kuppanna\\'), \\'cuisine\\'] = \"South Indian\"\\ndf.loc[(df[\\'restaurant_name\\'] == \\'Hotel Sennthur\\'), \\'cuisine\\'] = \"Fast Food\"\\ndf.loc[(df[\\'restaurant_name\\'] == \\'Hotel Paramount\\'), \\'cuisine\\'] = \"South Indian\"\\ndf.loc[(df[\\'restaurant_name\\'] == \\'Grill A Delics\\'), \\'cuisine\\'] = \"Chinese\"\\ndf.loc[(df[\\'restaurant_name\\'] == \\'Great Indian Khichdi by EatFit\\'), \\'cuisine\\'] = \"North Indian\"\\ndf.loc[(df[\\'restaurant_name\\'] == \\'EatFit\\'), \\'cuisine\\'] = \"North Indian\"\\ndf.loc[(df[\\'restaurant_name\\'] == \\'Delhi Dhaba\\'), \\'cuisine\\'] = \"North Indian\"\\ndf.loc[(df[\\'restaurant_name\\'] == \"Chidambaram New Moorthy Cafe\"), \\'cuisine\\'] = \"Cafe\"\\ndf.loc[(df[\\'restaurant_name\\'] == \"Cafe Amin\"), \\'cuisine\\'] = \"Cafe\"\\ndf.loc[(df[\\'restaurant_name\\'] == \\'BurgerMan\\'), \\'cuisine\\'] = \"Fast Food\"\\ndf.loc[(df[\\'restaurant_name\\'] == \\'Babal Da Punjabi Dabha\\'), \\'cuisine\\'] = \"North Indian\"\\ndf.loc[(df[\\'restaurant_name\\'] == \\'Al Faham\\'), \\'cuisine\\'] = \"Biryani\"\\ndf.loc[(df[\\'restaurant_name\\'] == \\'Al Baik\\'), \\'cuisine\\'] = \"Fast Food\"\\ndf.loc[(df[\\'restaurant_name\\'] == \\'Anjappar\\'), \\'cuisine\\'] = \"South Indian\"\\ndf.loc[(df[\\'restaurant_name\\'] == \\'Buhari Vintage Hotel\\'), \\'cuisine\\'] = \"Biryani\"\\ndf.loc[(df[\\'restaurant_name\\'] == \\'Tibet Momo - World Class Pan Asian Cuisine\\'), \\'cuisine\\'] = \"Fast Food\"\\ndf.loc[(df[\\'restaurant_name\\'] == \\'The Kati Roll Shop\\'), \\'cuisine\\'] = \"Fast Food\"\\ndf.loc[(df[\\'restaurant_name\\'] == \"Reena Paul\\'s Kitchen\"), \\'cuisine\\'] = \"South Indian\"\\ndf.loc[(df[\\'restaurant_name\\'] == \"Agarwal\\'s Desi Khana Khazana\"), \\'cuisine\\'] = \"North Indian'"
      ]
     },
     "execution_count": 36,
     "metadata": {},
     "output_type": "execute_result"
    }
   ],
   "source": [
    "\"\"\"\"df.loc[(df['restaurant_name'] == 'The Chef Company'), 'cuisine'] = 'South Indian'\n",
    "df.loc[(df['restaurant_name'] == 'Basheer Bai Biriyani'), 'cuisine'] = \"Biryani\"\n",
    "df.loc[(df['restaurant_name'] == 'Five Star Chicken'), 'cuisine'] = \"Fast Food\"\n",
    "df.loc[(df['restaurant_name'] == 'A2B - Adyar Ananda Bhavan'), 'cuisine'] = \"South Indian\"\n",
    "df.loc[(df['restaurant_name'] == 'Potful - Claypot Biryanis'), 'cuisine'] = \"Biryani\"\n",
    "df.loc[(df['restaurant_name'] == 'Zam Zam Briyani'), 'cuisine'] = \"Biryani\"\n",
    "df.loc[(df['restaurant_name'] == 'Armaani Biryani'), 'cuisine'] = \"Biryani\"\n",
    "df.loc[(df['restaurant_name'] == 'Salem RR Biriyani Unavagam'), 'cuisine'] = \"Biryani\"\n",
    "df.loc[(df['restaurant_name'] == 'WOW! China') & (df['city'] == 'Chennai'), 'cuisine'] = 'Chinese'\n",
    "df.loc[(df['restaurant_name'] == 'A1 Ambur Briyani & Kababs'), 'cuisine'] = \"Biryani\"\n",
    "df.loc[(df['restaurant_name'] == 'Khalids Biriyani'), 'cuisine'] = \"Biryani\"\n",
    "df.loc[(df['restaurant_name'] == \"Reena Paul's Kitchen\"), 'cuisine'] = \"Kerala\"\n",
    "df.loc[(df['restaurant_name'] == \"Little Hut\"), 'cuisine'] = \"Biryani\"\n",
    "df.loc[(df['restaurant_name'] == \"Madurai Pandian Mess\"), 'cuisine'] = \"South Indian\"\n",
    "df.loc[(df['restaurant_name'] == \"Ibrahim Biriyani\"), 'cuisine'] = \"Biryani\"\n",
    "df.loc[(df['restaurant_name'] == \"The Kati Roll Shop\"), 'cuisine'] = \"Rolls\"\n",
    "df.loc[(df['restaurant_name'] == 'Keifer'), 'cuisine'] = \"Beverages\"\n",
    "df.loc[(df['restaurant_name'] == \"Mathsya\"), 'cuisine'] = \"South Indian\"\n",
    "df.loc[(df['restaurant_name'] == \"Sangeetha Veg Restaurant - Gandhi Irwin Road\"), 'cuisine'] = \"South Indian\"\n",
    "df.loc[(df['restaurant_name'] == 'The Burger Cafe'), 'cuisine'] = \"Fast Food\"\n",
    "df.loc[(df['restaurant_name'] == 'Ambur Star Briyani'), 'cuisine'] = \"Biryani\"\n",
    "df.loc[(df['restaurant_name'] == 'BBQ Master'), 'cuisine'] = \"Chinese\"\n",
    "df.loc[(df['restaurant_name'] == 'Bismillah Briyani & Fast Foods'), 'cuisine'] = \"Biryani\"\n",
    "df.loc[(df['restaurant_name'] == 'Navrang Restaurant'), 'cuisine'] = \"North Indian\"\n",
    "df.loc[(df['restaurant_name'] == 'Nxtdoor'), 'cuisine'] = \"Chinese\"\n",
    "df.loc[(df['restaurant_name'] == 'Savoury Sea Shell'), 'cuisine'] = \"Chinese\"\n",
    "df.loc[(df['restaurant_name'] == 'Taj Mughalai'), 'cuisine'] = \"North Indian\"\n",
    "df.loc[(df['restaurant_name'] == 'Ambaram Fast Food'), 'cuisine'] = \"Fast Food\"\n",
    "df.loc[(df['restaurant_name'] == 'Little India'), 'cuisine'] = \"North Indian\"\n",
    "df.loc[(df['restaurant_name'] == \"AB's - Absolute Barbecues\"), 'cuisine'] = \"BBQ\"\n",
    "df.loc[(df['restaurant_name'] == \"UBQ by Barbeque Nation\"), 'cuisine'] = \"BBQ\"\n",
    "df.loc[(df['restaurant_name'] == \"Domino's Pizza\"), 'cuisine'] = \"Fast Food\"\n",
    "df.loc[(df['restaurant_name'] == 'Oyalo Pizza'), 'cuisine'] = \"Fast Food\"\n",
    "df.loc[(df['restaurant_name'] == 'Little Italy'), 'cuisine'] = \"Fast Food\"\n",
    "df.loc[(df['restaurant_name'] == \"Shero Home Food - Chettinad\"), 'cuisine'] = \"South Indian\"\n",
    "df.loc[(df['restaurant_name'] == 'The Old Mirchi Biryani'), 'cuisine'] = \"Biryani\"\n",
    "df.loc[(df['restaurant_name'] == 'Wangs Kitchen'), 'cuisine'] = \"Chinese\"\n",
    "df.loc[(df['restaurant_name'] == 'Riyas Biriyani'), 'cuisine'] = \"Biryani\"\n",
    "df.loc[(df['restaurant_name'] == 'Tower Burger'), 'cuisine'] = \"Fast Food\"\n",
    "df.loc[(df['restaurant_name'] == \"Writer's Cafe\"), 'cuisine'] = \"Cafe\"\n",
    "df.loc[(df['restaurant_name'] == \"Toscano\"), 'cuisine'] = \"Cafe\"\n",
    "df.loc[(df['restaurant_name'] == 'The High Joint'), 'cuisine'] = \"Fast Food\"\n",
    "df.loc[(df['restaurant_name'] == \"Thanjai Veeraswamy\"), 'cuisine'] = \"South Indian\"\n",
    "df.loc[(df['restaurant_name'] == \"Samco\"), 'cuisine'] = \"South Indian\"\n",
    "df.loc[(df['restaurant_name'] == 'Ponnusamy Hotel'), 'cuisine'] = \"Chinese\"\n",
    "df.loc[(df['restaurant_name'] == 'Meat And Eat'), 'cuisine'] = \"Fast Food\"\n",
    "df.loc[(df['restaurant_name'] == 'Liza Restaurant'), 'cuisine'] = \"North Indian\"\n",
    "df.loc[(df['restaurant_name'] == 'Kim Ling Chinese Restaurant'), 'cuisine'] = \"Chinese\"\n",
    "df.loc[(df['restaurant_name'] == 'KMS Hakkim Kalyana Biriyani'), 'cuisine'] = \"Biryani\"\n",
    "df.loc[(df['restaurant_name'] == 'Junior Kuppanna'), 'cuisine'] = \"South Indian\"\n",
    "df.loc[(df['restaurant_name'] == 'Hotel Sennthur'), 'cuisine'] = \"Fast Food\"\n",
    "df.loc[(df['restaurant_name'] == 'Hotel Paramount'), 'cuisine'] = \"South Indian\"\n",
    "df.loc[(df['restaurant_name'] == 'Grill A Delics'), 'cuisine'] = \"Chinese\"\n",
    "df.loc[(df['restaurant_name'] == 'Great Indian Khichdi by EatFit'), 'cuisine'] = \"North Indian\"\n",
    "df.loc[(df['restaurant_name'] == 'EatFit'), 'cuisine'] = \"North Indian\"\n",
    "df.loc[(df['restaurant_name'] == 'Delhi Dhaba'), 'cuisine'] = \"North Indian\"\n",
    "df.loc[(df['restaurant_name'] == \"Chidambaram New Moorthy Cafe\"), 'cuisine'] = \"Cafe\"\n",
    "df.loc[(df['restaurant_name'] == \"Cafe Amin\"), 'cuisine'] = \"Cafe\"\n",
    "df.loc[(df['restaurant_name'] == 'BurgerMan'), 'cuisine'] = \"Fast Food\"\n",
    "df.loc[(df['restaurant_name'] == 'Babal Da Punjabi Dabha'), 'cuisine'] = \"North Indian\"\n",
    "df.loc[(df['restaurant_name'] == 'Al Faham'), 'cuisine'] = \"Biryani\"\n",
    "df.loc[(df['restaurant_name'] == 'Al Baik'), 'cuisine'] = \"Fast Food\"\n",
    "df.loc[(df['restaurant_name'] == 'Anjappar'), 'cuisine'] = \"South Indian\"\n",
    "df.loc[(df['restaurant_name'] == 'Buhari Vintage Hotel'), 'cuisine'] = \"Biryani\"\n",
    "df.loc[(df['restaurant_name'] == 'Tibet Momo - World Class Pan Asian Cuisine'), 'cuisine'] = \"Fast Food\"\n",
    "df.loc[(df['restaurant_name'] == 'The Kati Roll Shop'), 'cuisine'] = \"Fast Food\"\n",
    "df.loc[(df['restaurant_name'] == \"Reena Paul's Kitchen\"), 'cuisine'] = \"South Indian\"\n",
    "df.loc[(df['restaurant_name'] == \"Agarwal's Desi Khana Khazana\"), 'cuisine'] = \"North Indian\"\"\"\"\""
   ]
  },
  {
   "cell_type": "code",
   "execution_count": 37,
   "metadata": {
    "id": "i9J0DbdUXZfk"
   },
   "outputs": [],
   "source": [
    "# create a mapping for the incorrect restaurant's cuisine\n",
    "restaurant_cuisine_mapping = {\n",
    "    'The Chef Company': 'South Indian',\n",
    "    'Basheer Bai Biriyani': 'Biryani',\n",
    "    'Five Star Chicken': 'Fast Food',\n",
    "    'A2B - Adyar Ananda Bhavan': 'South Indian',\n",
    "    'Potful - Claypot Biryanis': 'Biryani',\n",
    "    'Zam Zam Briyani': 'Biryani',\n",
    "    'Armaani Biryani': 'Biryani',\n",
    "    'Salem RR Biriyani Unavagam': 'Biryani',\n",
    "    'WOW! China': 'Chinese',\n",
    "    'A1 Ambur Briyani & Kababs': 'Biryani',\n",
    "    'Khalids Biriyani': 'Biryani',\n",
    "    'Little Hut': 'Biryani',\n",
    "    'Madurai Pandian Mess': 'South Indian',\n",
    "    'Ibrahim Biriyani': 'Biryani',\n",
    "    'Keifer': 'Beverages',\n",
    "    'Mathsya': 'South Indian',\n",
    "    'Sangeetha Veg Restaurant - Gandhi Irwin Road': 'South Indian',\n",
    "    'The Burger Cafe': 'Fast Food',\n",
    "    'Ambur Star Briyani': 'Biryani',\n",
    "    'BBQ Master': 'Chinese',\n",
    "    'Bismillah Briyani & Fast Foods': 'Biryani',\n",
    "    'Navrang Restaurant': 'North Indian',\n",
    "    'Nxtdoor': 'Chinese',\n",
    "    'Savoury Sea Shell': 'Chinese',\n",
    "    'Taj Mughalai': 'North Indian',\n",
    "    'Ambaram Fast Food': 'Fast Food',\n",
    "    'Little India': 'North Indian',\n",
    "    \"AB's - Absolute Barbecues\": 'BBQ',\n",
    "    \"UBQ by Barbeque Nation\": 'BBQ',\n",
    "    \"Domino's Pizza\": 'Fast Food',\n",
    "    'Oyalo Pizza': 'Fast Food',\n",
    "    'Little Italy': 'Fast Food',\n",
    "    \"Shero Home Food - Chettinad\": 'South Indian',\n",
    "    'The Old Mirchi Biryani': 'Biryani',\n",
    "    'Wangs Kitchen': 'Chinese',\n",
    "    'Riyas Biriyani': 'Biryani',\n",
    "    'Tower Burger': 'Fast Food',\n",
    "    \"Writer's Cafe\": 'Cafe',\n",
    "    \"Toscano\": 'Cafe',\n",
    "    'The High Joint': 'Fast Food',\n",
    "    \"Thanjai Veeraswamy\": 'South Indian',\n",
    "    \"Samco\": 'South Indian',\n",
    "    'Ponnusamy Hotel': 'Chinese',\n",
    "    'Meat And Eat': 'Fast Food',\n",
    "    'Liza Restaurant': 'North Indian',\n",
    "    'Kim Ling Chinese Restaurant': 'Chinese',\n",
    "    'KMS Hakkim Kalyana Biriyani': 'Biryani',\n",
    "    'Junior Kuppanna': 'South Indian',\n",
    "    'Hotel Sennthur': 'Fast Food',\n",
    "    'Hotel Paramount': 'South Indian',\n",
    "    'Grill A Delics': 'Chinese',\n",
    "    'Great Indian Khichdi by EatFit': 'North Indian',\n",
    "    'EatFit': 'North Indian',\n",
    "    'Delhi Dhaba': 'North Indian',\n",
    "    \"Chidambaram New Moorthy Cafe\": 'Cafe',\n",
    "    \"Cafe Amin\": 'Cafe',\n",
    "    'BurgerMan': 'Fast Food',\n",
    "    'Babal Da Punjabi Dabha': 'North Indian',\n",
    "    'Al Faham': 'Biryani',\n",
    "    'Al Baik': 'Fast Food',\n",
    "    'Anjappar': 'South Indian',\n",
    "    'Buhari Vintage Hotel': 'Biryani',\n",
    "    'Tibet Momo - World Class Pan Asian Cuisine': 'Fast Food',\n",
    "    'The Kati Roll Shop': 'Fast Food',\n",
    "    \"Reena Paul's Kitchen\": 'South Indian',\n",
    "    \"Agarwal's Desi Khana Khazana\": 'North Indian'\n",
    "}\n",
    "\n",
    "for restaurant_name, cuisine in restaurant_cuisine_mapping.items():\n",
    "    df_chennai.loc[df_chennai['restaurant_name'] == restaurant_name, 'cuisine'] = cuisine\n"
   ]
  },
  {
   "cell_type": "code",
   "execution_count": 38,
   "metadata": {
    "colab": {
     "base_uri": "https://localhost:8080/",
     "height": 407
    },
    "id": "-moDA_bl36gF",
    "outputId": "f24b902d-2bf6-4bcb-bfeb-d0ab40722a14"
   },
   "outputs": [
    {
     "name": "stderr",
     "output_type": "stream",
     "text": [
      "C:\\Users\\rishi\\AppData\\Local\\Temp\\ipykernel_14092\\3180544980.py:11: FutureWarning: \n",
      "\n",
      "Passing `palette` without assigning `hue` is deprecated and will be removed in v0.14.0. Assign the `x` variable to `hue` and set `legend=False` for the same effect.\n",
      "\n",
      "  sns.barplot(x=cuisine_value_counts.index, y=cuisine_value_counts.values, palette='viridis')\n"
     ]
    },
    {
     "data": {
      "image/png": "[encoded data removed]",
      "text/plain": [
       "<Figure size 800x400 with 1 Axes>"
      ]
     },
     "metadata": {},
     "output_type": "display_data"
    }
   ],
   "source": [
    "# plot the cuisine value counts again\n",
    "\n",
    "# group by restaurant name and cuisine\n",
    "chennai_cuisine_counts = df_chennai.groupby(['restaurant_name', 'cuisine']).size().reset_index(name='frequency')\n",
    "cuisine_value_counts = chennai_cuisine_counts['cuisine'].value_counts()\n",
    "\n",
    "# set plot size\n",
    "plt.figure(figsize=(8, 4))\n",
    "\n",
    "# plot barplot\n",
    "sns.barplot(x=cuisine_value_counts.index, y=cuisine_value_counts.values, palette='viridis')\n",
    "\n",
    "# add labels and title\n",
    "plt.title('Cuisine Value Counts in Chennai')\n",
    "plt.xlabel('Cuisine')\n",
    "plt.ylabel('Frequency')\n",
    "\n",
    "# rotate x-axis labels for better visibility\n",
    "plt.xticks(rotation=45)\n",
    "\n",
    "# save the plot\n",
    "plt.tight_layout()\n",
    "plt.savefig('2.2.png')\n",
    "\n",
    "# show the plot\n",
    "plt.show()"
   ]
  },
  {
   "cell_type": "code",
   "execution_count": 39,
   "metadata": {
    "colab": {
     "base_uri": "https://localhost:8080/",
     "height": 517
    },
    "id": "VrQZZIlIr56A",
    "outputId": "684f33c2-caa1-4df8-e48f-2d89fb2c1881"
   },
   "outputs": [
    {
     "data": {
      "application/vnd.plotly.v1+json": {
       "config": {
        "plotlyServerURL": "https://plot.ly"
       },
       "data": [
        {
         "alignmentgroup": "True",
         "hovertemplate": "Cuisine=%{x}<br>Restaurant Count=%{y}<br>Total Votes=%{marker.color}<extra></extra>",
         "legendgroup": "",
         "marker": {
          "color": [
           22265,
           98664,
           723945,
           242605,
           833073,
           14024,
           683814,
           7748,
           510910,
           654823
          ],
          "coloraxis": "coloraxis",
          "pattern": {
           "shape": ""
          }
         },
         "name": "",
         "offsetgroup": "",
         "orientation": "v",
         "showlegend": false,
         "textposition": "auto",
         "type": "bar",
         "x": [
          "BBQ",
          "Beverages",
          "Biryani",
          "Cafe",
          "Chinese",
          "Desserts",
          "Fast Food",
          "Kebab",
          "North Indian",
          "South Indian"
         ],
         "xaxis": "x",
         "y": [
          3,
          2,
          21,
          4,
          8,
          1,
          23,
          2,
          9,
          14
         ],
         "yaxis": "y"
        }
       ],
       "layout": {
        "barmode": "relative",
        "coloraxis": {
         "colorbar": {
          "title": {
           "text": "Total Votes"
          }
         },
         "colorscale": [
          [
           0,
           "rgb(165,0,38)"
          ],
          [
           0.1,
           "rgb(215,48,39)"
          ],
          [
           0.2,
           "rgb(244,109,67)"
          ],
          [
           0.3,
           "rgb(253,174,97)"
          ],
          [
           0.4,
           "rgb(254,224,139)"
          ],
          [
           0.5,
           "rgb(255,255,191)"
          ],
          [
           0.6,
           "rgb(217,239,139)"
          ],
          [
           0.7,
           "rgb(166,217,106)"
          ],
          [
           0.8,
           "rgb(102,189,99)"
          ],
          [
           0.9,
           "rgb(26,152,80)"
          ],
          [
           1,
           "rgb(0,104,55)"
          ]
         ]
        },
        "height": 500,
        "legend": {
         "tracegroupgap": 0
        },
        "template": {
         "data": {
          "bar": [
           {
            "error_x": {
             "color": "#2a3f5f"
            },
            "error_y": {
             "color": "#2a3f5f"
            },
            "marker": {
             "line": {
              "color": "#E5ECF6",
              "width": 0.5
             },
             "pattern": {
              "fillmode": "overlay",
              "size": 10,
              "solidity": 0.2
             }
            },
            "type": "bar"
           }
          ],
          "barpolar": [
           {
            "marker": {
             "line": {
              "color": "#E5ECF6",
              "width": 0.5
             },
             "pattern": {
              "fillmode": "overlay",
              "size": 10,
              "solidity": 0.2
             }
            },
            "type": "barpolar"
           }
          ],
          "carpet": [
           {
            "aaxis": {
             "endlinecolor": "#2a3f5f",
             "gridcolor": "white",
             "linecolor": "white",
             "minorgridcolor": "white",
             "startlinecolor": "#2a3f5f"
            },
            "baxis": {
             "endlinecolor": "#2a3f5f",
             "gridcolor": "white",
             "linecolor": "white",
             "minorgridcolor": "white",
             "startlinecolor": "#2a3f5f"
            },
            "type": "carpet"
           }
          ],
          "choropleth": [
           {
            "colorbar": {
             "outlinewidth": 0,
             "ticks": ""
            },
            "type": "choropleth"
           }
          ],
          "contour": [
           {
            "colorbar": {
             "outlinewidth": 0,
             "ticks": ""
            },
            "colorscale": [
             [
              0,
              "#0d0887"
             ],
             [
              0.1111111111111111,
              "#46039f"
             ],
             [
              0.2222222222222222,
              "#7201a8"
             ],
             [
              0.3333333333333333,
              "#9c179e"
             ],
             [
              0.4444444444444444,
              "#bd3786"
             ],
             [
              0.5555555555555556,
              "#d8576b"
             ],
             [
              0.6666666666666666,
              "#ed7953"
             ],
             [
              0.7777777777777778,
              "#fb9f3a"
             ],
             [
              0.8888888888888888,
              "#fdca26"
             ],
             [
              1,
              "#f0f921"
             ]
            ],
            "type": "contour"
           }
          ],
          "contourcarpet": [
           {
            "colorbar": {
             "outlinewidth": 0,
             "ticks": ""
            },
            "type": "contourcarpet"
           }
          ],
          "heatmap": [
           {
            "colorbar": {
             "outlinewidth": 0,
             "ticks": ""
            },
            "colorscale": [
             [
              0,
              "#0d0887"
             ],
             [
              0.1111111111111111,
              "#46039f"
             ],
             [
              0.2222222222222222,
              "#7201a8"
             ],
             [
              0.3333333333333333,
              "#9c179e"
             ],
             [
              0.4444444444444444,
              "#bd3786"
             ],
             [
              0.5555555555555556,
              "#d8576b"
             ],
             [
              0.6666666666666666,
              "#ed7953"
             ],
             [
              0.7777777777777778,
              "#fb9f3a"
             ],
             [
              0.8888888888888888,
              "#fdca26"
             ],
             [
              1,
              "#f0f921"
             ]
            ],
            "type": "heatmap"
           }
          ],
          "heatmapgl": [
           {
            "colorbar": {
             "outlinewidth": 0,
             "ticks": ""
            },
            "colorscale": [
             [
              0,
              "#0d0887"
             ],
             [
              0.1111111111111111,
              "#46039f"
             ],
             [
              0.2222222222222222,
              "#7201a8"
             ],
             [
              0.3333333333333333,
              "#9c179e"
             ],
             [
              0.4444444444444444,
              "#bd3786"
             ],
             [
              0.5555555555555556,
              "#d8576b"
             ],
             [
              0.6666666666666666,
              "#ed7953"
             ],
             [
              0.7777777777777778,
              "#fb9f3a"
             ],
             [
              0.8888888888888888,
              "#fdca26"
             ],
             [
              1,
              "#f0f921"
             ]
            ],
            "type": "heatmapgl"
           }
          ],
          "histogram": [
           {
            "marker": {
             "pattern": {
              "fillmode": "overlay",
              "size": 10,
              "solidity": 0.2
             }
            },
            "type": "histogram"
           }
          ],
          "histogram2d": [
           {
            "colorbar": {
             "outlinewidth": 0,
             "ticks": ""
            },
            "colorscale": [
             [
              0,
              "#0d0887"
             ],
             [
              0.1111111111111111,
              "#46039f"
             ],
             [
              0.2222222222222222,
              "#7201a8"
             ],
             [
              0.3333333333333333,
              "#9c179e"
             ],
             [
              0.4444444444444444,
              "#bd3786"
             ],
             [
              0.5555555555555556,
              "#d8576b"
             ],
             [
              0.6666666666666666,
              "#ed7953"
             ],
             [
              0.7777777777777778,
              "#fb9f3a"
             ],
             [
              0.8888888888888888,
              "#fdca26"
             ],
             [
              1,
              "#f0f921"
             ]
            ],
            "type": "histogram2d"
           }
          ],
          "histogram2dcontour": [
           {
            "colorbar": {
             "outlinewidth": 0,
             "ticks": ""
            },
            "colorscale": [
             [
              0,
              "#0d0887"
             ],
             [
              0.1111111111111111,
              "#46039f"
             ],
             [
              0.2222222222222222,
              "#7201a8"
             ],
             [
              0.3333333333333333,
              "#9c179e"
             ],
             [
              0.4444444444444444,
              "#bd3786"
             ],
             [
              0.5555555555555556,
              "#d8576b"
             ],
             [
              0.6666666666666666,
              "#ed7953"
             ],
             [
              0.7777777777777778,
              "#fb9f3a"
             ],
             [
              0.8888888888888888,
              "#fdca26"
             ],
             [
              1,
              "#f0f921"
             ]
            ],
            "type": "histogram2dcontour"
           }
          ],
          "mesh3d": [
           {
            "colorbar": {
             "outlinewidth": 0,
             "ticks": ""
            },
            "type": "mesh3d"
           }
          ],
          "parcoords": [
           {
            "line": {
             "colorbar": {
              "outlinewidth": 0,
              "ticks": ""
             }
            },
            "type": "parcoords"
           }
          ],
          "pie": [
           {
            "automargin": true,
            "type": "pie"
           }
          ],
          "scatter": [
           {
            "fillpattern": {
             "fillmode": "overlay",
             "size": 10,
             "solidity": 0.2
            },
            "type": "scatter"
           }
          ],
          "scatter3d": [
           {
            "line": {
             "colorbar": {
              "outlinewidth": 0,
              "ticks": ""
             }
            },
            "marker": {
             "colorbar": {
              "outlinewidth": 0,
              "ticks": ""
             }
            },
            "type": "scatter3d"
           }
          ],
          "scattercarpet": [
           {
            "marker": {
             "colorbar": {
              "outlinewidth": 0,
              "ticks": ""
             }
            },
            "type": "scattercarpet"
           }
          ],
          "scattergeo": [
           {
            "marker": {
             "colorbar": {
              "outlinewidth": 0,
              "ticks": ""
             }
            },
            "type": "scattergeo"
           }
          ],
          "scattergl": [
           {
            "marker": {
             "colorbar": {
              "outlinewidth": 0,
              "ticks": ""
             }
            },
            "type": "scattergl"
           }
          ],
          "scattermapbox": [
           {
            "marker": {
             "colorbar": {
              "outlinewidth": 0,
              "ticks": ""
             }
            },
            "type": "scattermapbox"
           }
          ],
          "scatterpolar": [
           {
            "marker": {
             "colorbar": {
              "outlinewidth": 0,
              "ticks": ""
             }
            },
            "type": "scatterpolar"
           }
          ],
          "scatterpolargl": [
           {
            "marker": {
             "colorbar": {
              "outlinewidth": 0,
              "ticks": ""
             }
            },
            "type": "scatterpolargl"
           }
          ],
          "scatterternary": [
           {
            "marker": {
             "colorbar": {
              "outlinewidth": 0,
              "ticks": ""
             }
            },
            "type": "scatterternary"
           }
          ],
          "surface": [
           {
            "colorbar": {
             "outlinewidth": 0,
             "ticks": ""
            },
            "colorscale": [
             [
              0,
              "#0d0887"
             ],
             [
              0.1111111111111111,
              "#46039f"
             ],
             [
              0.2222222222222222,
              "#7201a8"
             ],
             [
              0.3333333333333333,
              "#9c179e"
             ],
             [
              0.4444444444444444,
              "#bd3786"
             ],
             [
              0.5555555555555556,
              "#d8576b"
             ],
             [
              0.6666666666666666,
              "#ed7953"
             ],
             [
              0.7777777777777778,
              "#fb9f3a"
             ],
             [
              0.8888888888888888,
              "#fdca26"
             ],
             [
              1,
              "#f0f921"
             ]
            ],
            "type": "surface"
           }
          ],
          "table": [
           {
            "cells": {
             "fill": {
              "color": "#EBF0F8"
             },
             "line": {
              "color": "white"
             }
            },
            "header": {
             "fill": {
              "color": "#C8D4E3"
             },
             "line": {
              "color": "white"
             }
            },
            "type": "table"
           }
          ]
         },
         "layout": {
          "annotationdefaults": {
           "arrowcolor": "#2a3f5f",
           "arrowhead": 0,
           "arrowwidth": 1
          },
          "autotypenumbers": "strict",
          "coloraxis": {
           "colorbar": {
            "outlinewidth": 0,
            "ticks": ""
           }
          },
          "colorscale": {
           "diverging": [
            [
             0,
             "#8e0152"
            ],
            [
             0.1,
             "#c51b7d"
            ],
            [
             0.2,
             "#de77ae"
            ],
            [
             0.3,
             "#f1b6da"
            ],
            [
             0.4,
             "#fde0ef"
            ],
            [
             0.5,
             "#f7f7f7"
            ],
            [
             0.6,
             "#e6f5d0"
            ],
            [
             0.7,
             "#b8e186"
            ],
            [
             0.8,
             "#7fbc41"
            ],
            [
             0.9,
             "#4d9221"
            ],
            [
             1,
             "#276419"
            ]
           ],
           "sequential": [
            [
             0,
             "#0d0887"
            ],
            [
             0.1111111111111111,
             "#46039f"
            ],
            [
             0.2222222222222222,
             "#7201a8"
            ],
            [
             0.3333333333333333,
             "#9c179e"
            ],
            [
             0.4444444444444444,
             "#bd3786"
            ],
            [
             0.5555555555555556,
             "#d8576b"
            ],
            [
             0.6666666666666666,
             "#ed7953"
            ],
            [
             0.7777777777777778,
             "#fb9f3a"
            ],
            [
             0.8888888888888888,
             "#fdca26"
            ],
            [
             1,
             "#f0f921"
            ]
           ],
           "sequentialminus": [
            [
             0,
             "#0d0887"
            ],
            [
             0.1111111111111111,
             "#46039f"
            ],
            [
             0.2222222222222222,
             "#7201a8"
            ],
            [
             0.3333333333333333,
             "#9c179e"
            ],
            [
             0.4444444444444444,
             "#bd3786"
            ],
            [
             0.5555555555555556,
             "#d8576b"
            ],
            [
             0.6666666666666666,
             "#ed7953"
            ],
            [
             0.7777777777777778,
             "#fb9f3a"
            ],
            [
             0.8888888888888888,
             "#fdca26"
            ],
            [
             1,
             "#f0f921"
            ]
           ]
          },
          "colorway": [
           "#636efa",
           "#EF553B",
           "#00cc96",
           "#ab63fa",
           "#FFA15A",
           "#19d3f3",
           "#FF6692",
           "#B6E880",
           "#FF97FF",
           "#FECB52"
          ],
          "font": {
           "color": "#2a3f5f"
          },
          "geo": {
           "bgcolor": "white",
           "lakecolor": "white",
           "landcolor": "#E5ECF6",
           "showlakes": true,
           "showland": true,
           "subunitcolor": "white"
          },
          "hoverlabel": {
           "align": "left"
          },
          "hovermode": "closest",
          "mapbox": {
           "style": "light"
          },
          "paper_bgcolor": "white",
          "plot_bgcolor": "#E5ECF6",
          "polar": {
           "angularaxis": {
            "gridcolor": "white",
            "linecolor": "white",
            "ticks": ""
           },
           "bgcolor": "#E5ECF6",
           "radialaxis": {
            "gridcolor": "white",
            "linecolor": "white",
            "ticks": ""
           }
          },
          "scene": {
           "xaxis": {
            "backgroundcolor": "#E5ECF6",
            "gridcolor": "white",
            "gridwidth": 2,
            "linecolor": "white",
            "showbackground": true,
            "ticks": "",
            "zerolinecolor": "white"
           },
           "yaxis": {
            "backgroundcolor": "#E5ECF6",
            "gridcolor": "white",
            "gridwidth": 2,
            "linecolor": "white",
            "showbackground": true,
            "ticks": "",
            "zerolinecolor": "white"
           },
           "zaxis": {
            "backgroundcolor": "#E5ECF6",
            "gridcolor": "white",
            "gridwidth": 2,
            "linecolor": "white",
            "showbackground": true,
            "ticks": "",
            "zerolinecolor": "white"
           }
          },
          "shapedefaults": {
           "line": {
            "color": "#2a3f5f"
           }
          },
          "ternary": {
           "aaxis": {
            "gridcolor": "white",
            "linecolor": "white",
            "ticks": ""
           },
           "baxis": {
            "gridcolor": "white",
            "linecolor": "white",
            "ticks": ""
           },
           "bgcolor": "#E5ECF6",
           "caxis": {
            "gridcolor": "white",
            "linecolor": "white",
            "ticks": ""
           }
          },
          "title": {
           "x": 0.05
          },
          "xaxis": {
           "automargin": true,
           "gridcolor": "white",
           "linecolor": "white",
           "ticks": "",
           "title": {
            "standoff": 15
           },
           "zerolinecolor": "white",
           "zerolinewidth": 2
          },
          "yaxis": {
           "automargin": true,
           "gridcolor": "white",
           "linecolor": "white",
           "ticks": "",
           "title": {
            "standoff": 15
           },
           "zerolinecolor": "white",
           "zerolinewidth": 2
          }
         }
        },
        "title": {
         "text": "Restaurant Count and Total Votes by Cuisine in Chennai"
        },
        "width": 800,
        "xaxis": {
         "anchor": "y",
         "categoryorder": "total descending",
         "domain": [
          0,
          1
         ],
         "title": {
          "text": "Cuisine"
         }
        },
        "yaxis": {
         "anchor": "x",
         "domain": [
          0,
          1
         ],
         "title": {
          "text": "Restaurant Count"
         }
        }
       }
      }
     },
     "metadata": {},
     "output_type": "display_data"
    }
   ],
   "source": [
    "# plot cuisine vs restaurant count with total_votes as hue\n",
    "\n",
    "# group by cuisine and get count of restaurants\n",
    "restaurant_count = df_chennai.groupby('cuisine')['restaurant_name'].nunique().reset_index()\n",
    "\n",
    "# group by cuisine and get total votes\n",
    "total_votes = df_chennai.groupby('cuisine')['total_votes'].sum().reset_index()\n",
    "\n",
    "# merge the two dataframes on cuisine\n",
    "merged_data = pd.merge(restaurant_count, total_votes, on='cuisine', how='inner')\n",
    "\n",
    "# create the plot\n",
    "fig = px.bar(merged_data, x='cuisine', y='restaurant_name', color='total_votes',\n",
    "             labels={'cuisine': 'Cuisine', 'restaurant_name': 'Restaurant Count', 'total_votes': 'Total Votes'},\n",
    "             title='Restaurant Count and Total Votes by Cuisine in Chennai',\n",
    "             color_continuous_scale='RdYlGn')\n",
    "\n",
    "# order in descending\n",
    "fig.update_xaxes(categoryorder='total descending')\n",
    "\n",
    "# set the plot size\n",
    "fig.update_layout(width=800, height=500)\n",
    "\n",
    "# show the plot\n",
    "fig.show()"
   ]
  },
  {
   "cell_type": "code",
   "execution_count": 40,
   "metadata": {
    "colab": {
     "base_uri": "https://localhost:8080/",
     "height": 517
    },
    "id": "GkByy6eKsm8t",
    "outputId": "30797fb0-cc1e-40d9-d8c4-e342fdd11f03"
   },
   "outputs": [
    {
     "data": {
      "application/vnd.plotly.v1+json": {
       "config": {
        "plotlyServerURL": "https://plot.ly"
       },
       "data": [
        {
         "alignmentgroup": "True",
         "hovertemplate": "Cuisine=%{x}<br>Restaurant Count=%{y}<br>Best Seller=%{marker.color}<extra></extra>",
         "legendgroup": "",
         "marker": {
          "color": [
           38,
           30,
           238,
           45,
           80,
           5,
           234,
           15,
           130,
           186
          ],
          "coloraxis": "coloraxis",
          "pattern": {
           "shape": ""
          }
         },
         "name": "",
         "offsetgroup": "",
         "orientation": "v",
         "showlegend": false,
         "textposition": "auto",
         "type": "bar",
         "x": [
          "BBQ",
          "Beverages",
          "Biryani",
          "Cafe",
          "Chinese",
          "Desserts",
          "Fast Food",
          "Kebab",
          "North Indian",
          "South Indian"
         ],
         "xaxis": "x",
         "y": [
          3,
          2,
          21,
          4,
          8,
          1,
          23,
          2,
          9,
          14
         ],
         "yaxis": "y"
        }
       ],
       "layout": {
        "barmode": "relative",
        "coloraxis": {
         "colorbar": {
          "title": {
           "text": "Best Seller"
          }
         },
         "colorscale": [
          [
           0,
           "rgb(165,0,38)"
          ],
          [
           0.1,
           "rgb(215,48,39)"
          ],
          [
           0.2,
           "rgb(244,109,67)"
          ],
          [
           0.3,
           "rgb(253,174,97)"
          ],
          [
           0.4,
           "rgb(254,224,139)"
          ],
          [
           0.5,
           "rgb(255,255,191)"
          ],
          [
           0.6,
           "rgb(217,239,139)"
          ],
          [
           0.7,
           "rgb(166,217,106)"
          ],
          [
           0.8,
           "rgb(102,189,99)"
          ],
          [
           0.9,
           "rgb(26,152,80)"
          ],
          [
           1,
           "rgb(0,104,55)"
          ]
         ]
        },
        "height": 500,
        "legend": {
         "tracegroupgap": 0
        },
        "template": {
         "data": {
          "bar": [
           {
            "error_x": {
             "color": "#2a3f5f"
            },
            "error_y": {
             "color": "#2a3f5f"
            },
            "marker": {
             "line": {
              "color": "#E5ECF6",
              "width": 0.5
             },
             "pattern": {
              "fillmode": "overlay",
              "size": 10,
              "solidity": 0.2
             }
            },
            "type": "bar"
           }
          ],
          "barpolar": [
           {
            "marker": {
             "line": {
              "color": "#E5ECF6",
              "width": 0.5
             },
             "pattern": {
              "fillmode": "overlay",
              "size": 10,
              "solidity": 0.2
             }
            },
            "type": "barpolar"
           }
          ],
          "carpet": [
           {
            "aaxis": {
             "endlinecolor": "#2a3f5f",
             "gridcolor": "white",
             "linecolor": "white",
             "minorgridcolor": "white",
             "startlinecolor": "#2a3f5f"
            },
            "baxis": {
             "endlinecolor": "#2a3f5f",
             "gridcolor": "white",
             "linecolor": "white",
             "minorgridcolor": "white",
             "startlinecolor": "#2a3f5f"
            },
            "type": "carpet"
           }
          ],
          "choropleth": [
           {
            "colorbar": {
             "outlinewidth": 0,
             "ticks": ""
            },
            "type": "choropleth"
           }
          ],
          "contour": [
           {
            "colorbar": {
             "outlinewidth": 0,
             "ticks": ""
            },
            "colorscale": [
             [
              0,
              "#0d0887"
             ],
             [
              0.1111111111111111,
              "#46039f"
             ],
             [
              0.2222222222222222,
              "#7201a8"
             ],
             [
              0.3333333333333333,
              "#9c179e"
             ],
             [
              0.4444444444444444,
              "#bd3786"
             ],
             [
              0.5555555555555556,
              "#d8576b"
             ],
             [
              0.6666666666666666,
              "#ed7953"
             ],
             [
              0.7777777777777778,
              "#fb9f3a"
             ],
             [
              0.8888888888888888,
              "#fdca26"
             ],
             [
              1,
              "#f0f921"
             ]
            ],
            "type": "contour"
           }
          ],
          "contourcarpet": [
           {
            "colorbar": {
             "outlinewidth": 0,
             "ticks": ""
            },
            "type": "contourcarpet"
           }
          ],
          "heatmap": [
           {
            "colorbar": {
             "outlinewidth": 0,
             "ticks": ""
            },
            "colorscale": [
             [
              0,
              "#0d0887"
             ],
             [
              0.1111111111111111,
              "#46039f"
             ],
             [
              0.2222222222222222,
              "#7201a8"
             ],
             [
              0.3333333333333333,
              "#9c179e"
             ],
             [
              0.4444444444444444,
              "#bd3786"
             ],
             [
              0.5555555555555556,
              "#d8576b"
             ],
             [
              0.6666666666666666,
              "#ed7953"
             ],
             [
              0.7777777777777778,
              "#fb9f3a"
             ],
             [
              0.8888888888888888,
              "#fdca26"
             ],
             [
              1,
              "#f0f921"
             ]
            ],
            "type": "heatmap"
           }
          ],
          "heatmapgl": [
           {
            "colorbar": {
             "outlinewidth": 0,
             "ticks": ""
            },
            "colorscale": [
             [
              0,
              "#0d0887"
             ],
             [
              0.1111111111111111,
              "#46039f"
             ],
             [
              0.2222222222222222,
              "#7201a8"
             ],
             [
              0.3333333333333333,
              "#9c179e"
             ],
             [
              0.4444444444444444,
              "#bd3786"
             ],
             [
              0.5555555555555556,
              "#d8576b"
             ],
             [
              0.6666666666666666,
              "#ed7953"
             ],
             [
              0.7777777777777778,
              "#fb9f3a"
             ],
             [
              0.8888888888888888,
              "#fdca26"
             ],
             [
              1,
              "#f0f921"
             ]
            ],
            "type": "heatmapgl"
           }
          ],
          "histogram": [
           {
            "marker": {
             "pattern": {
              "fillmode": "overlay",
              "size": 10,
              "solidity": 0.2
             }
            },
            "type": "histogram"
           }
          ],
          "histogram2d": [
           {
            "colorbar": {
             "outlinewidth": 0,
             "ticks": ""
            },
            "colorscale": [
             [
              0,
              "#0d0887"
             ],
             [
              0.1111111111111111,
              "#46039f"
             ],
             [
              0.2222222222222222,
              "#7201a8"
             ],
             [
              0.3333333333333333,
              "#9c179e"
             ],
             [
              0.4444444444444444,
              "#bd3786"
             ],
             [
              0.5555555555555556,
              "#d8576b"
             ],
             [
              0.6666666666666666,
              "#ed7953"
             ],
             [
              0.7777777777777778,
              "#fb9f3a"
             ],
             [
              0.8888888888888888,
              "#fdca26"
             ],
             [
              1,
              "#f0f921"
             ]
            ],
            "type": "histogram2d"
           }
          ],
          "histogram2dcontour": [
           {
            "colorbar": {
             "outlinewidth": 0,
             "ticks": ""
            },
            "colorscale": [
             [
              0,
              "#0d0887"
             ],
             [
              0.1111111111111111,
              "#46039f"
             ],
             [
              0.2222222222222222,
              "#7201a8"
             ],
             [
              0.3333333333333333,
              "#9c179e"
             ],
             [
              0.4444444444444444,
              "#bd3786"
             ],
             [
              0.5555555555555556,
              "#d8576b"
             ],
             [
              0.6666666666666666,
              "#ed7953"
             ],
             [
              0.7777777777777778,
              "#fb9f3a"
             ],
             [
              0.8888888888888888,
              "#fdca26"
             ],
             [
              1,
              "#f0f921"
             ]
            ],
            "type": "histogram2dcontour"
           }
          ],
          "mesh3d": [
           {
            "colorbar": {
             "outlinewidth": 0,
             "ticks": ""
            },
            "type": "mesh3d"
           }
          ],
          "parcoords": [
           {
            "line": {
             "colorbar": {
              "outlinewidth": 0,
              "ticks": ""
             }
            },
            "type": "parcoords"
           }
          ],
          "pie": [
           {
            "automargin": true,
            "type": "pie"
           }
          ],
          "scatter": [
           {
            "fillpattern": {
             "fillmode": "overlay",
             "size": 10,
             "solidity": 0.2
            },
            "type": "scatter"
           }
          ],
          "scatter3d": [
           {
            "line": {
             "colorbar": {
              "outlinewidth": 0,
              "ticks": ""
             }
            },
            "marker": {
             "colorbar": {
              "outlinewidth": 0,
              "ticks": ""
             }
            },
            "type": "scatter3d"
           }
          ],
          "scattercarpet": [
           {
            "marker": {
             "colorbar": {
              "outlinewidth": 0,
              "ticks": ""
             }
            },
            "type": "scattercarpet"
           }
          ],
          "scattergeo": [
           {
            "marker": {
             "colorbar": {
              "outlinewidth": 0,
              "ticks": ""
             }
            },
            "type": "scattergeo"
           }
          ],
          "scattergl": [
           {
            "marker": {
             "colorbar": {
              "outlinewidth": 0,
              "ticks": ""
             }
            },
            "type": "scattergl"
           }
          ],
          "scattermapbox": [
           {
            "marker": {
             "colorbar": {
              "outlinewidth": 0,
              "ticks": ""
             }
            },
            "type": "scattermapbox"
           }
          ],
          "scatterpolar": [
           {
            "marker": {
             "colorbar": {
              "outlinewidth": 0,
              "ticks": ""
             }
            },
            "type": "scatterpolar"
           }
          ],
          "scatterpolargl": [
           {
            "marker": {
             "colorbar": {
              "outlinewidth": 0,
              "ticks": ""
             }
            },
            "type": "scatterpolargl"
           }
          ],
          "scatterternary": [
           {
            "marker": {
             "colorbar": {
              "outlinewidth": 0,
              "ticks": ""
             }
            },
            "type": "scatterternary"
           }
          ],
          "surface": [
           {
            "colorbar": {
             "outlinewidth": 0,
             "ticks": ""
            },
            "colorscale": [
             [
              0,
              "#0d0887"
             ],
             [
              0.1111111111111111,
              "#46039f"
             ],
             [
              0.2222222222222222,
              "#7201a8"
             ],
             [
              0.3333333333333333,
              "#9c179e"
             ],
             [
              0.4444444444444444,
              "#bd3786"
             ],
             [
              0.5555555555555556,
              "#d8576b"
             ],
             [
              0.6666666666666666,
              "#ed7953"
             ],
             [
              0.7777777777777778,
              "#fb9f3a"
             ],
             [
              0.8888888888888888,
              "#fdca26"
             ],
             [
              1,
              "#f0f921"
             ]
            ],
            "type": "surface"
           }
          ],
          "table": [
           {
            "cells": {
             "fill": {
              "color": "#EBF0F8"
             },
             "line": {
              "color": "white"
             }
            },
            "header": {
             "fill": {
              "color": "#C8D4E3"
             },
             "line": {
              "color": "white"
             }
            },
            "type": "table"
           }
          ]
         },
         "layout": {
          "annotationdefaults": {
           "arrowcolor": "#2a3f5f",
           "arrowhead": 0,
           "arrowwidth": 1
          },
          "autotypenumbers": "strict",
          "coloraxis": {
           "colorbar": {
            "outlinewidth": 0,
            "ticks": ""
           }
          },
          "colorscale": {
           "diverging": [
            [
             0,
             "#8e0152"
            ],
            [
             0.1,
             "#c51b7d"
            ],
            [
             0.2,
             "#de77ae"
            ],
            [
             0.3,
             "#f1b6da"
            ],
            [
             0.4,
             "#fde0ef"
            ],
            [
             0.5,
             "#f7f7f7"
            ],
            [
             0.6,
             "#e6f5d0"
            ],
            [
             0.7,
             "#b8e186"
            ],
            [
             0.8,
             "#7fbc41"
            ],
            [
             0.9,
             "#4d9221"
            ],
            [
             1,
             "#276419"
            ]
           ],
           "sequential": [
            [
             0,
             "#0d0887"
            ],
            [
             0.1111111111111111,
             "#46039f"
            ],
            [
             0.2222222222222222,
             "#7201a8"
            ],
            [
             0.3333333333333333,
             "#9c179e"
            ],
            [
             0.4444444444444444,
             "#bd3786"
            ],
            [
             0.5555555555555556,
             "#d8576b"
            ],
            [
             0.6666666666666666,
             "#ed7953"
            ],
            [
             0.7777777777777778,
             "#fb9f3a"
            ],
            [
             0.8888888888888888,
             "#fdca26"
            ],
            [
             1,
             "#f0f921"
            ]
           ],
           "sequentialminus": [
            [
             0,
             "#0d0887"
            ],
            [
             0.1111111111111111,
             "#46039f"
            ],
            [
             0.2222222222222222,
             "#7201a8"
            ],
            [
             0.3333333333333333,
             "#9c179e"
            ],
            [
             0.4444444444444444,
             "#bd3786"
            ],
            [
             0.5555555555555556,
             "#d8576b"
            ],
            [
             0.6666666666666666,
             "#ed7953"
            ],
            [
             0.7777777777777778,
             "#fb9f3a"
            ],
            [
             0.8888888888888888,
             "#fdca26"
            ],
            [
             1,
             "#f0f921"
            ]
           ]
          },
          "colorway": [
           "#636efa",
           "#EF553B",
           "#00cc96",
           "#ab63fa",
           "#FFA15A",
           "#19d3f3",
           "#FF6692",
           "#B6E880",
           "#FF97FF",
           "#FECB52"
          ],
          "font": {
           "color": "#2a3f5f"
          },
          "geo": {
           "bgcolor": "white",
           "lakecolor": "white",
           "landcolor": "#E5ECF6",
           "showlakes": true,
           "showland": true,
           "subunitcolor": "white"
          },
          "hoverlabel": {
           "align": "left"
          },
          "hovermode": "closest",
          "mapbox": {
           "style": "light"
          },
          "paper_bgcolor": "white",
          "plot_bgcolor": "#E5ECF6",
          "polar": {
           "angularaxis": {
            "gridcolor": "white",
            "linecolor": "white",
            "ticks": ""
           },
           "bgcolor": "#E5ECF6",
           "radialaxis": {
            "gridcolor": "white",
            "linecolor": "white",
            "ticks": ""
           }
          },
          "scene": {
           "xaxis": {
            "backgroundcolor": "#E5ECF6",
            "gridcolor": "white",
            "gridwidth": 2,
            "linecolor": "white",
            "showbackground": true,
            "ticks": "",
            "zerolinecolor": "white"
           },
           "yaxis": {
            "backgroundcolor": "#E5ECF6",
            "gridcolor": "white",
            "gridwidth": 2,
            "linecolor": "white",
            "showbackground": true,
            "ticks": "",
            "zerolinecolor": "white"
           },
           "zaxis": {
            "backgroundcolor": "#E5ECF6",
            "gridcolor": "white",
            "gridwidth": 2,
            "linecolor": "white",
            "showbackground": true,
            "ticks": "",
            "zerolinecolor": "white"
           }
          },
          "shapedefaults": {
           "line": {
            "color": "#2a3f5f"
           }
          },
          "ternary": {
           "aaxis": {
            "gridcolor": "white",
            "linecolor": "white",
            "ticks": ""
           },
           "baxis": {
            "gridcolor": "white",
            "linecolor": "white",
            "ticks": ""
           },
           "bgcolor": "#E5ECF6",
           "caxis": {
            "gridcolor": "white",
            "linecolor": "white",
            "ticks": ""
           }
          },
          "title": {
           "x": 0.05
          },
          "xaxis": {
           "automargin": true,
           "gridcolor": "white",
           "linecolor": "white",
           "ticks": "",
           "title": {
            "standoff": 15
           },
           "zerolinecolor": "white",
           "zerolinewidth": 2
          },
          "yaxis": {
           "automargin": true,
           "gridcolor": "white",
           "linecolor": "white",
           "ticks": "",
           "title": {
            "standoff": 15
           },
           "zerolinecolor": "white",
           "zerolinewidth": 2
          }
         }
        },
        "title": {
         "text": "Restaurant Count and Best Seller Count by Cuisine in Chennai"
        },
        "width": 800,
        "xaxis": {
         "anchor": "y",
         "categoryorder": "total descending",
         "domain": [
          0,
          1
         ],
         "title": {
          "text": "Cuisine"
         }
        },
        "yaxis": {
         "anchor": "x",
         "domain": [
          0,
          1
         ],
         "title": {
          "text": "Restaurant Count"
         }
        }
       }
      }
     },
     "metadata": {},
     "output_type": "display_data"
    }
   ],
   "source": [
    "# plot cuisine vs restaurant count with best_seller as hue\n",
    "\n",
    "# group by cuisine and get count of restaurants\n",
    "restaurant_count = df_chennai.groupby('cuisine')['restaurant_name'].nunique().reset_index()\n",
    "\n",
    "# group by cuisine and get total votes\n",
    "total_votes = df_chennai.groupby('cuisine')['best_seller'].sum().reset_index()\n",
    "\n",
    "# merge the two dataframes on cuisine\n",
    "merged_data = pd.merge(restaurant_count, total_votes, on='cuisine', how='inner')\n",
    "\n",
    "# create the plot\n",
    "fig = px.bar(merged_data, x='cuisine', y='restaurant_name', color='best_seller',\n",
    "             labels={'cuisine': 'Cuisine', 'restaurant_name': 'Restaurant Count', 'best_seller': 'Best Seller'},\n",
    "             title='Restaurant Count and Best Seller Count by Cuisine in Chennai',\n",
    "             color_continuous_scale='RdYlGn')\n",
    "\n",
    "# order in descending\n",
    "fig.update_xaxes(categoryorder='total descending')\n",
    "\n",
    "# set the plot size\n",
    "fig.update_layout(width=800, height=500)\n",
    "\n",
    "# show the plot\n",
    "fig.show()"
   ]
  },
  {
   "cell_type": "markdown",
   "metadata": {
    "id": "t_tDoL3_NYCb"
   },
   "source": [
    "### **3. Dining Type Analysis**"
   ]
  },
  {
   "cell_type": "code",
   "execution_count": 41,
   "metadata": {
    "colab": {
     "base_uri": "https://localhost:8080/",
     "height": 407
    },
    "id": "tvkjAtz66W5L",
    "outputId": "8d45936d-ab8e-443e-fb55-7944320b6891"
   },
   "outputs": [
    {
     "data": {
      "image/png": "[encoded data removed]",
      "text/plain": [
       "<Figure size 400x400 with 2 Axes>"
      ]
     },
     "metadata": {},
     "output_type": "display_data"
    }
   ],
   "source": [
    "# plot heatmap between 'dining_rating', 'dining_votes', 'delivery_rating', 'delivery_votes'\n",
    "\n",
    "# select the columns\n",
    "correlation_data = df_chennai[['dining_rating', 'dining_votes', 'delivery_rating', 'delivery_votes']]\n",
    "\n",
    "# calculate the correlation matrix\n",
    "correlation_matrix = correlation_data.corr()\n",
    "\n",
    "# set plot size\n",
    "plt.figure(figsize=(4, 4))\n",
    "\n",
    "# create the heatmap\n",
    "sns.heatmap(correlation_matrix, annot=True, cmap='Reds', fmt=\".2f\")\n",
    "\n",
    "# add title\n",
    "plt.title('Correlation Heatmap')\n",
    "\n",
    "# save the plot\n",
    "plt.tight_layout()\n",
    "plt.savefig('3.1.png')\n",
    "\n",
    "# show the plot\n",
    "plt.show()"
   ]
  },
  {
   "cell_type": "code",
   "execution_count": 42,
   "metadata": {
    "colab": {
     "base_uri": "https://localhost:8080/"
    },
    "id": "HwtRWp2s2rM-",
    "outputId": "566c34d7-a829-4f55-faf0-c5ad53e35be9"
   },
   "outputs": [
    {
     "name": "stdout",
     "output_type": "stream",
     "text": [
      "Number of zeros in dining_rating: 1902\n",
      "Number of zeros in dining_votes: 2529\n",
      "Number of zeros in delivery_rating: 0\n",
      "Number of zeros in delivery_votes: 7981\n"
     ]
    }
   ],
   "source": [
    "# count the number of zeros in each column\n",
    "num_zeros_dining_rating = (df_chennai['dining_rating'] == 0).sum()\n",
    "num_zeros_delivery_rating = (df_chennai['delivery_rating'] == 0).sum()\n",
    "num_zeros_dining_votes = (df_chennai['dining_votes'] == 0).sum()\n",
    "num_zeros_delivery_votes = (df_chennai['delivery_votes'] == 0).sum()\n",
    "\n",
    "# print the results\n",
    "print(f'Number of zeros in dining_rating: {num_zeros_dining_rating}')\n",
    "print(f'Number of zeros in dining_votes: {num_zeros_dining_votes}')\n",
    "print(f'Number of zeros in delivery_rating: {num_zeros_delivery_rating}')\n",
    "print(f'Number of zeros in delivery_votes: {num_zeros_delivery_votes}')"
   ]
  },
  {
   "cell_type": "code",
   "execution_count": 43,
   "metadata": {
    "colab": {
     "base_uri": "https://localhost:8080/"
    },
    "id": "v3RgpHU7ERCS",
    "outputId": "45ad5fc6-af6a-4439-8f75-90d5e26034f7"
   },
   "outputs": [
    {
     "name": "stderr",
     "output_type": "stream",
     "text": [
      "C:\\Users\\rishi\\AppData\\Local\\Temp\\ipykernel_14092\\2340829173.py:6: SettingWithCopyWarning:\n",
      "\n",
      "\n",
      "A value is trying to be set on a copy of a slice from a DataFrame.\n",
      "Try using .loc[row_indexer,col_indexer] = value instead\n",
      "\n",
      "See the caveats in the documentation: https://pandas.pydata.org/pandas-docs/stable/user_guide/indexing.html#returning-a-view-versus-a-copy\n",
      "\n",
      "C:\\Users\\rishi\\AppData\\Local\\Temp\\ipykernel_14092\\2340829173.py:13: SettingWithCopyWarning:\n",
      "\n",
      "\n",
      "A value is trying to be set on a copy of a slice from a DataFrame.\n",
      "Try using .loc[row_indexer,col_indexer] = value instead\n",
      "\n",
      "See the caveats in the documentation: https://pandas.pydata.org/pandas-docs/stable/user_guide/indexing.html#returning-a-view-versus-a-copy\n",
      "\n"
     ]
    }
   ],
   "source": [
    "# create 2 new columns dining_preferred & delivery_preferred if thier respective votes are in top 0.75 quantile and rating is greater than 4\n",
    "\n",
    "# dining_preferred\n",
    "threshold_dining_votes = df_chennai.groupby('cuisine')['dining_votes'].quantile(0.75)\n",
    "\n",
    "df_chennai['dining_preferred'] = df_chennai.apply(\n",
    "    lambda row: 1 if (row['dining_rating'] >= 4 or row['dining_votes'] >= threshold_dining_votes[row['cuisine']]) else 0,\n",
    "    axis=1\n",
    ")\n",
    "\n",
    "# delivery_preferred\n",
    "threshold_delivery_votes = df_chennai.groupby('cuisine')['delivery_votes'].quantile(0.75)\n",
    "df_chennai['delivery_preferred'] = df_chennai.apply(\n",
    "    lambda row: 1 if (row['delivery_rating'] >= 4 or row['delivery_votes'] >= threshold_delivery_votes[row['cuisine']]) else 0,\n",
    "    axis=1\n",
    ")"
   ]
  },
  {
   "cell_type": "code",
   "execution_count": 44,
   "metadata": {
    "colab": {
     "base_uri": "https://localhost:8080/"
    },
    "id": "AowEFOJMKYCu",
    "outputId": "55e713cc-b411-4f66-e650-ed39c579548e"
   },
   "outputs": [
    {
     "name": "stderr",
     "output_type": "stream",
     "text": [
      "C:\\Users\\rishi\\AppData\\Local\\Temp\\ipykernel_14092\\1159400970.py:2: SettingWithCopyWarning:\n",
      "\n",
      "\n",
      "A value is trying to be set on a copy of a slice from a DataFrame.\n",
      "Try using .loc[row_indexer,col_indexer] = value instead\n",
      "\n",
      "See the caveats in the documentation: https://pandas.pydata.org/pandas-docs/stable/user_guide/indexing.html#returning-a-view-versus-a-copy\n",
      "\n"
     ]
    }
   ],
   "source": [
    "# create the restaurant_type column based on conditions\n",
    "df_chennai['restaurant_type'] = 'Takeaway'\n",
    "df_chennai.loc[(df_chennai['delivery_preferred'] == 1) & (df_chennai['dining_preferred'] == 0), 'restaurant_type'] = 'Delivery'\n",
    "df_chennai.loc[(df_chennai['delivery_preferred'] == 0) & (df_chennai['dining_preferred'] == 1), 'restaurant_type'] = 'Dining'\n",
    "df_chennai.loc[(df_chennai['delivery_preferred'] == 1) & (df_chennai['dining_preferred'] == 1), 'restaurant_type'] = 'Dining & Delivery'"
   ]
  },
  {
   "cell_type": "code",
   "execution_count": 45,
   "metadata": {
    "colab": {
     "base_uri": "https://localhost:8080/",
     "height": 362
    },
    "id": "xOIMtffsKxhC",
    "outputId": "f064f00c-58fe-4f67-a426-41be0ac83138"
   },
   "outputs": [
    {
     "data": {
      "text/html": [
       "<div>\n",
       "<style scoped>\n",
       "    .dataframe tbody tr th:only-of-type {\n",
       "        vertical-align: middle;\n",
       "    }\n",
       "\n",
       "    .dataframe tbody tr th {\n",
       "        vertical-align: top;\n",
       "    }\n",
       "\n",
       "    .dataframe thead th {\n",
       "        text-align: right;\n",
       "    }\n",
       "</style>\n",
       "<table border=\"1\" class=\"dataframe\">\n",
       "  <thead>\n",
       "    <tr style=\"text-align: right;\">\n",
       "      <th></th>\n",
       "      <th>restaurant_name</th>\n",
       "      <th>cuisine</th>\n",
       "      <th>place_name</th>\n",
       "      <th>city</th>\n",
       "      <th>item_name</th>\n",
       "      <th>best_seller</th>\n",
       "      <th>item_votes</th>\n",
       "      <th>prices</th>\n",
       "      <th>total_votes</th>\n",
       "      <th>restaurant_type</th>\n",
       "    </tr>\n",
       "  </thead>\n",
       "  <tbody>\n",
       "    <tr>\n",
       "      <th>27342</th>\n",
       "      <td>Dindigul Veetu Kalyanam</td>\n",
       "      <td>Biryani</td>\n",
       "      <td>Egmore</td>\n",
       "      <td>Chennai</td>\n",
       "      <td>DVK - Chicken Seeraga Samba Biryani - Standard Pack ( 600 ML )</td>\n",
       "      <td>1</td>\n",
       "      <td>237</td>\n",
       "      <td>249.0</td>\n",
       "      <td>838</td>\n",
       "      <td>Delivery</td>\n",
       "    </tr>\n",
       "    <tr>\n",
       "      <th>27343</th>\n",
       "      <td>Dindigul Veetu Kalyanam</td>\n",
       "      <td>Biryani</td>\n",
       "      <td>Egmore</td>\n",
       "      <td>Chennai</td>\n",
       "      <td>DVK - Chicken Seeraga Samba Biryani - Ultra Mini Pack ( 300 ML )</td>\n",
       "      <td>1</td>\n",
       "      <td>122</td>\n",
       "      <td>149.0</td>\n",
       "      <td>723</td>\n",
       "      <td>Delivery</td>\n",
       "    </tr>\n",
       "    <tr>\n",
       "      <th>27344</th>\n",
       "      <td>Dindigul Veetu Kalyanam</td>\n",
       "      <td>Biryani</td>\n",
       "      <td>Egmore</td>\n",
       "      <td>Chennai</td>\n",
       "      <td>DVK - Plain Kushka Seeraga Samba Biryani - Standard Pack ( 600 ML )</td>\n",
       "      <td>1</td>\n",
       "      <td>60</td>\n",
       "      <td>209.0</td>\n",
       "      <td>661</td>\n",
       "      <td>Delivery</td>\n",
       "    </tr>\n",
       "    <tr>\n",
       "      <th>27345</th>\n",
       "      <td>Dindigul Veetu Kalyanam</td>\n",
       "      <td>Biryani</td>\n",
       "      <td>Egmore</td>\n",
       "      <td>Chennai</td>\n",
       "      <td>Chicken Roast Leg x2</td>\n",
       "      <td>1</td>\n",
       "      <td>25</td>\n",
       "      <td>199.0</td>\n",
       "      <td>626</td>\n",
       "      <td>Delivery</td>\n",
       "    </tr>\n",
       "    <tr>\n",
       "      <th>27346</th>\n",
       "      <td>Dindigul Veetu Kalyanam</td>\n",
       "      <td>Biryani</td>\n",
       "      <td>Egmore</td>\n",
       "      <td>Chennai</td>\n",
       "      <td>DVK - Chicken Seeraga Samba Biryani - XL Bucket ( 2500 ML )</td>\n",
       "      <td>1</td>\n",
       "      <td>0</td>\n",
       "      <td>849.0</td>\n",
       "      <td>601</td>\n",
       "      <td>Delivery</td>\n",
       "    </tr>\n",
       "  </tbody>\n",
       "</table>\n",
       "</div>"
      ],
      "text/plain": [
       "               restaurant_name  cuisine place_name     city  \\\n",
       "27342  Dindigul Veetu Kalyanam  Biryani     Egmore  Chennai   \n",
       "27343  Dindigul Veetu Kalyanam  Biryani     Egmore  Chennai   \n",
       "27344  Dindigul Veetu Kalyanam  Biryani     Egmore  Chennai   \n",
       "27345  Dindigul Veetu Kalyanam  Biryani     Egmore  Chennai   \n",
       "27346  Dindigul Veetu Kalyanam  Biryani     Egmore  Chennai   \n",
       "\n",
       "                                                                 item_name  \\\n",
       "27342       DVK - Chicken Seeraga Samba Biryani - Standard Pack ( 600 ML )   \n",
       "27343     DVK - Chicken Seeraga Samba Biryani - Ultra Mini Pack ( 300 ML )   \n",
       "27344  DVK - Plain Kushka Seeraga Samba Biryani - Standard Pack ( 600 ML )   \n",
       "27345                                                 Chicken Roast Leg x2   \n",
       "27346          DVK - Chicken Seeraga Samba Biryani - XL Bucket ( 2500 ML )   \n",
       "\n",
       "       best_seller  item_votes  prices  total_votes restaurant_type  \n",
       "27342            1         237   249.0          838        Delivery  \n",
       "27343            1         122   149.0          723        Delivery  \n",
       "27344            1          60   209.0          661        Delivery  \n",
       "27345            1          25   199.0          626        Delivery  \n",
       "27346            1           0   849.0          601        Delivery  "
      ]
     },
     "execution_count": 45,
     "metadata": {},
     "output_type": "execute_result"
    }
   ],
   "source": [
    "# drop redundant columns\n",
    "df_chennai = df_chennai.drop(['dining_rating', 'delivery_rating', 'dining_votes', 'delivery_votes', 'dining_preferred', 'delivery_preferred'], axis=1)\n",
    "df_chennai.head()"
   ]
  },
  {
   "cell_type": "code",
   "execution_count": 46,
   "metadata": {
    "id": "yS-sakCakXLM"
   },
   "outputs": [],
   "source": [
    "# filter data for chinese cuisine in chennai\n",
    "df_chennai_chinese = df_chennai[df_chennai['cuisine'] == 'Chinese']"
   ]
  },
  {
   "cell_type": "code",
   "execution_count": 47,
   "metadata": {
    "colab": {
     "base_uri": "https://localhost:8080/",
     "height": 375
    },
    "id": "Pt156QWwZTo5",
    "outputId": "7ec1b5c1-6a3e-41b2-9f35-049c7418fd53"
   },
   "outputs": [
    {
     "data": {
      "image/png": "[encoded data removed]",
      "text/plain": [
       "<Figure size 400x400 with 1 Axes>"
      ]
     },
     "metadata": {},
     "output_type": "display_data"
    }
   ],
   "source": [
    "# visualize the distribution of restaurant_type\n",
    "restaurant_type_counts = df_chennai_chinese.groupby('restaurant_type')['restaurant_name'].nunique()\n",
    "\n",
    "# set plot size\n",
    "plt.figure(figsize=(4, 4))\n",
    "\n",
    "# plot pie chart\n",
    "plt.pie(restaurant_type_counts, labels=restaurant_type_counts.index, autopct='%1.1f%%', startangle=140, colors=sns.color_palette('viridis'))\n",
    "\n",
    "# add title\n",
    "plt.title('Restaurant Count by Type')\n",
    "\n",
    "# save the plot\n",
    "plt.tight_layout()\n",
    "plt.savefig('3.2.png')\n",
    "\n",
    "# show the plot\n",
    "plt.show()"
   ]
  },
  {
   "cell_type": "code",
   "execution_count": 48,
   "metadata": {
    "colab": {
     "base_uri": "https://localhost:8080/",
     "height": 517
    },
    "id": "84eR_8X_RgGw",
    "outputId": "08945c89-b936-4d00-e8ba-d6acf01647c1"
   },
   "outputs": [
    {
     "data": {
      "application/vnd.plotly.v1+json": {
       "config": {
        "plotlyServerURL": "https://plot.ly"
       },
       "data": [
        {
         "alignmentgroup": "True",
         "hovertemplate": "Restaurant Type=%{x}<br>Count=%{y}<br>Total Votes=%{marker.color}<extra></extra>",
         "legendgroup": "",
         "marker": {
          "color": [
           52980,
           780093
          ],
          "coloraxis": "coloraxis",
          "pattern": {
           "shape": ""
          }
         },
         "name": "",
         "offsetgroup": "",
         "orientation": "v",
         "showlegend": false,
         "textposition": "auto",
         "type": "bar",
         "x": [
          "Delivery",
          "Dining & Delivery"
         ],
         "xaxis": "x",
         "y": [
          4,
          4
         ],
         "yaxis": "y"
        }
       ],
       "layout": {
        "barmode": "relative",
        "coloraxis": {
         "colorbar": {
          "title": {
           "text": "Total Votes"
          }
         },
         "colorscale": [
          [
           0,
           "#440154"
          ],
          [
           0.1111111111111111,
           "#482878"
          ],
          [
           0.2222222222222222,
           "#3e4989"
          ],
          [
           0.3333333333333333,
           "#31688e"
          ],
          [
           0.4444444444444444,
           "#26828e"
          ],
          [
           0.5555555555555556,
           "#1f9e89"
          ],
          [
           0.6666666666666666,
           "#35b779"
          ],
          [
           0.7777777777777778,
           "#6ece58"
          ],
          [
           0.8888888888888888,
           "#b5de2b"
          ],
          [
           1,
           "#fde725"
          ]
         ]
        },
        "height": 500,
        "legend": {
         "tracegroupgap": 0
        },
        "template": {
         "data": {
          "bar": [
           {
            "error_x": {
             "color": "#2a3f5f"
            },
            "error_y": {
             "color": "#2a3f5f"
            },
            "marker": {
             "line": {
              "color": "#E5ECF6",
              "width": 0.5
             },
             "pattern": {
              "fillmode": "overlay",
              "size": 10,
              "solidity": 0.2
             }
            },
            "type": "bar"
           }
          ],
          "barpolar": [
           {
            "marker": {
             "line": {
              "color": "#E5ECF6",
              "width": 0.5
             },
             "pattern": {
              "fillmode": "overlay",
              "size": 10,
              "solidity": 0.2
             }
            },
            "type": "barpolar"
           }
          ],
          "carpet": [
           {
            "aaxis": {
             "endlinecolor": "#2a3f5f",
             "gridcolor": "white",
             "linecolor": "white",
             "minorgridcolor": "white",
             "startlinecolor": "#2a3f5f"
            },
            "baxis": {
             "endlinecolor": "#2a3f5f",
             "gridcolor": "white",
             "linecolor": "white",
             "minorgridcolor": "white",
             "startlinecolor": "#2a3f5f"
            },
            "type": "carpet"
           }
          ],
          "choropleth": [
           {
            "colorbar": {
             "outlinewidth": 0,
             "ticks": ""
            },
            "type": "choropleth"
           }
          ],
          "contour": [
           {
            "colorbar": {
             "outlinewidth": 0,
             "ticks": ""
            },
            "colorscale": [
             [
              0,
              "#0d0887"
             ],
             [
              0.1111111111111111,
              "#46039f"
             ],
             [
              0.2222222222222222,
              "#7201a8"
             ],
             [
              0.3333333333333333,
              "#9c179e"
             ],
             [
              0.4444444444444444,
              "#bd3786"
             ],
             [
              0.5555555555555556,
              "#d8576b"
             ],
             [
              0.6666666666666666,
              "#ed7953"
             ],
             [
              0.7777777777777778,
              "#fb9f3a"
             ],
             [
              0.8888888888888888,
              "#fdca26"
             ],
             [
              1,
              "#f0f921"
             ]
            ],
            "type": "contour"
           }
          ],
          "contourcarpet": [
           {
            "colorbar": {
             "outlinewidth": 0,
             "ticks": ""
            },
            "type": "contourcarpet"
           }
          ],
          "heatmap": [
           {
            "colorbar": {
             "outlinewidth": 0,
             "ticks": ""
            },
            "colorscale": [
             [
              0,
              "#0d0887"
             ],
             [
              0.1111111111111111,
              "#46039f"
             ],
             [
              0.2222222222222222,
              "#7201a8"
             ],
             [
              0.3333333333333333,
              "#9c179e"
             ],
             [
              0.4444444444444444,
              "#bd3786"
             ],
             [
              0.5555555555555556,
              "#d8576b"
             ],
             [
              0.6666666666666666,
              "#ed7953"
             ],
             [
              0.7777777777777778,
              "#fb9f3a"
             ],
             [
              0.8888888888888888,
              "#fdca26"
             ],
             [
              1,
              "#f0f921"
             ]
            ],
            "type": "heatmap"
           }
          ],
          "heatmapgl": [
           {
            "colorbar": {
             "outlinewidth": 0,
             "ticks": ""
            },
            "colorscale": [
             [
              0,
              "#0d0887"
             ],
             [
              0.1111111111111111,
              "#46039f"
             ],
             [
              0.2222222222222222,
              "#7201a8"
             ],
             [
              0.3333333333333333,
              "#9c179e"
             ],
             [
              0.4444444444444444,
              "#bd3786"
             ],
             [
              0.5555555555555556,
              "#d8576b"
             ],
             [
              0.6666666666666666,
              "#ed7953"
             ],
             [
              0.7777777777777778,
              "#fb9f3a"
             ],
             [
              0.8888888888888888,
              "#fdca26"
             ],
             [
              1,
              "#f0f921"
             ]
            ],
            "type": "heatmapgl"
           }
          ],
          "histogram": [
           {
            "marker": {
             "pattern": {
              "fillmode": "overlay",
              "size": 10,
              "solidity": 0.2
             }
            },
            "type": "histogram"
           }
          ],
          "histogram2d": [
           {
            "colorbar": {
             "outlinewidth": 0,
             "ticks": ""
            },
            "colorscale": [
             [
              0,
              "#0d0887"
             ],
             [
              0.1111111111111111,
              "#46039f"
             ],
             [
              0.2222222222222222,
              "#7201a8"
             ],
             [
              0.3333333333333333,
              "#9c179e"
             ],
             [
              0.4444444444444444,
              "#bd3786"
             ],
             [
              0.5555555555555556,
              "#d8576b"
             ],
             [
              0.6666666666666666,
              "#ed7953"
             ],
             [
              0.7777777777777778,
              "#fb9f3a"
             ],
             [
              0.8888888888888888,
              "#fdca26"
             ],
             [
              1,
              "#f0f921"
             ]
            ],
            "type": "histogram2d"
           }
          ],
          "histogram2dcontour": [
           {
            "colorbar": {
             "outlinewidth": 0,
             "ticks": ""
            },
            "colorscale": [
             [
              0,
              "#0d0887"
             ],
             [
              0.1111111111111111,
              "#46039f"
             ],
             [
              0.2222222222222222,
              "#7201a8"
             ],
             [
              0.3333333333333333,
              "#9c179e"
             ],
             [
              0.4444444444444444,
              "#bd3786"
             ],
             [
              0.5555555555555556,
              "#d8576b"
             ],
             [
              0.6666666666666666,
              "#ed7953"
             ],
             [
              0.7777777777777778,
              "#fb9f3a"
             ],
             [
              0.8888888888888888,
              "#fdca26"
             ],
             [
              1,
              "#f0f921"
             ]
            ],
            "type": "histogram2dcontour"
           }
          ],
          "mesh3d": [
           {
            "colorbar": {
             "outlinewidth": 0,
             "ticks": ""
            },
            "type": "mesh3d"
           }
          ],
          "parcoords": [
           {
            "line": {
             "colorbar": {
              "outlinewidth": 0,
              "ticks": ""
             }
            },
            "type": "parcoords"
           }
          ],
          "pie": [
           {
            "automargin": true,
            "type": "pie"
           }
          ],
          "scatter": [
           {
            "fillpattern": {
             "fillmode": "overlay",
             "size": 10,
             "solidity": 0.2
            },
            "type": "scatter"
           }
          ],
          "scatter3d": [
           {
            "line": {
             "colorbar": {
              "outlinewidth": 0,
              "ticks": ""
             }
            },
            "marker": {
             "colorbar": {
              "outlinewidth": 0,
              "ticks": ""
             }
            },
            "type": "scatter3d"
           }
          ],
          "scattercarpet": [
           {
            "marker": {
             "colorbar": {
              "outlinewidth": 0,
              "ticks": ""
             }
            },
            "type": "scattercarpet"
           }
          ],
          "scattergeo": [
           {
            "marker": {
             "colorbar": {
              "outlinewidth": 0,
              "ticks": ""
             }
            },
            "type": "scattergeo"
           }
          ],
          "scattergl": [
           {
            "marker": {
             "colorbar": {
              "outlinewidth": 0,
              "ticks": ""
             }
            },
            "type": "scattergl"
           }
          ],
          "scattermapbox": [
           {
            "marker": {
             "colorbar": {
              "outlinewidth": 0,
              "ticks": ""
             }
            },
            "type": "scattermapbox"
           }
          ],
          "scatterpolar": [
           {
            "marker": {
             "colorbar": {
              "outlinewidth": 0,
              "ticks": ""
             }
            },
            "type": "scatterpolar"
           }
          ],
          "scatterpolargl": [
           {
            "marker": {
             "colorbar": {
              "outlinewidth": 0,
              "ticks": ""
             }
            },
            "type": "scatterpolargl"
           }
          ],
          "scatterternary": [
           {
            "marker": {
             "colorbar": {
              "outlinewidth": 0,
              "ticks": ""
             }
            },
            "type": "scatterternary"
           }
          ],
          "surface": [
           {
            "colorbar": {
             "outlinewidth": 0,
             "ticks": ""
            },
            "colorscale": [
             [
              0,
              "#0d0887"
             ],
             [
              0.1111111111111111,
              "#46039f"
             ],
             [
              0.2222222222222222,
              "#7201a8"
             ],
             [
              0.3333333333333333,
              "#9c179e"
             ],
             [
              0.4444444444444444,
              "#bd3786"
             ],
             [
              0.5555555555555556,
              "#d8576b"
             ],
             [
              0.6666666666666666,
              "#ed7953"
             ],
             [
              0.7777777777777778,
              "#fb9f3a"
             ],
             [
              0.8888888888888888,
              "#fdca26"
             ],
             [
              1,
              "#f0f921"
             ]
            ],
            "type": "surface"
           }
          ],
          "table": [
           {
            "cells": {
             "fill": {
              "color": "#EBF0F8"
             },
             "line": {
              "color": "white"
             }
            },
            "header": {
             "fill": {
              "color": "#C8D4E3"
             },
             "line": {
              "color": "white"
             }
            },
            "type": "table"
           }
          ]
         },
         "layout": {
          "annotationdefaults": {
           "arrowcolor": "#2a3f5f",
           "arrowhead": 0,
           "arrowwidth": 1
          },
          "autotypenumbers": "strict",
          "coloraxis": {
           "colorbar": {
            "outlinewidth": 0,
            "ticks": ""
           }
          },
          "colorscale": {
           "diverging": [
            [
             0,
             "#8e0152"
            ],
            [
             0.1,
             "#c51b7d"
            ],
            [
             0.2,
             "#de77ae"
            ],
            [
             0.3,
             "#f1b6da"
            ],
            [
             0.4,
             "#fde0ef"
            ],
            [
             0.5,
             "#f7f7f7"
            ],
            [
             0.6,
             "#e6f5d0"
            ],
            [
             0.7,
             "#b8e186"
            ],
            [
             0.8,
             "#7fbc41"
            ],
            [
             0.9,
             "#4d9221"
            ],
            [
             1,
             "#276419"
            ]
           ],
           "sequential": [
            [
             0,
             "#0d0887"
            ],
            [
             0.1111111111111111,
             "#46039f"
            ],
            [
             0.2222222222222222,
             "#7201a8"
            ],
            [
             0.3333333333333333,
             "#9c179e"
            ],
            [
             0.4444444444444444,
             "#bd3786"
            ],
            [
             0.5555555555555556,
             "#d8576b"
            ],
            [
             0.6666666666666666,
             "#ed7953"
            ],
            [
             0.7777777777777778,
             "#fb9f3a"
            ],
            [
             0.8888888888888888,
             "#fdca26"
            ],
            [
             1,
             "#f0f921"
            ]
           ],
           "sequentialminus": [
            [
             0,
             "#0d0887"
            ],
            [
             0.1111111111111111,
             "#46039f"
            ],
            [
             0.2222222222222222,
             "#7201a8"
            ],
            [
             0.3333333333333333,
             "#9c179e"
            ],
            [
             0.4444444444444444,
             "#bd3786"
            ],
            [
             0.5555555555555556,
             "#d8576b"
            ],
            [
             0.6666666666666666,
             "#ed7953"
            ],
            [
             0.7777777777777778,
             "#fb9f3a"
            ],
            [
             0.8888888888888888,
             "#fdca26"
            ],
            [
             1,
             "#f0f921"
            ]
           ]
          },
          "colorway": [
           "#636efa",
           "#EF553B",
           "#00cc96",
           "#ab63fa",
           "#FFA15A",
           "#19d3f3",
           "#FF6692",
           "#B6E880",
           "#FF97FF",
           "#FECB52"
          ],
          "font": {
           "color": "#2a3f5f"
          },
          "geo": {
           "bgcolor": "white",
           "lakecolor": "white",
           "landcolor": "#E5ECF6",
           "showlakes": true,
           "showland": true,
           "subunitcolor": "white"
          },
          "hoverlabel": {
           "align": "left"
          },
          "hovermode": "closest",
          "mapbox": {
           "style": "light"
          },
          "paper_bgcolor": "white",
          "plot_bgcolor": "#E5ECF6",
          "polar": {
           "angularaxis": {
            "gridcolor": "white",
            "linecolor": "white",
            "ticks": ""
           },
           "bgcolor": "#E5ECF6",
           "radialaxis": {
            "gridcolor": "white",
            "linecolor": "white",
            "ticks": ""
           }
          },
          "scene": {
           "xaxis": {
            "backgroundcolor": "#E5ECF6",
            "gridcolor": "white",
            "gridwidth": 2,
            "linecolor": "white",
            "showbackground": true,
            "ticks": "",
            "zerolinecolor": "white"
           },
           "yaxis": {
            "backgroundcolor": "#E5ECF6",
            "gridcolor": "white",
            "gridwidth": 2,
            "linecolor": "white",
            "showbackground": true,
            "ticks": "",
            "zerolinecolor": "white"
           },
           "zaxis": {
            "backgroundcolor": "#E5ECF6",
            "gridcolor": "white",
            "gridwidth": 2,
            "linecolor": "white",
            "showbackground": true,
            "ticks": "",
            "zerolinecolor": "white"
           }
          },
          "shapedefaults": {
           "line": {
            "color": "#2a3f5f"
           }
          },
          "ternary": {
           "aaxis": {
            "gridcolor": "white",
            "linecolor": "white",
            "ticks": ""
           },
           "baxis": {
            "gridcolor": "white",
            "linecolor": "white",
            "ticks": ""
           },
           "bgcolor": "#E5ECF6",
           "caxis": {
            "gridcolor": "white",
            "linecolor": "white",
            "ticks": ""
           }
          },
          "title": {
           "x": 0.05
          },
          "xaxis": {
           "automargin": true,
           "gridcolor": "white",
           "linecolor": "white",
           "ticks": "",
           "title": {
            "standoff": 15
           },
           "zerolinecolor": "white",
           "zerolinewidth": 2
          },
          "yaxis": {
           "automargin": true,
           "gridcolor": "white",
           "linecolor": "white",
           "ticks": "",
           "title": {
            "standoff": 15
           },
           "zerolinecolor": "white",
           "zerolinewidth": 2
          }
         }
        },
        "title": {
         "text": "Restaurant Count by Type for Chinese in Chennai with Total Votes as Hue"
        },
        "width": 800,
        "xaxis": {
         "anchor": "y",
         "categoryorder": "total descending",
         "domain": [
          0,
          1
         ],
         "title": {
          "text": "Restaurant Type"
         }
        },
        "yaxis": {
         "anchor": "x",
         "domain": [
          0,
          1
         ],
         "title": {
          "text": "Count"
         }
        }
       }
      }
     },
     "metadata": {},
     "output_type": "display_data"
    }
   ],
   "source": [
    "# plot restaurant type vs restaurant count with total_votes as hue\n",
    "\n",
    "# group by restaurant type\n",
    "biryani_restaurant_type_counts = df_chennai_chinese.groupby('restaurant_type')['restaurant_name'].nunique().reset_index()\n",
    "\n",
    "# add a new column for total votes\n",
    "biryani_restaurant_type_counts['total_votes'] = df_chennai_chinese.groupby('restaurant_type')['total_votes'].sum().values\n",
    "\n",
    "# create bar plot\n",
    "fig = px.bar(biryani_restaurant_type_counts, x='restaurant_type', y='restaurant_name',\n",
    "             color='total_votes', color_continuous_scale='Viridis',\n",
    "             labels={'restaurant_type': 'Restaurant Type', 'restaurant_name': 'Count', 'total_votes': 'Total Votes'},\n",
    "             title='Restaurant Count by Type for Chinese in Chennai with Total Votes as Hue')\n",
    "\n",
    "# order in descending\n",
    "fig.update_xaxes(categoryorder='total descending')\n",
    "\n",
    "# set the plot size\n",
    "fig.update_layout(width=800, height=500)\n",
    "\n",
    "# show the plot\n",
    "fig.show()"
   ]
  },
  {
   "cell_type": "code",
   "execution_count": 49,
   "metadata": {
    "colab": {
     "base_uri": "https://localhost:8080/",
     "height": 517
    },
    "id": "Uvq3-_OcUfXD",
    "outputId": "2fd07907-9b44-4255-a5c4-9ef376a1a504"
   },
   "outputs": [
    {
     "data": {
      "application/vnd.plotly.v1+json": {
       "config": {
        "plotlyServerURL": "https://plot.ly"
       },
       "data": [
        {
         "alignmentgroup": "True",
         "hovertemplate": "Restaurant Type=%{x}<br>Count=%{y}<br>Best Seller=%{marker.color}<extra></extra>",
         "legendgroup": "",
         "marker": {
          "color": [
           35,
           45
          ],
          "coloraxis": "coloraxis",
          "pattern": {
           "shape": ""
          }
         },
         "name": "",
         "offsetgroup": "",
         "orientation": "v",
         "showlegend": false,
         "textposition": "auto",
         "type": "bar",
         "x": [
          "Delivery",
          "Dining & Delivery"
         ],
         "xaxis": "x",
         "y": [
          4,
          4
         ],
         "yaxis": "y"
        }
       ],
       "layout": {
        "barmode": "relative",
        "coloraxis": {
         "colorbar": {
          "title": {
           "text": "Best Seller"
          }
         },
         "colorscale": [
          [
           0,
           "#440154"
          ],
          [
           0.1111111111111111,
           "#482878"
          ],
          [
           0.2222222222222222,
           "#3e4989"
          ],
          [
           0.3333333333333333,
           "#31688e"
          ],
          [
           0.4444444444444444,
           "#26828e"
          ],
          [
           0.5555555555555556,
           "#1f9e89"
          ],
          [
           0.6666666666666666,
           "#35b779"
          ],
          [
           0.7777777777777778,
           "#6ece58"
          ],
          [
           0.8888888888888888,
           "#b5de2b"
          ],
          [
           1,
           "#fde725"
          ]
         ]
        },
        "height": 500,
        "legend": {
         "tracegroupgap": 0
        },
        "template": {
         "data": {
          "bar": [
           {
            "error_x": {
             "color": "#2a3f5f"
            },
            "error_y": {
             "color": "#2a3f5f"
            },
            "marker": {
             "line": {
              "color": "#E5ECF6",
              "width": 0.5
             },
             "pattern": {
              "fillmode": "overlay",
              "size": 10,
              "solidity": 0.2
             }
            },
            "type": "bar"
           }
          ],
          "barpolar": [
           {
            "marker": {
             "line": {
              "color": "#E5ECF6",
              "width": 0.5
             },
             "pattern": {
              "fillmode": "overlay",
              "size": 10,
              "solidity": 0.2
             }
            },
            "type": "barpolar"
           }
          ],
          "carpet": [
           {
            "aaxis": {
             "endlinecolor": "#2a3f5f",
             "gridcolor": "white",
             "linecolor": "white",
             "minorgridcolor": "white",
             "startlinecolor": "#2a3f5f"
            },
            "baxis": {
             "endlinecolor": "#2a3f5f",
             "gridcolor": "white",
             "linecolor": "white",
             "minorgridcolor": "white",
             "startlinecolor": "#2a3f5f"
            },
            "type": "carpet"
           }
          ],
          "choropleth": [
           {
            "colorbar": {
             "outlinewidth": 0,
             "ticks": ""
            },
            "type": "choropleth"
           }
          ],
          "contour": [
           {
            "colorbar": {
             "outlinewidth": 0,
             "ticks": ""
            },
            "colorscale": [
             [
              0,
              "#0d0887"
             ],
             [
              0.1111111111111111,
              "#46039f"
             ],
             [
              0.2222222222222222,
              "#7201a8"
             ],
             [
              0.3333333333333333,
              "#9c179e"
             ],
             [
              0.4444444444444444,
              "#bd3786"
             ],
             [
              0.5555555555555556,
              "#d8576b"
             ],
             [
              0.6666666666666666,
              "#ed7953"
             ],
             [
              0.7777777777777778,
              "#fb9f3a"
             ],
             [
              0.8888888888888888,
              "#fdca26"
             ],
             [
              1,
              "#f0f921"
             ]
            ],
            "type": "contour"
           }
          ],
          "contourcarpet": [
           {
            "colorbar": {
             "outlinewidth": 0,
             "ticks": ""
            },
            "type": "contourcarpet"
           }
          ],
          "heatmap": [
           {
            "colorbar": {
             "outlinewidth": 0,
             "ticks": ""
            },
            "colorscale": [
             [
              0,
              "#0d0887"
             ],
             [
              0.1111111111111111,
              "#46039f"
             ],
             [
              0.2222222222222222,
              "#7201a8"
             ],
             [
              0.3333333333333333,
              "#9c179e"
             ],
             [
              0.4444444444444444,
              "#bd3786"
             ],
             [
              0.5555555555555556,
              "#d8576b"
             ],
             [
              0.6666666666666666,
              "#ed7953"
             ],
             [
              0.7777777777777778,
              "#fb9f3a"
             ],
             [
              0.8888888888888888,
              "#fdca26"
             ],
             [
              1,
              "#f0f921"
             ]
            ],
            "type": "heatmap"
           }
          ],
          "heatmapgl": [
           {
            "colorbar": {
             "outlinewidth": 0,
             "ticks": ""
            },
            "colorscale": [
             [
              0,
              "#0d0887"
             ],
             [
              0.1111111111111111,
              "#46039f"
             ],
             [
              0.2222222222222222,
              "#7201a8"
             ],
             [
              0.3333333333333333,
              "#9c179e"
             ],
             [
              0.4444444444444444,
              "#bd3786"
             ],
             [
              0.5555555555555556,
              "#d8576b"
             ],
             [
              0.6666666666666666,
              "#ed7953"
             ],
             [
              0.7777777777777778,
              "#fb9f3a"
             ],
             [
              0.8888888888888888,
              "#fdca26"
             ],
             [
              1,
              "#f0f921"
             ]
            ],
            "type": "heatmapgl"
           }
          ],
          "histogram": [
           {
            "marker": {
             "pattern": {
              "fillmode": "overlay",
              "size": 10,
              "solidity": 0.2
             }
            },
            "type": "histogram"
           }
          ],
          "histogram2d": [
           {
            "colorbar": {
             "outlinewidth": 0,
             "ticks": ""
            },
            "colorscale": [
             [
              0,
              "#0d0887"
             ],
             [
              0.1111111111111111,
              "#46039f"
             ],
             [
              0.2222222222222222,
              "#7201a8"
             ],
             [
              0.3333333333333333,
              "#9c179e"
             ],
             [
              0.4444444444444444,
              "#bd3786"
             ],
             [
              0.5555555555555556,
              "#d8576b"
             ],
             [
              0.6666666666666666,
              "#ed7953"
             ],
             [
              0.7777777777777778,
              "#fb9f3a"
             ],
             [
              0.8888888888888888,
              "#fdca26"
             ],
             [
              1,
              "#f0f921"
             ]
            ],
            "type": "histogram2d"
           }
          ],
          "histogram2dcontour": [
           {
            "colorbar": {
             "outlinewidth": 0,
             "ticks": ""
            },
            "colorscale": [
             [
              0,
              "#0d0887"
             ],
             [
              0.1111111111111111,
              "#46039f"
             ],
             [
              0.2222222222222222,
              "#7201a8"
             ],
             [
              0.3333333333333333,
              "#9c179e"
             ],
             [
              0.4444444444444444,
              "#bd3786"
             ],
             [
              0.5555555555555556,
              "#d8576b"
             ],
             [
              0.6666666666666666,
              "#ed7953"
             ],
             [
              0.7777777777777778,
              "#fb9f3a"
             ],
             [
              0.8888888888888888,
              "#fdca26"
             ],
             [
              1,
              "#f0f921"
             ]
            ],
            "type": "histogram2dcontour"
           }
          ],
          "mesh3d": [
           {
            "colorbar": {
             "outlinewidth": 0,
             "ticks": ""
            },
            "type": "mesh3d"
           }
          ],
          "parcoords": [
           {
            "line": {
             "colorbar": {
              "outlinewidth": 0,
              "ticks": ""
             }
            },
            "type": "parcoords"
           }
          ],
          "pie": [
           {
            "automargin": true,
            "type": "pie"
           }
          ],
          "scatter": [
           {
            "fillpattern": {
             "fillmode": "overlay",
             "size": 10,
             "solidity": 0.2
            },
            "type": "scatter"
           }
          ],
          "scatter3d": [
           {
            "line": {
             "colorbar": {
              "outlinewidth": 0,
              "ticks": ""
             }
            },
            "marker": {
             "colorbar": {
              "outlinewidth": 0,
              "ticks": ""
             }
            },
            "type": "scatter3d"
           }
          ],
          "scattercarpet": [
           {
            "marker": {
             "colorbar": {
              "outlinewidth": 0,
              "ticks": ""
             }
            },
            "type": "scattercarpet"
           }
          ],
          "scattergeo": [
           {
            "marker": {
             "colorbar": {
              "outlinewidth": 0,
              "ticks": ""
             }
            },
            "type": "scattergeo"
           }
          ],
          "scattergl": [
           {
            "marker": {
             "colorbar": {
              "outlinewidth": 0,
              "ticks": ""
             }
            },
            "type": "scattergl"
           }
          ],
          "scattermapbox": [
           {
            "marker": {
             "colorbar": {
              "outlinewidth": 0,
              "ticks": ""
             }
            },
            "type": "scattermapbox"
           }
          ],
          "scatterpolar": [
           {
            "marker": {
             "colorbar": {
              "outlinewidth": 0,
              "ticks": ""
             }
            },
            "type": "scatterpolar"
           }
          ],
          "scatterpolargl": [
           {
            "marker": {
             "colorbar": {
              "outlinewidth": 0,
              "ticks": ""
             }
            },
            "type": "scatterpolargl"
           }
          ],
          "scatterternary": [
           {
            "marker": {
             "colorbar": {
              "outlinewidth": 0,
              "ticks": ""
             }
            },
            "type": "scatterternary"
           }
          ],
          "surface": [
           {
            "colorbar": {
             "outlinewidth": 0,
             "ticks": ""
            },
            "colorscale": [
             [
              0,
              "#0d0887"
             ],
             [
              0.1111111111111111,
              "#46039f"
             ],
             [
              0.2222222222222222,
              "#7201a8"
             ],
             [
              0.3333333333333333,
              "#9c179e"
             ],
             [
              0.4444444444444444,
              "#bd3786"
             ],
             [
              0.5555555555555556,
              "#d8576b"
             ],
             [
              0.6666666666666666,
              "#ed7953"
             ],
             [
              0.7777777777777778,
              "#fb9f3a"
             ],
             [
              0.8888888888888888,
              "#fdca26"
             ],
             [
              1,
              "#f0f921"
             ]
            ],
            "type": "surface"
           }
          ],
          "table": [
           {
            "cells": {
             "fill": {
              "color": "#EBF0F8"
             },
             "line": {
              "color": "white"
             }
            },
            "header": {
             "fill": {
              "color": "#C8D4E3"
             },
             "line": {
              "color": "white"
             }
            },
            "type": "table"
           }
          ]
         },
         "layout": {
          "annotationdefaults": {
           "arrowcolor": "#2a3f5f",
           "arrowhead": 0,
           "arrowwidth": 1
          },
          "autotypenumbers": "strict",
          "coloraxis": {
           "colorbar": {
            "outlinewidth": 0,
            "ticks": ""
           }
          },
          "colorscale": {
           "diverging": [
            [
             0,
             "#8e0152"
            ],
            [
             0.1,
             "#c51b7d"
            ],
            [
             0.2,
             "#de77ae"
            ],
            [
             0.3,
             "#f1b6da"
            ],
            [
             0.4,
             "#fde0ef"
            ],
            [
             0.5,
             "#f7f7f7"
            ],
            [
             0.6,
             "#e6f5d0"
            ],
            [
             0.7,
             "#b8e186"
            ],
            [
             0.8,
             "#7fbc41"
            ],
            [
             0.9,
             "#4d9221"
            ],
            [
             1,
             "#276419"
            ]
           ],
           "sequential": [
            [
             0,
             "#0d0887"
            ],
            [
             0.1111111111111111,
             "#46039f"
            ],
            [
             0.2222222222222222,
             "#7201a8"
            ],
            [
             0.3333333333333333,
             "#9c179e"
            ],
            [
             0.4444444444444444,
             "#bd3786"
            ],
            [
             0.5555555555555556,
             "#d8576b"
            ],
            [
             0.6666666666666666,
             "#ed7953"
            ],
            [
             0.7777777777777778,
             "#fb9f3a"
            ],
            [
             0.8888888888888888,
             "#fdca26"
            ],
            [
             1,
             "#f0f921"
            ]
           ],
           "sequentialminus": [
            [
             0,
             "#0d0887"
            ],
            [
             0.1111111111111111,
             "#46039f"
            ],
            [
             0.2222222222222222,
             "#7201a8"
            ],
            [
             0.3333333333333333,
             "#9c179e"
            ],
            [
             0.4444444444444444,
             "#bd3786"
            ],
            [
             0.5555555555555556,
             "#d8576b"
            ],
            [
             0.6666666666666666,
             "#ed7953"
            ],
            [
             0.7777777777777778,
             "#fb9f3a"
            ],
            [
             0.8888888888888888,
             "#fdca26"
            ],
            [
             1,
             "#f0f921"
            ]
           ]
          },
          "colorway": [
           "#636efa",
           "#EF553B",
           "#00cc96",
           "#ab63fa",
           "#FFA15A",
           "#19d3f3",
           "#FF6692",
           "#B6E880",
           "#FF97FF",
           "#FECB52"
          ],
          "font": {
           "color": "#2a3f5f"
          },
          "geo": {
           "bgcolor": "white",
           "lakecolor": "white",
           "landcolor": "#E5ECF6",
           "showlakes": true,
           "showland": true,
           "subunitcolor": "white"
          },
          "hoverlabel": {
           "align": "left"
          },
          "hovermode": "closest",
          "mapbox": {
           "style": "light"
          },
          "paper_bgcolor": "white",
          "plot_bgcolor": "#E5ECF6",
          "polar": {
           "angularaxis": {
            "gridcolor": "white",
            "linecolor": "white",
            "ticks": ""
           },
           "bgcolor": "#E5ECF6",
           "radialaxis": {
            "gridcolor": "white",
            "linecolor": "white",
            "ticks": ""
           }
          },
          "scene": {
           "xaxis": {
            "backgroundcolor": "#E5ECF6",
            "gridcolor": "white",
            "gridwidth": 2,
            "linecolor": "white",
            "showbackground": true,
            "ticks": "",
            "zerolinecolor": "white"
           },
           "yaxis": {
            "backgroundcolor": "#E5ECF6",
            "gridcolor": "white",
            "gridwidth": 2,
            "linecolor": "white",
            "showbackground": true,
            "ticks": "",
            "zerolinecolor": "white"
           },
           "zaxis": {
            "backgroundcolor": "#E5ECF6",
            "gridcolor": "white",
            "gridwidth": 2,
            "linecolor": "white",
            "showbackground": true,
            "ticks": "",
            "zerolinecolor": "white"
           }
          },
          "shapedefaults": {
           "line": {
            "color": "#2a3f5f"
           }
          },
          "ternary": {
           "aaxis": {
            "gridcolor": "white",
            "linecolor": "white",
            "ticks": ""
           },
           "baxis": {
            "gridcolor": "white",
            "linecolor": "white",
            "ticks": ""
           },
           "bgcolor": "#E5ECF6",
           "caxis": {
            "gridcolor": "white",
            "linecolor": "white",
            "ticks": ""
           }
          },
          "title": {
           "x": 0.05
          },
          "xaxis": {
           "automargin": true,
           "gridcolor": "white",
           "linecolor": "white",
           "ticks": "",
           "title": {
            "standoff": 15
           },
           "zerolinecolor": "white",
           "zerolinewidth": 2
          },
          "yaxis": {
           "automargin": true,
           "gridcolor": "white",
           "linecolor": "white",
           "ticks": "",
           "title": {
            "standoff": 15
           },
           "zerolinecolor": "white",
           "zerolinewidth": 2
          }
         }
        },
        "title": {
         "text": "Restaurant Count by Type for Chinese in Chennai with Best Seller as Hue"
        },
        "width": 800,
        "xaxis": {
         "anchor": "y",
         "categoryorder": "total descending",
         "domain": [
          0,
          1
         ],
         "title": {
          "text": "Restaurant Type"
         }
        },
        "yaxis": {
         "anchor": "x",
         "domain": [
          0,
          1
         ],
         "title": {
          "text": "Count"
         }
        }
       }
      }
     },
     "metadata": {},
     "output_type": "display_data"
    }
   ],
   "source": [
    "# plot restaurant type vs restaurant count with best_seller as hue\n",
    "\n",
    "# group by restaurant type\n",
    "biryani_restaurant_type_counts = df_chennai_chinese.groupby('restaurant_type')['restaurant_name'].nunique().reset_index()\n",
    "\n",
    "# add a new column for total votes\n",
    "biryani_restaurant_type_counts['best_seller'] = df_chennai_chinese.groupby('restaurant_type')['best_seller'].sum().values\n",
    "\n",
    "# create bar plot\n",
    "fig = px.bar(biryani_restaurant_type_counts, x='restaurant_type', y='restaurant_name',\n",
    "             color='best_seller', color_continuous_scale='Viridis',\n",
    "             labels={'restaurant_type': 'Restaurant Type', 'restaurant_name': 'Count', 'best_seller': 'Best Seller'},\n",
    "             title='Restaurant Count by Type for Chinese in Chennai with Best Seller as Hue')\n",
    "\n",
    "# order in descending\n",
    "fig.update_xaxes(categoryorder='total descending')\n",
    "\n",
    "# set the plot size\n",
    "fig.update_layout(width=800, height=500)\n",
    "\n",
    "# show the plot\n",
    "fig.show()"
   ]
  },
  {
   "cell_type": "markdown",
   "metadata": {
    "id": "TlWsJkwQOI5G"
   },
   "source": [
    "### **4. Best Selling Items Analysis**"
   ]
  },
  {
   "cell_type": "code",
   "execution_count": 50,
   "metadata": {
    "colab": {
     "base_uri": "https://localhost:8080/",
     "height": 363
    },
    "id": "LASs4gW4kIUc",
    "outputId": "c4b2b442-da3c-483b-d850-c8d09e83dd82"
   },
   "outputs": [
    {
     "data": {
      "text/html": [
       "<div>\n",
       "<style scoped>\n",
       "    .dataframe tbody tr th:only-of-type {\n",
       "        vertical-align: middle;\n",
       "    }\n",
       "\n",
       "    .dataframe tbody tr th {\n",
       "        vertical-align: top;\n",
       "    }\n",
       "\n",
       "    .dataframe thead th {\n",
       "        text-align: right;\n",
       "    }\n",
       "</style>\n",
       "<table border=\"1\" class=\"dataframe\">\n",
       "  <thead>\n",
       "    <tr style=\"text-align: right;\">\n",
       "      <th></th>\n",
       "      <th>item_name</th>\n",
       "      <th>item_votes</th>\n",
       "    </tr>\n",
       "  </thead>\n",
       "  <tbody>\n",
       "    <tr>\n",
       "      <th>17</th>\n",
       "      <td>Chicken Fried Rice</td>\n",
       "      <td>549</td>\n",
       "    </tr>\n",
       "    <tr>\n",
       "      <th>48</th>\n",
       "      <td>Grilled Chicken</td>\n",
       "      <td>514</td>\n",
       "    </tr>\n",
       "    <tr>\n",
       "      <th>18</th>\n",
       "      <td>Chicken Fried Rice Combo</td>\n",
       "      <td>197</td>\n",
       "    </tr>\n",
       "    <tr>\n",
       "      <th>65</th>\n",
       "      <td>Tandoori Chicken</td>\n",
       "      <td>166</td>\n",
       "    </tr>\n",
       "    <tr>\n",
       "      <th>38</th>\n",
       "      <td>Dragon Chicken</td>\n",
       "      <td>144</td>\n",
       "    </tr>\n",
       "    <tr>\n",
       "      <th>7</th>\n",
       "      <td>Chicken Biryani with Chicken 65 Combo</td>\n",
       "      <td>140</td>\n",
       "    </tr>\n",
       "    <tr>\n",
       "      <th>0</th>\n",
       "      <td>BBQ Chicken</td>\n",
       "      <td>117</td>\n",
       "    </tr>\n",
       "    <tr>\n",
       "      <th>29</th>\n",
       "      <td>Chicken Schezwan Fried Rice</td>\n",
       "      <td>102</td>\n",
       "    </tr>\n",
       "    <tr>\n",
       "      <th>23</th>\n",
       "      <td>Chicken Malabar Biryani</td>\n",
       "      <td>86</td>\n",
       "    </tr>\n",
       "    <tr>\n",
       "      <th>35</th>\n",
       "      <td>Chilli Chicken</td>\n",
       "      <td>79</td>\n",
       "    </tr>\n",
       "  </tbody>\n",
       "</table>\n",
       "</div>"
      ],
      "text/plain": [
       "                                item_name  item_votes\n",
       "17                     Chicken Fried Rice         549\n",
       "48                        Grilled Chicken         514\n",
       "18               Chicken Fried Rice Combo         197\n",
       "65                       Tandoori Chicken         166\n",
       "38                         Dragon Chicken         144\n",
       "7   Chicken Biryani with Chicken 65 Combo         140\n",
       "0                             BBQ Chicken         117\n",
       "29            Chicken Schezwan Fried Rice         102\n",
       "23                Chicken Malabar Biryani          86\n",
       "35                         Chilli Chicken          79"
      ]
     },
     "execution_count": 50,
     "metadata": {},
     "output_type": "execute_result"
    }
   ],
   "source": [
    "# identify the best selling items based on item_votes\n",
    "\n",
    "# filter the best selling items\n",
    "filtered_data = df_chennai_chinese[df_chennai_chinese['best_seller'] == 1]\n",
    "\n",
    "# group data by item_name and calculate the sum of item_votes\n",
    "grouped_data = filtered_data.groupby('item_name')['item_votes'].sum().reset_index()\n",
    "\n",
    "# sort the data by item_votes in descending order\n",
    "sorted_data = grouped_data.sort_values(by='item_votes', ascending=False)\n",
    "\n",
    "# 10 best selling items\n",
    "sorted_data[['item_name', 'item_votes']].head(10)"
   ]
  },
  {
   "cell_type": "markdown",
   "metadata": {
    "id": "ZpqE68tHjJxP"
   },
   "source": [
    "### **5. Price Range Analysis**"
   ]
  },
  {
   "cell_type": "code",
   "execution_count": 51,
   "metadata": {
    "colab": {
     "base_uri": "https://localhost:8080/",
     "height": 517
    },
    "id": "RnlglwPKjQ7V",
    "outputId": "7410de41-95af-44f6-a7a3-ac7be159a64b"
   },
   "outputs": [
    {
     "data": {
      "application/vnd.plotly.v1+json": {
       "config": {
        "plotlyServerURL": "https://plot.ly"
       },
       "data": [
        {
         "alignmentgroup": "True",
         "hovertemplate": "prices=%{x}<extra></extra>",
         "legendgroup": "",
         "marker": {
          "color": "#636efa"
         },
         "name": "",
         "notched": false,
         "offsetgroup": "",
         "orientation": "h",
         "showlegend": false,
         "type": "box",
         "x": [
          342,
          317,
          272,
          312,
          260,
          365,
          360,
          305,
          207,
          383,
          234,
          162,
          299,
          370,
          1992,
          234,
          1811,
          541,
          401,
          221,
          380,
          356,
          348,
          456,
          368,
          214,
          510,
          234,
          234,
          221,
          221,
          214,
          409,
          254,
          378,
          341,
          509,
          227,
          207,
          207,
          214,
          207,
          260,
          182,
          195,
          195,
          201,
          260,
          221,
          286,
          221,
          221,
          221,
          221,
          221,
          221,
          227,
          215,
          234,
          221,
          371,
          371,
          207,
          219,
          219,
          237,
          247,
          77,
          77,
          221,
          110,
          162,
          207,
          185,
          326,
          345,
          326,
          317,
          352,
          383,
          391,
          416,
          416,
          391,
          391,
          358,
          299,
          345,
          358,
          358,
          305,
          345,
          436,
          436,
          305,
          305,
          315,
          315,
          305,
          345,
          326,
          345,
          305,
          496,
          534,
          468,
          496,
          496,
          460,
          443,
          496,
          496,
          496,
          496,
          496,
          496,
          496,
          550,
          612,
          599,
          509,
          620,
          607,
          751,
          641,
          612,
          730,
          730,
          599,
          632,
          723,
          685,
          632,
          594,
          1592,
          907,
          234,
          342,
          627,
          625,
          1371,
          1109,
          911,
          588,
          599,
          617,
          456,
          469,
          515,
          435,
          455,
          414,
          513,
          308,
          272,
          302,
          302,
          302,
          308,
          308,
          294,
          308,
          308,
          352,
          352,
          344,
          408,
          408,
          408,
          408,
          408,
          457,
          457,
          358,
          355,
          312,
          312,
          541,
          541,
          541,
          594,
          522,
          534,
          607,
          561,
          625,
          391,
          468,
          481,
          481,
          481,
          481,
          481,
          481,
          481,
          481,
          522,
          522,
          522,
          522,
          541,
          405,
          697,
          730,
          697,
          742,
          759,
          599,
          599,
          678,
          639,
          639,
          639,
          612,
          678,
          665,
          639,
          607,
          580,
          580,
          576,
          424,
          522,
          436,
          445,
          438,
          438,
          438,
          540,
          433,
          70,
          20,
          57,
          70,
          70,
          90,
          90,
          84,
          103,
          51,
          35,
          84,
          84,
          103,
          103,
          123,
          136,
          162,
          182,
          221,
          207,
          227,
          254,
          312,
          378,
          305,
          365,
          387,
          450,
          426,
          248,
          452,
          280,
          286,
          861,
          312,
          312,
          365,
          370,
          403,
          397,
          424,
          456,
          397,
          493,
          547,
          510,
          547,
          534,
          534,
          391,
          436,
          378,
          378,
          405,
          378,
          378,
          378,
          528,
          509,
          501,
          528,
          489,
          561,
          534,
          471,
          577,
          534,
          489,
          514,
          534,
          514,
          514,
          534,
          534,
          514,
          612,
          554,
          580,
          554,
          509,
          534,
          547,
          227,
          319,
          305,
          272,
          299,
          340,
          416,
          416,
          403,
          403,
          484,
          436,
          456,
          476,
          424,
          272,
          280,
          319,
          286,
          319,
          378,
          338,
          378,
          375,
          399,
          404,
          404,
          456,
          489,
          484,
          484,
          484,
          484,
          509,
          501,
          550,
          550,
          214,
          239,
          239,
          254,
          269,
          266,
          266,
          174,
          187,
          181,
          314,
          363,
          150,
          123,
          157,
          157,
          150,
          157,
          157,
          162,
          157,
          162,
          195,
          162,
          195,
          96,
          133,
          133,
          96,
          133,
          133,
          96,
          145,
          108,
          108,
          145,
          108,
          116,
          195,
          66,
          84,
          221,
          114,
          181,
          195,
          370,
          66,
          182,
          157,
          165,
          162,
          141,
          157,
          157,
          169,
          141,
          157,
          188,
          199,
          157,
          187,
          171,
          171,
          185,
          185,
          185,
          195,
          243,
          185,
          195,
          195,
          185,
          185,
          185,
          195,
          185,
          195,
          214,
          203,
          214,
          234,
          286,
          280,
          463,
          319,
          319,
          283,
          272,
          272,
          319,
          319,
          319,
          293,
          234,
          234,
          234,
          234,
          234,
          253,
          253,
          253,
          253,
          253,
          115,
          121,
          138,
          114,
          138,
          145,
          145,
          157,
          169,
          195,
          195,
          195,
          195,
          171,
          171,
          200,
          200,
          214,
          260,
          229,
          238,
          326,
          326,
          345,
          195,
          195,
          195,
          192,
          253,
          143,
          198,
          198,
          198,
          393,
          239,
          254,
          254,
          254,
          234,
          214,
          234,
          207,
          195,
          195,
          221,
          198,
          260,
          195,
          214,
          214,
          221,
          117,
          115,
          115,
          115,
          126,
          149,
          149,
          126,
          149,
          149,
          126,
          126,
          150,
          163,
          149,
          191,
          160,
          182,
          181,
          174,
          187,
          271,
          162,
          169,
          207,
          207,
          207,
          207,
          207,
          211,
          207,
          243,
          214,
          221,
          247,
          247,
          187,
          247,
          254,
          207,
          207,
          207,
          207,
          207,
          182,
          159,
          220,
          143,
          253,
          198,
          308,
          253,
          253,
          170,
          170,
          170,
          170,
          170,
          1000,
          2000,
          820,
          1600,
          199,
          355,
          255,
          259,
          169,
          249,
          275,
          209,
          275,
          235,
          225,
          139,
          255,
          199,
          239,
          265,
          195,
          245,
          325,
          190,
          285,
          275,
          269,
          265,
          129,
          205,
          132.39,
          175,
          325,
          159,
          295,
          285,
          255,
          235,
          235,
          99,
          119,
          279,
          315,
          305,
          275,
          275,
          235,
          190,
          375,
          385,
          345,
          305,
          285,
          235,
          325,
          255,
          225,
          185,
          205,
          205,
          245,
          255,
          245,
          195,
          225,
          225,
          275,
          295,
          265,
          275,
          265,
          245,
          245,
          235,
          295,
          275,
          220,
          235,
          225,
          175,
          195,
          165,
          325,
          295,
          285,
          275,
          295,
          295,
          285,
          265,
          265,
          235,
          225,
          225,
          245,
          355,
          345,
          315,
          325,
          295,
          445,
          445,
          405,
          385,
          435,
          375,
          385,
          365,
          395,
          465,
          365,
          355,
          355,
          435,
          505,
          475,
          166.66,
          94.29,
          95.23,
          132.39,
          95.24,
          57.15,
          57.15,
          325,
          215,
          320,
          350,
          330,
          325,
          184,
          175,
          245,
          325,
          300,
          300,
          184,
          360,
          305,
          178,
          98,
          200,
          360,
          345,
          330,
          315,
          315,
          300,
          300,
          290,
          290,
          260,
          255,
          250,
          260,
          165,
          100,
          68,
          81,
          106,
          106,
          112,
          125,
          125,
          125,
          212,
          212,
          360,
          165,
          165,
          165,
          165,
          180,
          169,
          173,
          173,
          178,
          184,
          184,
          114,
          245,
          250,
          245,
          250,
          250,
          250,
          220,
          245,
          250,
          255,
          255,
          300,
          320,
          330,
          360,
          310,
          245,
          245,
          250,
          250,
          255,
          285,
          250,
          98,
          200,
          80,
          75,
          80,
          245,
          260,
          245,
          245,
          240,
          325,
          300,
          320,
          360,
          315,
          320,
          315,
          325,
          300,
          310,
          310,
          310,
          310,
          290,
          360,
          360,
          360,
          245,
          260,
          260,
          240,
          240,
          290,
          315,
          325,
          335,
          245,
          260,
          260,
          260,
          255,
          182,
          260,
          240,
          315,
          325,
          335,
          260,
          260,
          305,
          335,
          335,
          345,
          345,
          50,
          98,
          25,
          107,
          107,
          107,
          107,
          107,
          107,
          128,
          128,
          128,
          138,
          138,
          321,
          307,
          266,
          252,
          419,
          349,
          294,
          293,
          280,
          251,
          238,
          237,
          224,
          224,
          223,
          223,
          210,
          210,
          209,
          195,
          181,
          293,
          252,
          209,
          223,
          237,
          307,
          363,
          223,
          279,
          237,
          237,
          195,
          181,
          321,
          321,
          349,
          195,
          363,
          475,
          391,
          391,
          405,
          433,
          377,
          377,
          251,
          251,
          251,
          223,
          223,
          223,
          209,
          181,
          280,
          266,
          210,
          238,
          224,
          308,
          322,
          238,
          238,
          280,
          266,
          280,
          196,
          210,
          294,
          308,
          307,
          294,
          280,
          252,
          252,
          238,
          224,
          238,
          252,
          322,
          336,
          280,
          252,
          252,
          308,
          294,
          266,
          294,
          238,
          210,
          224,
          279,
          265,
          307,
          265,
          307,
          293,
          321,
          419,
          419,
          321,
          321,
          419,
          335,
          335,
          335,
          335,
          405,
          335,
          307,
          307,
          307,
          279,
          153,
          153,
          35,
          70,
          35,
          70,
          30,
          293,
          223,
          45,
          45,
          35,
          30,
          45,
          35,
          30,
          30,
          35,
          195,
          260,
          210,
          221,
          221,
          234,
          200,
          247,
          234,
          234,
          210,
          247,
          220,
          195,
          286,
          182,
          170,
          247,
          234,
          230,
          221,
          220,
          110,
          195,
          182,
          312,
          286,
          286,
          280,
          120,
          273,
          260,
          90,
          100,
          120,
          100,
          100,
          110,
          110,
          170,
          210,
          230,
          234,
          247,
          156,
          182,
          200,
          182,
          208,
          221,
          200,
          234,
          234,
          247,
          221,
          195,
          247,
          260,
          273,
          286,
          286,
          247,
          270,
          260,
          273,
          270,
          243,
          200,
          200,
          208,
          247,
          234,
          234,
          247,
          234,
          247,
          195,
          207,
          182,
          195,
          140,
          182,
          180,
          180,
          195,
          190,
          190,
          234,
          325,
          325,
          182,
          195,
          208,
          208,
          135,
          200,
          270,
          135,
          216,
          200,
          270,
          256.5,
          190,
          256.5,
          256.5,
          216,
          229.5,
          216,
          195,
          178.5,
          178.5,
          178.5,
          243,
          242,
          243,
          252,
          335,
          355,
          243,
          270,
          256.5,
          256.5,
          229.5,
          229.5,
          243,
          243,
          229.5,
          216,
          202.5,
          202.5,
          216,
          178.5,
          202.5,
          202.5,
          216,
          229.5,
          216,
          216,
          202.5,
          189,
          158,
          202.5,
          216,
          147,
          189,
          202.5,
          216,
          229.5,
          202.5,
          202.5,
          229.5,
          229.5,
          229.5,
          202.5,
          202.5,
          202.5,
          216,
          202.5,
          175.5,
          57.5,
          57.5,
          40,
          81,
          33.75,
          50,
          65,
          121.5,
          121.5,
          135,
          135,
          20.25,
          27,
          202.5,
          202.5,
          202.5,
          189,
          162,
          202.5,
          202.5,
          216,
          202.5,
          222.75,
          199.5,
          202.5,
          168,
          216,
          216,
          202.5,
          173.5,
          222.75,
          202.5,
          202.5,
          270,
          270,
          270,
          216,
          216,
          216,
          216,
          216,
          270,
          270,
          270,
          175.5,
          121.5,
          135,
          81,
          94.5,
          94.5,
          135,
          121.5,
          94.5,
          121.5,
          81,
          67.5,
          81,
          67.5,
          108,
          121.5,
          108,
          121.5,
          121.5,
          99.75,
          67.5,
          121.5,
          135,
          162,
          84,
          162,
          110,
          175.5,
          175.5,
          135,
          162,
          189,
          189,
          135,
          94.5,
          108,
          78.75,
          94.5,
          162,
          143.5,
          170,
          67.5,
          94.5,
          135,
          135,
          162,
          202.5,
          216,
          121.5,
          135,
          135,
          162,
          135,
          189,
          202.5,
          81,
          108,
          78.75,
          108,
          94.5,
          94.5,
          108,
          121.5,
          128.25,
          84,
          81,
          81,
          66.15,
          67.5,
          108,
          81,
          84,
          80,
          80,
          373,
          373,
          431,
          374,
          374,
          374,
          373,
          201,
          431,
          402,
          402,
          402,
          402,
          402,
          402,
          391,
          374,
          374,
          373,
          373,
          362,
          362,
          362,
          345,
          345,
          316,
          316,
          316,
          316,
          316,
          2699,
          2099,
          1199,
          999,
          275,
          275,
          275,
          295,
          255,
          255,
          255,
          275,
          201,
          201,
          201,
          201,
          224,
          167,
          167,
          167,
          167,
          167,
          373,
          374,
          345,
          345,
          345,
          362,
          362,
          362,
          362,
          362,
          402,
          402,
          402,
          402,
          402,
          402,
          250,
          316,
          345,
          345,
          431,
          402,
          373,
          402,
          374,
          345,
          431,
          345,
          431,
          402,
          402,
          374,
          374,
          374,
          374,
          402,
          374,
          391,
          391,
          391,
          374,
          374,
          374,
          374,
          431,
          431,
          402,
          460,
          402,
          402,
          373,
          402,
          402,
          431,
          431,
          431,
          431,
          402,
          402,
          260,
          250,
          260,
          395,
          295,
          210,
          395,
          395,
          270,
          395,
          395,
          260,
          285,
          285,
          330,
          400,
          395,
          395,
          250,
          280,
          275,
          270,
          350,
          150,
          270,
          270,
          270,
          270,
          260,
          150,
          440,
          400,
          395,
          295,
          285,
          285,
          280,
          135,
          135,
          135,
          135,
          370,
          145,
          130,
          135,
          130,
          130,
          260,
          130,
          155,
          155,
          155,
          155,
          480,
          165,
          145,
          145,
          175,
          270,
          145,
          165,
          165,
          165,
          165,
          530,
          175,
          160,
          160,
          155,
          155,
          280,
          155,
          185,
          270,
          185,
          185,
          630,
          195,
          170,
          170,
          165,
          165,
          290,
          185,
          165,
          320,
          320,
          320,
          320,
          330,
          320,
          320,
          340,
          330,
          330,
          340,
          395,
          395,
          395,
          395,
          395,
          395,
          400,
          295,
          395,
          400,
          400,
          440,
          440,
          440,
          440,
          440,
          800,
          395,
          395,
          365,
          330,
          330,
          350,
          370,
          370,
          340,
          330,
          380,
          380,
          395,
          395,
          395,
          395,
          395,
          395,
          395,
          395,
          430,
          430,
          430,
          430,
          430,
          430,
          430,
          400,
          400,
          400,
          400,
          400,
          250,
          260,
          260,
          260,
          260,
          260,
          265,
          260,
          260,
          260,
          260,
          285,
          260,
          260,
          270,
          270,
          270,
          270,
          270,
          270,
          275,
          275,
          275,
          270,
          280,
          280,
          280,
          280,
          280,
          280,
          285,
          285,
          285,
          305,
          280,
          280,
          280,
          290,
          290,
          290,
          290,
          290,
          295,
          290,
          290,
          295,
          295,
          295,
          320,
          290,
          290,
          260,
          260,
          260,
          260,
          260,
          260,
          260,
          260,
          260,
          275,
          275,
          275,
          275,
          275,
          260,
          260,
          260,
          270,
          275,
          275,
          270,
          270,
          270,
          275,
          285,
          285,
          270,
          270,
          270,
          280,
          285,
          280,
          280,
          280,
          280,
          280,
          285,
          295,
          295,
          295,
          295,
          295,
          280,
          280,
          280,
          280,
          290,
          295,
          290,
          290,
          290,
          290,
          290,
          295,
          305,
          305,
          305,
          305,
          305,
          290,
          290,
          290,
          280,
          360,
          180,
          420,
          295
         ],
         "x0": " ",
         "xaxis": "x",
         "y0": " ",
         "yaxis": "y"
        }
       ],
       "layout": {
        "boxmode": "group",
        "height": 500,
        "legend": {
         "tracegroupgap": 0
        },
        "template": {
         "data": {
          "bar": [
           {
            "error_x": {
             "color": "#2a3f5f"
            },
            "error_y": {
             "color": "#2a3f5f"
            },
            "marker": {
             "line": {
              "color": "#E5ECF6",
              "width": 0.5
             },
             "pattern": {
              "fillmode": "overlay",
              "size": 10,
              "solidity": 0.2
             }
            },
            "type": "bar"
           }
          ],
          "barpolar": [
           {
            "marker": {
             "line": {
              "color": "#E5ECF6",
              "width": 0.5
             },
             "pattern": {
              "fillmode": "overlay",
              "size": 10,
              "solidity": 0.2
             }
            },
            "type": "barpolar"
           }
          ],
          "carpet": [
           {
            "aaxis": {
             "endlinecolor": "#2a3f5f",
             "gridcolor": "white",
             "linecolor": "white",
             "minorgridcolor": "white",
             "startlinecolor": "#2a3f5f"
            },
            "baxis": {
             "endlinecolor": "#2a3f5f",
             "gridcolor": "white",
             "linecolor": "white",
             "minorgridcolor": "white",
             "startlinecolor": "#2a3f5f"
            },
            "type": "carpet"
           }
          ],
          "choropleth": [
           {
            "colorbar": {
             "outlinewidth": 0,
             "ticks": ""
            },
            "type": "choropleth"
           }
          ],
          "contour": [
           {
            "colorbar": {
             "outlinewidth": 0,
             "ticks": ""
            },
            "colorscale": [
             [
              0,
              "#0d0887"
             ],
             [
              0.1111111111111111,
              "#46039f"
             ],
             [
              0.2222222222222222,
              "#7201a8"
             ],
             [
              0.3333333333333333,
              "#9c179e"
             ],
             [
              0.4444444444444444,
              "#bd3786"
             ],
             [
              0.5555555555555556,
              "#d8576b"
             ],
             [
              0.6666666666666666,
              "#ed7953"
             ],
             [
              0.7777777777777778,
              "#fb9f3a"
             ],
             [
              0.8888888888888888,
              "#fdca26"
             ],
             [
              1,
              "#f0f921"
             ]
            ],
            "type": "contour"
           }
          ],
          "contourcarpet": [
           {
            "colorbar": {
             "outlinewidth": 0,
             "ticks": ""
            },
            "type": "contourcarpet"
           }
          ],
          "heatmap": [
           {
            "colorbar": {
             "outlinewidth": 0,
             "ticks": ""
            },
            "colorscale": [
             [
              0,
              "#0d0887"
             ],
             [
              0.1111111111111111,
              "#46039f"
             ],
             [
              0.2222222222222222,
              "#7201a8"
             ],
             [
              0.3333333333333333,
              "#9c179e"
             ],
             [
              0.4444444444444444,
              "#bd3786"
             ],
             [
              0.5555555555555556,
              "#d8576b"
             ],
             [
              0.6666666666666666,
              "#ed7953"
             ],
             [
              0.7777777777777778,
              "#fb9f3a"
             ],
             [
              0.8888888888888888,
              "#fdca26"
             ],
             [
              1,
              "#f0f921"
             ]
            ],
            "type": "heatmap"
           }
          ],
          "heatmapgl": [
           {
            "colorbar": {
             "outlinewidth": 0,
             "ticks": ""
            },
            "colorscale": [
             [
              0,
              "#0d0887"
             ],
             [
              0.1111111111111111,
              "#46039f"
             ],
             [
              0.2222222222222222,
              "#7201a8"
             ],
             [
              0.3333333333333333,
              "#9c179e"
             ],
             [
              0.4444444444444444,
              "#bd3786"
             ],
             [
              0.5555555555555556,
              "#d8576b"
             ],
             [
              0.6666666666666666,
              "#ed7953"
             ],
             [
              0.7777777777777778,
              "#fb9f3a"
             ],
             [
              0.8888888888888888,
              "#fdca26"
             ],
             [
              1,
              "#f0f921"
             ]
            ],
            "type": "heatmapgl"
           }
          ],
          "histogram": [
           {
            "marker": {
             "pattern": {
              "fillmode": "overlay",
              "size": 10,
              "solidity": 0.2
             }
            },
            "type": "histogram"
           }
          ],
          "histogram2d": [
           {
            "colorbar": {
             "outlinewidth": 0,
             "ticks": ""
            },
            "colorscale": [
             [
              0,
              "#0d0887"
             ],
             [
              0.1111111111111111,
              "#46039f"
             ],
             [
              0.2222222222222222,
              "#7201a8"
             ],
             [
              0.3333333333333333,
              "#9c179e"
             ],
             [
              0.4444444444444444,
              "#bd3786"
             ],
             [
              0.5555555555555556,
              "#d8576b"
             ],
             [
              0.6666666666666666,
              "#ed7953"
             ],
             [
              0.7777777777777778,
              "#fb9f3a"
             ],
             [
              0.8888888888888888,
              "#fdca26"
             ],
             [
              1,
              "#f0f921"
             ]
            ],
            "type": "histogram2d"
           }
          ],
          "histogram2dcontour": [
           {
            "colorbar": {
             "outlinewidth": 0,
             "ticks": ""
            },
            "colorscale": [
             [
              0,
              "#0d0887"
             ],
             [
              0.1111111111111111,
              "#46039f"
             ],
             [
              0.2222222222222222,
              "#7201a8"
             ],
             [
              0.3333333333333333,
              "#9c179e"
             ],
             [
              0.4444444444444444,
              "#bd3786"
             ],
             [
              0.5555555555555556,
              "#d8576b"
             ],
             [
              0.6666666666666666,
              "#ed7953"
             ],
             [
              0.7777777777777778,
              "#fb9f3a"
             ],
             [
              0.8888888888888888,
              "#fdca26"
             ],
             [
              1,
              "#f0f921"
             ]
            ],
            "type": "histogram2dcontour"
           }
          ],
          "mesh3d": [
           {
            "colorbar": {
             "outlinewidth": 0,
             "ticks": ""
            },
            "type": "mesh3d"
           }
          ],
          "parcoords": [
           {
            "line": {
             "colorbar": {
              "outlinewidth": 0,
              "ticks": ""
             }
            },
            "type": "parcoords"
           }
          ],
          "pie": [
           {
            "automargin": true,
            "type": "pie"
           }
          ],
          "scatter": [
           {
            "fillpattern": {
             "fillmode": "overlay",
             "size": 10,
             "solidity": 0.2
            },
            "type": "scatter"
           }
          ],
          "scatter3d": [
           {
            "line": {
             "colorbar": {
              "outlinewidth": 0,
              "ticks": ""
             }
            },
            "marker": {
             "colorbar": {
              "outlinewidth": 0,
              "ticks": ""
             }
            },
            "type": "scatter3d"
           }
          ],
          "scattercarpet": [
           {
            "marker": {
             "colorbar": {
              "outlinewidth": 0,
              "ticks": ""
             }
            },
            "type": "scattercarpet"
           }
          ],
          "scattergeo": [
           {
            "marker": {
             "colorbar": {
              "outlinewidth": 0,
              "ticks": ""
             }
            },
            "type": "scattergeo"
           }
          ],
          "scattergl": [
           {
            "marker": {
             "colorbar": {
              "outlinewidth": 0,
              "ticks": ""
             }
            },
            "type": "scattergl"
           }
          ],
          "scattermapbox": [
           {
            "marker": {
             "colorbar": {
              "outlinewidth": 0,
              "ticks": ""
             }
            },
            "type": "scattermapbox"
           }
          ],
          "scatterpolar": [
           {
            "marker": {
             "colorbar": {
              "outlinewidth": 0,
              "ticks": ""
             }
            },
            "type": "scatterpolar"
           }
          ],
          "scatterpolargl": [
           {
            "marker": {
             "colorbar": {
              "outlinewidth": 0,
              "ticks": ""
             }
            },
            "type": "scatterpolargl"
           }
          ],
          "scatterternary": [
           {
            "marker": {
             "colorbar": {
              "outlinewidth": 0,
              "ticks": ""
             }
            },
            "type": "scatterternary"
           }
          ],
          "surface": [
           {
            "colorbar": {
             "outlinewidth": 0,
             "ticks": ""
            },
            "colorscale": [
             [
              0,
              "#0d0887"
             ],
             [
              0.1111111111111111,
              "#46039f"
             ],
             [
              0.2222222222222222,
              "#7201a8"
             ],
             [
              0.3333333333333333,
              "#9c179e"
             ],
             [
              0.4444444444444444,
              "#bd3786"
             ],
             [
              0.5555555555555556,
              "#d8576b"
             ],
             [
              0.6666666666666666,
              "#ed7953"
             ],
             [
              0.7777777777777778,
              "#fb9f3a"
             ],
             [
              0.8888888888888888,
              "#fdca26"
             ],
             [
              1,
              "#f0f921"
             ]
            ],
            "type": "surface"
           }
          ],
          "table": [
           {
            "cells": {
             "fill": {
              "color": "#EBF0F8"
             },
             "line": {
              "color": "white"
             }
            },
            "header": {
             "fill": {
              "color": "#C8D4E3"
             },
             "line": {
              "color": "white"
             }
            },
            "type": "table"
           }
          ]
         },
         "layout": {
          "annotationdefaults": {
           "arrowcolor": "#2a3f5f",
           "arrowhead": 0,
           "arrowwidth": 1
          },
          "autotypenumbers": "strict",
          "coloraxis": {
           "colorbar": {
            "outlinewidth": 0,
            "ticks": ""
           }
          },
          "colorscale": {
           "diverging": [
            [
             0,
             "#8e0152"
            ],
            [
             0.1,
             "#c51b7d"
            ],
            [
             0.2,
             "#de77ae"
            ],
            [
             0.3,
             "#f1b6da"
            ],
            [
             0.4,
             "#fde0ef"
            ],
            [
             0.5,
             "#f7f7f7"
            ],
            [
             0.6,
             "#e6f5d0"
            ],
            [
             0.7,
             "#b8e186"
            ],
            [
             0.8,
             "#7fbc41"
            ],
            [
             0.9,
             "#4d9221"
            ],
            [
             1,
             "#276419"
            ]
           ],
           "sequential": [
            [
             0,
             "#0d0887"
            ],
            [
             0.1111111111111111,
             "#46039f"
            ],
            [
             0.2222222222222222,
             "#7201a8"
            ],
            [
             0.3333333333333333,
             "#9c179e"
            ],
            [
             0.4444444444444444,
             "#bd3786"
            ],
            [
             0.5555555555555556,
             "#d8576b"
            ],
            [
             0.6666666666666666,
             "#ed7953"
            ],
            [
             0.7777777777777778,
             "#fb9f3a"
            ],
            [
             0.8888888888888888,
             "#fdca26"
            ],
            [
             1,
             "#f0f921"
            ]
           ],
           "sequentialminus": [
            [
             0,
             "#0d0887"
            ],
            [
             0.1111111111111111,
             "#46039f"
            ],
            [
             0.2222222222222222,
             "#7201a8"
            ],
            [
             0.3333333333333333,
             "#9c179e"
            ],
            [
             0.4444444444444444,
             "#bd3786"
            ],
            [
             0.5555555555555556,
             "#d8576b"
            ],
            [
             0.6666666666666666,
             "#ed7953"
            ],
            [
             0.7777777777777778,
             "#fb9f3a"
            ],
            [
             0.8888888888888888,
             "#fdca26"
            ],
            [
             1,
             "#f0f921"
            ]
           ]
          },
          "colorway": [
           "#636efa",
           "#EF553B",
           "#00cc96",
           "#ab63fa",
           "#FFA15A",
           "#19d3f3",
           "#FF6692",
           "#B6E880",
           "#FF97FF",
           "#FECB52"
          ],
          "font": {
           "color": "#2a3f5f"
          },
          "geo": {
           "bgcolor": "white",
           "lakecolor": "white",
           "landcolor": "#E5ECF6",
           "showlakes": true,
           "showland": true,
           "subunitcolor": "white"
          },
          "hoverlabel": {
           "align": "left"
          },
          "hovermode": "closest",
          "mapbox": {
           "style": "light"
          },
          "paper_bgcolor": "white",
          "plot_bgcolor": "#E5ECF6",
          "polar": {
           "angularaxis": {
            "gridcolor": "white",
            "linecolor": "white",
            "ticks": ""
           },
           "bgcolor": "#E5ECF6",
           "radialaxis": {
            "gridcolor": "white",
            "linecolor": "white",
            "ticks": ""
           }
          },
          "scene": {
           "xaxis": {
            "backgroundcolor": "#E5ECF6",
            "gridcolor": "white",
            "gridwidth": 2,
            "linecolor": "white",
            "showbackground": true,
            "ticks": "",
            "zerolinecolor": "white"
           },
           "yaxis": {
            "backgroundcolor": "#E5ECF6",
            "gridcolor": "white",
            "gridwidth": 2,
            "linecolor": "white",
            "showbackground": true,
            "ticks": "",
            "zerolinecolor": "white"
           },
           "zaxis": {
            "backgroundcolor": "#E5ECF6",
            "gridcolor": "white",
            "gridwidth": 2,
            "linecolor": "white",
            "showbackground": true,
            "ticks": "",
            "zerolinecolor": "white"
           }
          },
          "shapedefaults": {
           "line": {
            "color": "#2a3f5f"
           }
          },
          "ternary": {
           "aaxis": {
            "gridcolor": "white",
            "linecolor": "white",
            "ticks": ""
           },
           "baxis": {
            "gridcolor": "white",
            "linecolor": "white",
            "ticks": ""
           },
           "bgcolor": "#E5ECF6",
           "caxis": {
            "gridcolor": "white",
            "linecolor": "white",
            "ticks": ""
           }
          },
          "title": {
           "x": 0.05
          },
          "xaxis": {
           "automargin": true,
           "gridcolor": "white",
           "linecolor": "white",
           "ticks": "",
           "title": {
            "standoff": 15
           },
           "zerolinecolor": "white",
           "zerolinewidth": 2
          },
          "yaxis": {
           "automargin": true,
           "gridcolor": "white",
           "linecolor": "white",
           "ticks": "",
           "title": {
            "standoff": 15
           },
           "zerolinecolor": "white",
           "zerolinewidth": 2
          }
         }
        },
        "title": {
         "text": "Box Plot of Prices of all Items"
        },
        "width": 800,
        "xaxis": {
         "anchor": "y",
         "domain": [
          0,
          1
         ],
         "title": {
          "text": "Prices"
         }
        },
        "yaxis": {
         "anchor": "x",
         "domain": [
          0,
          1
         ]
        }
       }
      }
     },
     "metadata": {},
     "output_type": "display_data"
    }
   ],
   "source": [
    "# plot boxplot of prices of all items\n",
    "\n",
    "fig = px.box(df_chennai_chinese, x='prices', title='Box Plot of Prices of all Items')\n",
    "fig.update_layout(xaxis_title='Prices')\n",
    "\n",
    "# set the plot size\n",
    "fig.update_layout(width=800, height=500)\n",
    "\n",
    "# show the plot\n",
    "fig.show()"
   ]
  },
  {
   "cell_type": "code",
   "execution_count": 52,
   "metadata": {
    "colab": {
     "base_uri": "https://localhost:8080/",
     "height": 517
    },
    "id": "DaD--lTtjaKf",
    "outputId": "bcaff10d-d127-4536-e304-abada8e2d856"
   },
   "outputs": [
    {
     "data": {
      "application/vnd.plotly.v1+json": {
       "config": {
        "plotlyServerURL": "https://plot.ly"
       },
       "data": [
        {
         "alignmentgroup": "True",
         "hovertemplate": "prices=%{x}<extra></extra>",
         "legendgroup": "",
         "marker": {
          "color": "#636efa"
         },
         "name": "",
         "notched": false,
         "offsetgroup": "",
         "orientation": "h",
         "showlegend": false,
         "type": "box",
         "x": [
          272,
          260,
          383,
          401,
          221,
          510,
          317,
          234,
          342,
          312,
          305,
          365,
          299,
          370,
          355,
          255,
          275,
          235,
          190,
          325,
          275,
          225,
          325,
          350,
          325,
          300,
          98,
          300,
          360,
          330,
          325,
          321,
          307,
          266,
          252,
          419,
          252,
          321,
          195,
          363,
          280,
          335,
          260,
          210,
          221,
          234,
          247,
          286,
          182,
          286,
          195,
          286,
          200,
          234,
          373,
          373,
          431,
          374,
          374,
          402,
          402,
          374,
          373,
          373,
          362,
          345,
          345,
          345,
          260,
          210,
          395,
          260,
          330,
          395,
          280,
          270,
          395,
          395,
          250,
          260
         ],
         "x0": " ",
         "xaxis": "x",
         "y0": " ",
         "yaxis": "y"
        }
       ],
       "layout": {
        "boxmode": "group",
        "height": 500,
        "legend": {
         "tracegroupgap": 0
        },
        "template": {
         "data": {
          "bar": [
           {
            "error_x": {
             "color": "#2a3f5f"
            },
            "error_y": {
             "color": "#2a3f5f"
            },
            "marker": {
             "line": {
              "color": "#E5ECF6",
              "width": 0.5
             },
             "pattern": {
              "fillmode": "overlay",
              "size": 10,
              "solidity": 0.2
             }
            },
            "type": "bar"
           }
          ],
          "barpolar": [
           {
            "marker": {
             "line": {
              "color": "#E5ECF6",
              "width": 0.5
             },
             "pattern": {
              "fillmode": "overlay",
              "size": 10,
              "solidity": 0.2
             }
            },
            "type": "barpolar"
           }
          ],
          "carpet": [
           {
            "aaxis": {
             "endlinecolor": "#2a3f5f",
             "gridcolor": "white",
             "linecolor": "white",
             "minorgridcolor": "white",
             "startlinecolor": "#2a3f5f"
            },
            "baxis": {
             "endlinecolor": "#2a3f5f",
             "gridcolor": "white",
             "linecolor": "white",
             "minorgridcolor": "white",
             "startlinecolor": "#2a3f5f"
            },
            "type": "carpet"
           }
          ],
          "choropleth": [
           {
            "colorbar": {
             "outlinewidth": 0,
             "ticks": ""
            },
            "type": "choropleth"
           }
          ],
          "contour": [
           {
            "colorbar": {
             "outlinewidth": 0,
             "ticks": ""
            },
            "colorscale": [
             [
              0,
              "#0d0887"
             ],
             [
              0.1111111111111111,
              "#46039f"
             ],
             [
              0.2222222222222222,
              "#7201a8"
             ],
             [
              0.3333333333333333,
              "#9c179e"
             ],
             [
              0.4444444444444444,
              "#bd3786"
             ],
             [
              0.5555555555555556,
              "#d8576b"
             ],
             [
              0.6666666666666666,
              "#ed7953"
             ],
             [
              0.7777777777777778,
              "#fb9f3a"
             ],
             [
              0.8888888888888888,
              "#fdca26"
             ],
             [
              1,
              "#f0f921"
             ]
            ],
            "type": "contour"
           }
          ],
          "contourcarpet": [
           {
            "colorbar": {
             "outlinewidth": 0,
             "ticks": ""
            },
            "type": "contourcarpet"
           }
          ],
          "heatmap": [
           {
            "colorbar": {
             "outlinewidth": 0,
             "ticks": ""
            },
            "colorscale": [
             [
              0,
              "#0d0887"
             ],
             [
              0.1111111111111111,
              "#46039f"
             ],
             [
              0.2222222222222222,
              "#7201a8"
             ],
             [
              0.3333333333333333,
              "#9c179e"
             ],
             [
              0.4444444444444444,
              "#bd3786"
             ],
             [
              0.5555555555555556,
              "#d8576b"
             ],
             [
              0.6666666666666666,
              "#ed7953"
             ],
             [
              0.7777777777777778,
              "#fb9f3a"
             ],
             [
              0.8888888888888888,
              "#fdca26"
             ],
             [
              1,
              "#f0f921"
             ]
            ],
            "type": "heatmap"
           }
          ],
          "heatmapgl": [
           {
            "colorbar": {
             "outlinewidth": 0,
             "ticks": ""
            },
            "colorscale": [
             [
              0,
              "#0d0887"
             ],
             [
              0.1111111111111111,
              "#46039f"
             ],
             [
              0.2222222222222222,
              "#7201a8"
             ],
             [
              0.3333333333333333,
              "#9c179e"
             ],
             [
              0.4444444444444444,
              "#bd3786"
             ],
             [
              0.5555555555555556,
              "#d8576b"
             ],
             [
              0.6666666666666666,
              "#ed7953"
             ],
             [
              0.7777777777777778,
              "#fb9f3a"
             ],
             [
              0.8888888888888888,
              "#fdca26"
             ],
             [
              1,
              "#f0f921"
             ]
            ],
            "type": "heatmapgl"
           }
          ],
          "histogram": [
           {
            "marker": {
             "pattern": {
              "fillmode": "overlay",
              "size": 10,
              "solidity": 0.2
             }
            },
            "type": "histogram"
           }
          ],
          "histogram2d": [
           {
            "colorbar": {
             "outlinewidth": 0,
             "ticks": ""
            },
            "colorscale": [
             [
              0,
              "#0d0887"
             ],
             [
              0.1111111111111111,
              "#46039f"
             ],
             [
              0.2222222222222222,
              "#7201a8"
             ],
             [
              0.3333333333333333,
              "#9c179e"
             ],
             [
              0.4444444444444444,
              "#bd3786"
             ],
             [
              0.5555555555555556,
              "#d8576b"
             ],
             [
              0.6666666666666666,
              "#ed7953"
             ],
             [
              0.7777777777777778,
              "#fb9f3a"
             ],
             [
              0.8888888888888888,
              "#fdca26"
             ],
             [
              1,
              "#f0f921"
             ]
            ],
            "type": "histogram2d"
           }
          ],
          "histogram2dcontour": [
           {
            "colorbar": {
             "outlinewidth": 0,
             "ticks": ""
            },
            "colorscale": [
             [
              0,
              "#0d0887"
             ],
             [
              0.1111111111111111,
              "#46039f"
             ],
             [
              0.2222222222222222,
              "#7201a8"
             ],
             [
              0.3333333333333333,
              "#9c179e"
             ],
             [
              0.4444444444444444,
              "#bd3786"
             ],
             [
              0.5555555555555556,
              "#d8576b"
             ],
             [
              0.6666666666666666,
              "#ed7953"
             ],
             [
              0.7777777777777778,
              "#fb9f3a"
             ],
             [
              0.8888888888888888,
              "#fdca26"
             ],
             [
              1,
              "#f0f921"
             ]
            ],
            "type": "histogram2dcontour"
           }
          ],
          "mesh3d": [
           {
            "colorbar": {
             "outlinewidth": 0,
             "ticks": ""
            },
            "type": "mesh3d"
           }
          ],
          "parcoords": [
           {
            "line": {
             "colorbar": {
              "outlinewidth": 0,
              "ticks": ""
             }
            },
            "type": "parcoords"
           }
          ],
          "pie": [
           {
            "automargin": true,
            "type": "pie"
           }
          ],
          "scatter": [
           {
            "fillpattern": {
             "fillmode": "overlay",
             "size": 10,
             "solidity": 0.2
            },
            "type": "scatter"
           }
          ],
          "scatter3d": [
           {
            "line": {
             "colorbar": {
              "outlinewidth": 0,
              "ticks": ""
             }
            },
            "marker": {
             "colorbar": {
              "outlinewidth": 0,
              "ticks": ""
             }
            },
            "type": "scatter3d"
           }
          ],
          "scattercarpet": [
           {
            "marker": {
             "colorbar": {
              "outlinewidth": 0,
              "ticks": ""
             }
            },
            "type": "scattercarpet"
           }
          ],
          "scattergeo": [
           {
            "marker": {
             "colorbar": {
              "outlinewidth": 0,
              "ticks": ""
             }
            },
            "type": "scattergeo"
           }
          ],
          "scattergl": [
           {
            "marker": {
             "colorbar": {
              "outlinewidth": 0,
              "ticks": ""
             }
            },
            "type": "scattergl"
           }
          ],
          "scattermapbox": [
           {
            "marker": {
             "colorbar": {
              "outlinewidth": 0,
              "ticks": ""
             }
            },
            "type": "scattermapbox"
           }
          ],
          "scatterpolar": [
           {
            "marker": {
             "colorbar": {
              "outlinewidth": 0,
              "ticks": ""
             }
            },
            "type": "scatterpolar"
           }
          ],
          "scatterpolargl": [
           {
            "marker": {
             "colorbar": {
              "outlinewidth": 0,
              "ticks": ""
             }
            },
            "type": "scatterpolargl"
           }
          ],
          "scatterternary": [
           {
            "marker": {
             "colorbar": {
              "outlinewidth": 0,
              "ticks": ""
             }
            },
            "type": "scatterternary"
           }
          ],
          "surface": [
           {
            "colorbar": {
             "outlinewidth": 0,
             "ticks": ""
            },
            "colorscale": [
             [
              0,
              "#0d0887"
             ],
             [
              0.1111111111111111,
              "#46039f"
             ],
             [
              0.2222222222222222,
              "#7201a8"
             ],
             [
              0.3333333333333333,
              "#9c179e"
             ],
             [
              0.4444444444444444,
              "#bd3786"
             ],
             [
              0.5555555555555556,
              "#d8576b"
             ],
             [
              0.6666666666666666,
              "#ed7953"
             ],
             [
              0.7777777777777778,
              "#fb9f3a"
             ],
             [
              0.8888888888888888,
              "#fdca26"
             ],
             [
              1,
              "#f0f921"
             ]
            ],
            "type": "surface"
           }
          ],
          "table": [
           {
            "cells": {
             "fill": {
              "color": "#EBF0F8"
             },
             "line": {
              "color": "white"
             }
            },
            "header": {
             "fill": {
              "color": "#C8D4E3"
             },
             "line": {
              "color": "white"
             }
            },
            "type": "table"
           }
          ]
         },
         "layout": {
          "annotationdefaults": {
           "arrowcolor": "#2a3f5f",
           "arrowhead": 0,
           "arrowwidth": 1
          },
          "autotypenumbers": "strict",
          "coloraxis": {
           "colorbar": {
            "outlinewidth": 0,
            "ticks": ""
           }
          },
          "colorscale": {
           "diverging": [
            [
             0,
             "#8e0152"
            ],
            [
             0.1,
             "#c51b7d"
            ],
            [
             0.2,
             "#de77ae"
            ],
            [
             0.3,
             "#f1b6da"
            ],
            [
             0.4,
             "#fde0ef"
            ],
            [
             0.5,
             "#f7f7f7"
            ],
            [
             0.6,
             "#e6f5d0"
            ],
            [
             0.7,
             "#b8e186"
            ],
            [
             0.8,
             "#7fbc41"
            ],
            [
             0.9,
             "#4d9221"
            ],
            [
             1,
             "#276419"
            ]
           ],
           "sequential": [
            [
             0,
             "#0d0887"
            ],
            [
             0.1111111111111111,
             "#46039f"
            ],
            [
             0.2222222222222222,
             "#7201a8"
            ],
            [
             0.3333333333333333,
             "#9c179e"
            ],
            [
             0.4444444444444444,
             "#bd3786"
            ],
            [
             0.5555555555555556,
             "#d8576b"
            ],
            [
             0.6666666666666666,
             "#ed7953"
            ],
            [
             0.7777777777777778,
             "#fb9f3a"
            ],
            [
             0.8888888888888888,
             "#fdca26"
            ],
            [
             1,
             "#f0f921"
            ]
           ],
           "sequentialminus": [
            [
             0,
             "#0d0887"
            ],
            [
             0.1111111111111111,
             "#46039f"
            ],
            [
             0.2222222222222222,
             "#7201a8"
            ],
            [
             0.3333333333333333,
             "#9c179e"
            ],
            [
             0.4444444444444444,
             "#bd3786"
            ],
            [
             0.5555555555555556,
             "#d8576b"
            ],
            [
             0.6666666666666666,
             "#ed7953"
            ],
            [
             0.7777777777777778,
             "#fb9f3a"
            ],
            [
             0.8888888888888888,
             "#fdca26"
            ],
            [
             1,
             "#f0f921"
            ]
           ]
          },
          "colorway": [
           "#636efa",
           "#EF553B",
           "#00cc96",
           "#ab63fa",
           "#FFA15A",
           "#19d3f3",
           "#FF6692",
           "#B6E880",
           "#FF97FF",
           "#FECB52"
          ],
          "font": {
           "color": "#2a3f5f"
          },
          "geo": {
           "bgcolor": "white",
           "lakecolor": "white",
           "landcolor": "#E5ECF6",
           "showlakes": true,
           "showland": true,
           "subunitcolor": "white"
          },
          "hoverlabel": {
           "align": "left"
          },
          "hovermode": "closest",
          "mapbox": {
           "style": "light"
          },
          "paper_bgcolor": "white",
          "plot_bgcolor": "#E5ECF6",
          "polar": {
           "angularaxis": {
            "gridcolor": "white",
            "linecolor": "white",
            "ticks": ""
           },
           "bgcolor": "#E5ECF6",
           "radialaxis": {
            "gridcolor": "white",
            "linecolor": "white",
            "ticks": ""
           }
          },
          "scene": {
           "xaxis": {
            "backgroundcolor": "#E5ECF6",
            "gridcolor": "white",
            "gridwidth": 2,
            "linecolor": "white",
            "showbackground": true,
            "ticks": "",
            "zerolinecolor": "white"
           },
           "yaxis": {
            "backgroundcolor": "#E5ECF6",
            "gridcolor": "white",
            "gridwidth": 2,
            "linecolor": "white",
            "showbackground": true,
            "ticks": "",
            "zerolinecolor": "white"
           },
           "zaxis": {
            "backgroundcolor": "#E5ECF6",
            "gridcolor": "white",
            "gridwidth": 2,
            "linecolor": "white",
            "showbackground": true,
            "ticks": "",
            "zerolinecolor": "white"
           }
          },
          "shapedefaults": {
           "line": {
            "color": "#2a3f5f"
           }
          },
          "ternary": {
           "aaxis": {
            "gridcolor": "white",
            "linecolor": "white",
            "ticks": ""
           },
           "baxis": {
            "gridcolor": "white",
            "linecolor": "white",
            "ticks": ""
           },
           "bgcolor": "#E5ECF6",
           "caxis": {
            "gridcolor": "white",
            "linecolor": "white",
            "ticks": ""
           }
          },
          "title": {
           "x": 0.05
          },
          "xaxis": {
           "automargin": true,
           "gridcolor": "white",
           "linecolor": "white",
           "ticks": "",
           "title": {
            "standoff": 15
           },
           "zerolinecolor": "white",
           "zerolinewidth": 2
          },
          "yaxis": {
           "automargin": true,
           "gridcolor": "white",
           "linecolor": "white",
           "ticks": "",
           "title": {
            "standoff": 15
           },
           "zerolinecolor": "white",
           "zerolinewidth": 2
          }
         }
        },
        "title": {
         "text": "Box Plot of Prices for Best Sellers"
        },
        "width": 800,
        "xaxis": {
         "anchor": "y",
         "domain": [
          0,
          1
         ],
         "title": {
          "text": "Prices"
         }
        },
        "yaxis": {
         "anchor": "x",
         "domain": [
          0,
          1
         ]
        }
       }
      }
     },
     "metadata": {},
     "output_type": "display_data"
    }
   ],
   "source": [
    "# plot boxplot of prices of best-selling items\n",
    "\n",
    "fig = px.box(df_chennai_chinese[df_chennai_chinese['best_seller'] == 1], x='prices', title='Box Plot of Prices for Best Sellers')\n",
    "fig.update_layout(xaxis_title='Prices')\n",
    "\n",
    "# set the plot size\n",
    "fig.update_layout(width=800, height=500)\n",
    "\n",
    "# show the plot\n",
    "fig.show()"
   ]
  },
  {
   "cell_type": "markdown",
   "metadata": {
    "id": "auipnH7clEEb"
   },
   "source": [
    "### **6. Competitor Analysis**"
   ]
  },
  {
   "cell_type": "code",
   "execution_count": 53,
   "metadata": {
    "colab": {
     "base_uri": "https://localhost:8080/",
     "height": 331
    },
    "id": "99lOvdVWlIwT",
    "outputId": "32a94f9a-1d7b-41c4-e0ce-2869178ab186"
   },
   "outputs": [
    {
     "data": {
      "text/html": [
       "<div>\n",
       "<style scoped>\n",
       "    .dataframe tbody tr th:only-of-type {\n",
       "        vertical-align: middle;\n",
       "    }\n",
       "\n",
       "    .dataframe tbody tr th {\n",
       "        vertical-align: top;\n",
       "    }\n",
       "\n",
       "    .dataframe thead th {\n",
       "        text-align: right;\n",
       "    }\n",
       "</style>\n",
       "<table border=\"1\" class=\"dataframe\">\n",
       "  <thead>\n",
       "    <tr style=\"text-align: right;\">\n",
       "      <th></th>\n",
       "      <th>total_votes</th>\n",
       "      <th>best_selling_items</th>\n",
       "      <th>average_price</th>\n",
       "    </tr>\n",
       "    <tr>\n",
       "      <th>restaurant_name</th>\n",
       "      <th></th>\n",
       "      <th></th>\n",
       "      <th></th>\n",
       "    </tr>\n",
       "  </thead>\n",
       "  <tbody>\n",
       "    <tr>\n",
       "      <th>Savoury Sea Shell</th>\n",
       "      <td>4151</td>\n",
       "      <td>14</td>\n",
       "      <td>342.618375</td>\n",
       "    </tr>\n",
       "    <tr>\n",
       "      <th>Kim Ling Chinese Restaurant</th>\n",
       "      <td>1489</td>\n",
       "      <td>12</td>\n",
       "      <td>293.631179</td>\n",
       "    </tr>\n",
       "    <tr>\n",
       "      <th>BBQ Master</th>\n",
       "      <td>1426</td>\n",
       "      <td>12</td>\n",
       "      <td>214.914894</td>\n",
       "    </tr>\n",
       "    <tr>\n",
       "      <th>Nxtdoor</th>\n",
       "      <td>1282</td>\n",
       "      <td>0</td>\n",
       "      <td>167.662022</td>\n",
       "    </tr>\n",
       "    <tr>\n",
       "      <th>WOW! China</th>\n",
       "      <td>761</td>\n",
       "      <td>8</td>\n",
       "      <td>264.004202</td>\n",
       "    </tr>\n",
       "    <tr>\n",
       "      <th>Ponnusamy Hotel</th>\n",
       "      <td>182</td>\n",
       "      <td>9</td>\n",
       "      <td>237.965986</td>\n",
       "    </tr>\n",
       "    <tr>\n",
       "      <th>Grill A Delics</th>\n",
       "      <td>138</td>\n",
       "      <td>11</td>\n",
       "      <td>253.671756</td>\n",
       "    </tr>\n",
       "    <tr>\n",
       "      <th>Wangs Kitchen</th>\n",
       "      <td>76</td>\n",
       "      <td>14</td>\n",
       "      <td>403.135135</td>\n",
       "    </tr>\n",
       "  </tbody>\n",
       "</table>\n",
       "</div>"
      ],
      "text/plain": [
       "                             total_votes  best_selling_items  average_price\n",
       "restaurant_name                                                            \n",
       "Savoury Sea Shell                   4151                  14     342.618375\n",
       "Kim Ling Chinese Restaurant         1489                  12     293.631179\n",
       "BBQ Master                          1426                  12     214.914894\n",
       "Nxtdoor                             1282                   0     167.662022\n",
       "WOW! China                           761                   8     264.004202\n",
       "Ponnusamy Hotel                      182                   9     237.965986\n",
       "Grill A Delics                       138                  11     253.671756\n",
       "Wangs Kitchen                         76                  14     403.135135"
      ]
     },
     "execution_count": 53,
     "metadata": {},
     "output_type": "execute_result"
    }
   ],
   "source": [
    "# group data by restaurant name\n",
    "grouped_data = df_chennai_chinese.groupby('restaurant_name')\n",
    "\n",
    "# calculate the number of best-selling items and average price for each restaurant\n",
    "summary_data = grouped_data.agg(\n",
    "    total_votes=pd.NamedAgg(column='item_votes', aggfunc='sum'),\n",
    "    best_selling_items=pd.NamedAgg(column='best_seller', aggfunc='sum'),\n",
    "    average_price=pd.NamedAgg(column='prices', aggfunc='mean')\n",
    ")\n",
    "\n",
    "# sort the data in descending order based on total votes\n",
    "summary_data = summary_data.sort_values(by='total_votes', ascending=False)\n",
    "\n",
    "# show the results\n",
    "summary_data[['total_votes', 'best_selling_items', 'average_price']]"
   ]
  },
  {
   "cell_type": "markdown",
   "metadata": {},
   "source": [
    "# Restaurant Business Analysis Project\n",
    "\n",
    "This project successfully accomplished its aim of providing thorough insights for aspiring restaurant owners, addressing key facets crucial for business success.\n",
    "\n",
    "## Key Findings\n",
    "\n",
    "### 1. **City Analysis**\n",
    "- Identified the best-suited locations for opening a restaurant by considering factors like engagement and competition.\n",
    "- **Result**: Chennai emerged as the optimal location, showcasing substantial engagement potential despite fewer restaurants.\n",
    "\n",
    "### 2. **Cuisine Analysis**\n",
    "- Explored customer preferences to highlight popular cuisines, aiding strategic menu planning.\n",
    "- **Result**: Chinese cuisine was identified as the most promising option due to significant engagement and best-selling items, indicating a lucrative market opportunity.\n",
    "\n",
    "### 3. **Dining Type Analysis**\n",
    "- Analyzed customer preferences for dining versus delivery services.\n",
    "- **Result**: Versatility in service (offering both dining and delivery options) proved to maximize customer engagement.\n",
    "\n",
    "### 4. **Best Selling Items Analysis**\n",
    "- Identified dishes with high customer appeal to guide menu curation.\n",
    "- **Result**: Chicken-based dishes dominated, providing direction for strategic menu decisions.\n",
    "\n",
    "### 5. **Price Range Analysis**\n",
    "- Determined the optimal pricing strategy for maximizing customer acceptance and profitability.\n",
    "- **Result**: The ideal pricing for Chinese cuisine in Chennai ranged between **₹260 to ₹365**.\n",
    "\n",
    "### 6. **Competitor Analysis**\n",
    "- Offered insights into the local restaurant landscape by studying top competitors.\n",
    "- **Result**: *Savoury Sea Shell* led the competition with high engagement, numerous best-selling items, and competitive pricing.\n",
    "\n",
    "These collective findings equip prospective restaurant owners with a well-rounded understanding, enabling informed decision-making and navigation of the restaurant business complexities.\n",
    "\n",
    "---\n",
    "\n",
    "## Future Work\n",
    "\n",
    "### **Improvements in the Current Project**\n",
    "1. **Data Authenticity**  \n",
    "   - Use the Zomato API to source real-time and authenticated data, replacing the contributed dataset from Kaggle.\n",
    "2. **Broader Dataset**  \n",
    "   - Expand the dataset to include cities beyond the 13 major ones for a more comprehensive analysis of India's restaurant landscape.\n",
    "3. **Sales and Profit Analysis**  \n",
    "   - Incorporate sales and profit data for restaurants and food items to better measure success instead of relying solely on engagement metrics like votes.\n",
    "4. **Address Data Ambiguity**  \n",
    "   - Resolve ambiguities such as overlapping cuisine categories or miscellaneous information in the \"best_seller\" column for more precise analysis.\n",
    "5. **Holistic Analyses**  \n",
    "   - Include additional factors like customer demographics, seasonal trends, and external economic factors for deeper insights.\n",
    "\n",
    "### **Recommendations for Future Work**\n",
    "1. **Sentiment Analysis**  \n",
    "   - Extract and analyze review data to perform sentiment analysis, offering insights into customer satisfaction and preferences.\n",
    "2. **Real-time Data Feeds**  \n",
    "   - Integrate real-time data feeds for dynamic adjustments to menu offerings and pricing strategies, aligning with current market trends and customer preferences.\n",
    "\n",
    "---\n",
    "\n",
    "By addressing these improvements and recommendations, the project can evolve into a more robust and comprehensive tool for restaurant business analysis.\n"
   ]
  }
 ],
 "metadata": {
  "colab": {
   "collapsed_sections": [
    "RjdGAtUWg8hc"
   ],
   "provenance": [],
   "toc_visible": true
  },
  "kernelspec": {
   "display_name": "base",
   "language": "python",
   "name": "python3"
  },
  "language_info": {
   "codemirror_mode": {
    "name": "ipython",
    "version": 3
   },
   "file_extension": ".py",
   "mimetype": "text/x-python",
   "name": "python",
   "nbconvert_exporter": "python",
   "pygments_lexer": "ipython3",
   "version": "3.12.4"
  }
 },
 "nbformat": 4,
 "nbformat_minor": 0
}
